{
 "cells": [
  {
   "cell_type": "markdown",
   "id": "bb6674bc",
   "metadata": {},
   "source": [
    "# PROJECT 1: IMPACTS OF COVID-19 VACCINATION STATUS"
   ]
  },
  {
   "cell_type": "markdown",
   "id": "f90726e3",
   "metadata": {},
   "source": [
    "**Note:** Hey Team, Below is a template that I created for us to add our code snippets. Please add additional dependencies as needed. See the order of analysis to find our area. Feel free to change the headings.. this is just a template."
   ]
  },
  {
   "cell_type": "markdown",
   "id": "1cce1439",
   "metadata": {},
   "source": [
    "### Description of Project\n",
    "\n"
   ]
  },
  {
   "cell_type": "markdown",
   "id": "1994107f",
   "metadata": {},
   "source": [
    "### Order of Analysis\n",
    "\n",
    "* COVID-19 Vaccination information for the Unitied States\n",
    "* COVID-19 Vaccination for Age\n",
    "* COVID-19 Vaccination for Sex\n",
    "* COVID-19 Vaccination for Pregnancy\n",
    "* COVID-19 Vaccination for Race/Ethnicity"
   ]
  },
  {
   "cell_type": "markdown",
   "id": "c45ea6e5",
   "metadata": {},
   "source": [
    "## Importing dependencies"
   ]
  },
  {
   "cell_type": "code",
   "execution_count": 1,
   "id": "db01196f",
   "metadata": {},
   "outputs": [],
   "source": [
    "import pandas as pd\n",
    "import matplotlib.pyplot as plt\n",
    "import os\n",
    "import scipy.stats as st\n",
    "from scipy.stats import linregress\n",
    "import numpy as np\n",
    "\n",
    "import csv"
   ]
  },
  {
   "cell_type": "markdown",
   "id": "cd43edc3",
   "metadata": {},
   "source": [
    "## COVID-19 Vaccination - United States"
   ]
  },
  {
   "cell_type": "markdown",
   "id": "b26b875e",
   "metadata": {},
   "source": [
    "### Clean COVID-19 Vaccination Data"
   ]
  },
  {
   "cell_type": "code",
   "execution_count": null,
   "id": "32cc3438",
   "metadata": {},
   "outputs": [],
   "source": []
  },
  {
   "cell_type": "code",
   "execution_count": null,
   "id": "b325e688",
   "metadata": {},
   "outputs": [],
   "source": []
  },
  {
   "cell_type": "markdown",
   "id": "aa1f9423",
   "metadata": {},
   "source": [
    "### Graphicial Representation of the Data"
   ]
  },
  {
   "cell_type": "code",
   "execution_count": null,
   "id": "8a623f1f",
   "metadata": {},
   "outputs": [],
   "source": []
  },
  {
   "cell_type": "code",
   "execution_count": null,
   "id": "c1f80cf3",
   "metadata": {},
   "outputs": [],
   "source": []
  },
  {
   "cell_type": "markdown",
   "id": "eac6b795",
   "metadata": {},
   "source": [
    "### COVID Deaths by vaccination status"
   ]
  },
  {
   "cell_type": "code",
   "execution_count": null,
   "id": "8142fd2e",
   "metadata": {},
   "outputs": [],
   "source": []
  },
  {
   "cell_type": "code",
   "execution_count": null,
   "id": "d58d6e64",
   "metadata": {},
   "outputs": [],
   "source": []
  },
  {
   "cell_type": "markdown",
   "id": "ef834296",
   "metadata": {},
   "source": [
    "### Summary Statistics"
   ]
  },
  {
   "cell_type": "code",
   "execution_count": null,
   "id": "ac8fcce3",
   "metadata": {},
   "outputs": [],
   "source": []
  },
  {
   "cell_type": "code",
   "execution_count": null,
   "id": "2ca95000",
   "metadata": {},
   "outputs": [],
   "source": []
  },
  {
   "cell_type": "markdown",
   "id": "af59ca56",
   "metadata": {},
   "source": [
    "### Summary Analysis"
   ]
  },
  {
   "cell_type": "code",
   "execution_count": null,
   "id": "12d0a09a",
   "metadata": {},
   "outputs": [],
   "source": []
  },
  {
   "cell_type": "code",
   "execution_count": null,
   "id": "56566d8c",
   "metadata": {},
   "outputs": [],
   "source": []
  },
  {
   "cell_type": "markdown",
   "id": "38e3b403",
   "metadata": {},
   "source": [
    "## COVID-19 Vaccination - Age"
   ]
  },
  {
   "cell_type": "markdown",
   "id": "204073eb",
   "metadata": {},
   "source": [
    "### Clean COVID-19 Vaccination Data"
   ]
  },
  {
   "cell_type": "code",
   "execution_count": null,
   "id": "0e4103fa",
   "metadata": {},
   "outputs": [],
   "source": []
  },
  {
   "cell_type": "code",
   "execution_count": null,
   "id": "20d1c0fd",
   "metadata": {},
   "outputs": [],
   "source": []
  },
  {
   "cell_type": "code",
   "execution_count": null,
   "id": "921eda35",
   "metadata": {},
   "outputs": [],
   "source": []
  },
  {
   "cell_type": "markdown",
   "id": "ad068905",
   "metadata": {},
   "source": [
    "### Graphicial Representation of the Data"
   ]
  },
  {
   "cell_type": "code",
   "execution_count": null,
   "id": "110983ff",
   "metadata": {},
   "outputs": [],
   "source": []
  },
  {
   "cell_type": "code",
   "execution_count": null,
   "id": "6e36f854",
   "metadata": {},
   "outputs": [],
   "source": []
  },
  {
   "cell_type": "markdown",
   "id": "dbe48e57",
   "metadata": {},
   "source": [
    "### COVID Deaths by Age "
   ]
  },
  {
   "cell_type": "code",
   "execution_count": null,
   "id": "bc3b08ef",
   "metadata": {},
   "outputs": [],
   "source": []
  },
  {
   "cell_type": "code",
   "execution_count": null,
   "id": "3bada7cf",
   "metadata": {},
   "outputs": [],
   "source": []
  },
  {
   "cell_type": "markdown",
   "id": "0ca03e0c",
   "metadata": {},
   "source": [
    "### Summary Statistics"
   ]
  },
  {
   "cell_type": "code",
   "execution_count": null,
   "id": "3bbfe2f2",
   "metadata": {},
   "outputs": [],
   "source": []
  },
  {
   "cell_type": "code",
   "execution_count": null,
   "id": "b0091ca4",
   "metadata": {},
   "outputs": [],
   "source": []
  },
  {
   "cell_type": "markdown",
   "id": "6a4e2fd1",
   "metadata": {},
   "source": [
    "### Summary Analysis"
   ]
  },
  {
   "cell_type": "code",
   "execution_count": null,
   "id": "91390ac8",
   "metadata": {},
   "outputs": [],
   "source": []
  },
  {
   "cell_type": "code",
   "execution_count": null,
   "id": "342dacc2",
   "metadata": {},
   "outputs": [],
   "source": []
  },
  {
   "cell_type": "markdown",
   "id": "1a540ca8",
   "metadata": {},
   "source": [
    "## COVID-19 Vaccination - Sex"
   ]
  },
  {
   "cell_type": "markdown",
   "id": "584e8f70",
   "metadata": {},
   "source": [
    "### Clean COVID-19 Vaccination Data"
   ]
  },
  {
   "cell_type": "code",
   "execution_count": null,
   "id": "be009143",
   "metadata": {},
   "outputs": [],
   "source": []
  },
  {
   "cell_type": "code",
   "execution_count": null,
   "id": "69775453",
   "metadata": {},
   "outputs": [],
   "source": []
  },
  {
   "cell_type": "markdown",
   "id": "7fb5297d",
   "metadata": {},
   "source": [
    "### Graphicial Representation of the Data"
   ]
  },
  {
   "cell_type": "code",
   "execution_count": null,
   "id": "62ac4100",
   "metadata": {},
   "outputs": [],
   "source": []
  },
  {
   "cell_type": "code",
   "execution_count": null,
   "id": "2a808841",
   "metadata": {},
   "outputs": [],
   "source": []
  },
  {
   "cell_type": "markdown",
   "id": "de6013b5",
   "metadata": {},
   "source": [
    "### COVID Deaths by Sex"
   ]
  },
  {
   "cell_type": "code",
   "execution_count": null,
   "id": "477e3091",
   "metadata": {},
   "outputs": [],
   "source": []
  },
  {
   "cell_type": "code",
   "execution_count": null,
   "id": "02749664",
   "metadata": {},
   "outputs": [],
   "source": []
  },
  {
   "cell_type": "markdown",
   "id": "19b31424",
   "metadata": {},
   "source": [
    "### Summary Statistics"
   ]
  },
  {
   "cell_type": "code",
   "execution_count": null,
   "id": "4acbd719",
   "metadata": {},
   "outputs": [],
   "source": []
  },
  {
   "cell_type": "code",
   "execution_count": null,
   "id": "8911b7c0",
   "metadata": {},
   "outputs": [],
   "source": []
  },
  {
   "cell_type": "markdown",
   "id": "0815e9fd",
   "metadata": {},
   "source": [
    "### Summary Analysis"
   ]
  },
  {
   "cell_type": "code",
   "execution_count": null,
   "id": "bcec53e3",
   "metadata": {},
   "outputs": [],
   "source": []
  },
  {
   "cell_type": "code",
   "execution_count": null,
   "id": "f565ad8f",
   "metadata": {},
   "outputs": [],
   "source": []
  },
  {
   "cell_type": "markdown",
   "id": "dea395b8",
   "metadata": {},
   "source": [
    "## COVID-19 Vaccination - Pregnancy"
   ]
  },
  {
   "cell_type": "markdown",
   "id": "fb0da89c",
   "metadata": {},
   "source": [
    "### Clean COVID-19 Vaccination Data"
   ]
  },
  {
   "cell_type": "code",
   "execution_count": 3,
   "id": "5f834bb1",
   "metadata": {},
   "outputs": [],
   "source": [
    "#Create DF\n",
    "preg_file = \"Resources/pregnancy_data5.0.csv\"\n",
    "data_df = pd.read_csv(preg_file)\n",
    "\n",
    "\n",
    "# Convert the date to datetime64\n",
    "data_df[\"Week_Ending_Date\"] = pd.to_datetime(data_df[\"Week_Ending_Date\"], format='%Y-%m-%d')\n",
    "\n",
    "#Filter Vaccinated - All Races\n",
    "grouped_filter = data_df.groupby([\"Week_Ending_Date\"])[\"Vaccination Coverage Amount\"].sum()\n",
    "grouped_filter_df = pd.DataFrame(grouped_filter)\n",
    "clean_df = grouped_filter_df.reset_index()"
   ]
  },
  {
   "cell_type": "code",
   "execution_count": 4,
   "id": "d7d2da3d",
   "metadata": {},
   "outputs": [
    {
     "data": {
      "text/plain": [
       "<function matplotlib.pyplot.show(*args, **kw)>"
      ]
     },
     "execution_count": 4,
     "metadata": {},
     "output_type": "execute_result"
    },
    {
     "data": {
      "image/png": "[encoded data removed]",
      "text/plain": [
       "<Figure size 432x288 with 1 Axes>"
      ]
     },
     "metadata": {
      "needs_background": "light"
     },
     "output_type": "display_data"
    },
    {
     "data": {
      "text/plain": [
       "<Figure size 720x1440 with 0 Axes>"
      ]
     },
     "metadata": {},
     "output_type": "display_data"
    }
   ],
   "source": [
    "#Build Line Plot \n",
    "clean_df.plot.line(x=\"Week_Ending_Date\", y=\"Vaccination Coverage Amount\")\n",
    "plt.title(\"Number of Pregnant Women Vaccinated in 2021 \")\n",
    "plt.grid()\n",
    "plt.figure(figsize=(10,20))\n",
    "plt.show"
   ]
  },
  {
   "cell_type": "code",
   "execution_count": 5,
   "id": "8109f789",
   "metadata": {},
   "outputs": [
    {
     "data": {
      "text/html": [
       "<div>\n",
       "<style scoped>\n",
       "    .dataframe tbody tr th:only-of-type {\n",
       "        vertical-align: middle;\n",
       "    }\n",
       "\n",
       "    .dataframe tbody tr th {\n",
       "        vertical-align: top;\n",
       "    }\n",
       "\n",
       "    .dataframe thead th {\n",
       "        text-align: right;\n",
       "    }\n",
       "</style>\n",
       "<table border=\"1\" class=\"dataframe\">\n",
       "  <thead>\n",
       "    <tr style=\"text-align: right;\">\n",
       "      <th></th>\n",
       "      <th>Week_Ending_Date</th>\n",
       "      <th>Vaccination Coverage Amount</th>\n",
       "      <th>Denominator</th>\n",
       "      <th>Vaccinated Coverage Percentage (%)</th>\n",
       "    </tr>\n",
       "  </thead>\n",
       "  <tbody>\n",
       "    <tr>\n",
       "      <th>0</th>\n",
       "      <td>2021-01-02</td>\n",
       "      <td>0</td>\n",
       "      <td>103216.0</td>\n",
       "      <td>0.000000</td>\n",
       "    </tr>\n",
       "    <tr>\n",
       "      <th>1</th>\n",
       "      <td>2021-01-09</td>\n",
       "      <td>207</td>\n",
       "      <td>103668.0</td>\n",
       "      <td>0.199676</td>\n",
       "    </tr>\n",
       "    <tr>\n",
       "      <th>2</th>\n",
       "      <td>2021-01-16</td>\n",
       "      <td>728</td>\n",
       "      <td>103958.0</td>\n",
       "      <td>0.700283</td>\n",
       "    </tr>\n",
       "    <tr>\n",
       "      <th>3</th>\n",
       "      <td>2021-01-23</td>\n",
       "      <td>1249</td>\n",
       "      <td>104115.0</td>\n",
       "      <td>1.199635</td>\n",
       "    </tr>\n",
       "    <tr>\n",
       "      <th>4</th>\n",
       "      <td>2021-01-30</td>\n",
       "      <td>2087</td>\n",
       "      <td>104358.0</td>\n",
       "      <td>1.999847</td>\n",
       "    </tr>\n",
       "    <tr>\n",
       "      <th>5</th>\n",
       "      <td>2021-02-06</td>\n",
       "      <td>2931</td>\n",
       "      <td>104671.0</td>\n",
       "      <td>2.800203</td>\n",
       "    </tr>\n",
       "    <tr>\n",
       "      <th>6</th>\n",
       "      <td>2021-02-13</td>\n",
       "      <td>4187</td>\n",
       "      <td>104669.0</td>\n",
       "      <td>4.000229</td>\n",
       "    </tr>\n",
       "    <tr>\n",
       "      <th>7</th>\n",
       "      <td>2021-02-20</td>\n",
       "      <td>5131</td>\n",
       "      <td>104720.0</td>\n",
       "      <td>4.899733</td>\n",
       "    </tr>\n",
       "    <tr>\n",
       "      <th>8</th>\n",
       "      <td>2021-02-27</td>\n",
       "      <td>6089</td>\n",
       "      <td>104985.0</td>\n",
       "      <td>5.799876</td>\n",
       "    </tr>\n",
       "    <tr>\n",
       "      <th>9</th>\n",
       "      <td>2021-03-06</td>\n",
       "      <td>7045</td>\n",
       "      <td>105151.0</td>\n",
       "      <td>6.699889</td>\n",
       "    </tr>\n",
       "    <tr>\n",
       "      <th>10</th>\n",
       "      <td>2021-03-13</td>\n",
       "      <td>8316</td>\n",
       "      <td>105265.0</td>\n",
       "      <td>7.900062</td>\n",
       "    </tr>\n",
       "    <tr>\n",
       "      <th>11</th>\n",
       "      <td>2021-03-20</td>\n",
       "      <td>9896</td>\n",
       "      <td>105277.0</td>\n",
       "      <td>9.399964</td>\n",
       "    </tr>\n",
       "    <tr>\n",
       "      <th>12</th>\n",
       "      <td>2021-03-27</td>\n",
       "      <td>12008</td>\n",
       "      <td>105332.0</td>\n",
       "      <td>11.400144</td>\n",
       "    </tr>\n",
       "    <tr>\n",
       "      <th>13</th>\n",
       "      <td>2021-04-03</td>\n",
       "      <td>14200</td>\n",
       "      <td>105185.0</td>\n",
       "      <td>13.500024</td>\n",
       "    </tr>\n",
       "    <tr>\n",
       "      <th>14</th>\n",
       "      <td>2021-04-10</td>\n",
       "      <td>17144</td>\n",
       "      <td>105176.0</td>\n",
       "      <td>16.300297</td>\n",
       "    </tr>\n",
       "    <tr>\n",
       "      <th>15</th>\n",
       "      <td>2021-04-17</td>\n",
       "      <td>20424</td>\n",
       "      <td>105278.0</td>\n",
       "      <td>19.400065</td>\n",
       "    </tr>\n",
       "    <tr>\n",
       "      <th>16</th>\n",
       "      <td>2021-04-24</td>\n",
       "      <td>23967</td>\n",
       "      <td>105118.0</td>\n",
       "      <td>22.800091</td>\n",
       "    </tr>\n",
       "    <tr>\n",
       "      <th>17</th>\n",
       "      <td>2021-05-01</td>\n",
       "      <td>27116</td>\n",
       "      <td>105100.0</td>\n",
       "      <td>25.800190</td>\n",
       "    </tr>\n",
       "    <tr>\n",
       "      <th>18</th>\n",
       "      <td>2021-05-08</td>\n",
       "      <td>30168</td>\n",
       "      <td>105116.0</td>\n",
       "      <td>28.699722</td>\n",
       "    </tr>\n",
       "    <tr>\n",
       "      <th>19</th>\n",
       "      <td>2021-05-15</td>\n",
       "      <td>32928</td>\n",
       "      <td>105201.0</td>\n",
       "      <td>31.300083</td>\n",
       "    </tr>\n",
       "    <tr>\n",
       "      <th>20</th>\n",
       "      <td>2021-05-22</td>\n",
       "      <td>35418</td>\n",
       "      <td>105411.0</td>\n",
       "      <td>33.599909</td>\n",
       "    </tr>\n",
       "    <tr>\n",
       "      <th>21</th>\n",
       "      <td>2021-05-29</td>\n",
       "      <td>37551</td>\n",
       "      <td>105479.0</td>\n",
       "      <td>35.600451</td>\n",
       "    </tr>\n",
       "    <tr>\n",
       "      <th>22</th>\n",
       "      <td>2021-06-05</td>\n",
       "      <td>39322</td>\n",
       "      <td>105422.0</td>\n",
       "      <td>37.299615</td>\n",
       "    </tr>\n",
       "    <tr>\n",
       "      <th>23</th>\n",
       "      <td>2021-06-12</td>\n",
       "      <td>41166</td>\n",
       "      <td>105553.0</td>\n",
       "      <td>39.000313</td>\n",
       "    </tr>\n",
       "    <tr>\n",
       "      <th>24</th>\n",
       "      <td>2021-06-19</td>\n",
       "      <td>42675</td>\n",
       "      <td>105631.0</td>\n",
       "      <td>40.400072</td>\n",
       "    </tr>\n",
       "    <tr>\n",
       "      <th>25</th>\n",
       "      <td>2021-06-26</td>\n",
       "      <td>43991</td>\n",
       "      <td>105747.0</td>\n",
       "      <td>41.600235</td>\n",
       "    </tr>\n",
       "    <tr>\n",
       "      <th>26</th>\n",
       "      <td>2021-07-03</td>\n",
       "      <td>45220</td>\n",
       "      <td>105654.0</td>\n",
       "      <td>42.800083</td>\n",
       "    </tr>\n",
       "    <tr>\n",
       "      <th>27</th>\n",
       "      <td>2021-07-10</td>\n",
       "      <td>46451</td>\n",
       "      <td>105571.0</td>\n",
       "      <td>43.999773</td>\n",
       "    </tr>\n",
       "    <tr>\n",
       "      <th>28</th>\n",
       "      <td>2021-07-17</td>\n",
       "      <td>47516</td>\n",
       "      <td>105590.0</td>\n",
       "      <td>45.000474</td>\n",
       "    </tr>\n",
       "    <tr>\n",
       "      <th>29</th>\n",
       "      <td>2021-07-24</td>\n",
       "      <td>48705</td>\n",
       "      <td>105650.0</td>\n",
       "      <td>46.100331</td>\n",
       "    </tr>\n",
       "    <tr>\n",
       "      <th>30</th>\n",
       "      <td>2021-07-31</td>\n",
       "      <td>49819</td>\n",
       "      <td>105773.0</td>\n",
       "      <td>47.099922</td>\n",
       "    </tr>\n",
       "    <tr>\n",
       "      <th>31</th>\n",
       "      <td>2021-08-07</td>\n",
       "      <td>50979</td>\n",
       "      <td>105985.0</td>\n",
       "      <td>48.100203</td>\n",
       "    </tr>\n",
       "    <tr>\n",
       "      <th>32</th>\n",
       "      <td>2021-08-14</td>\n",
       "      <td>52254</td>\n",
       "      <td>105991.0</td>\n",
       "      <td>49.300412</td>\n",
       "    </tr>\n",
       "    <tr>\n",
       "      <th>33</th>\n",
       "      <td>2021-08-21</td>\n",
       "      <td>53571</td>\n",
       "      <td>106081.0</td>\n",
       "      <td>50.500090</td>\n",
       "    </tr>\n",
       "    <tr>\n",
       "      <th>34</th>\n",
       "      <td>2021-08-28</td>\n",
       "      <td>55008</td>\n",
       "      <td>105989.0</td>\n",
       "      <td>51.899725</td>\n",
       "    </tr>\n",
       "    <tr>\n",
       "      <th>35</th>\n",
       "      <td>2021-09-04</td>\n",
       "      <td>56508</td>\n",
       "      <td>106019.0</td>\n",
       "      <td>53.299880</td>\n",
       "    </tr>\n",
       "    <tr>\n",
       "      <th>36</th>\n",
       "      <td>2021-09-11</td>\n",
       "      <td>58201</td>\n",
       "      <td>106012.0</td>\n",
       "      <td>54.900389</td>\n",
       "    </tr>\n",
       "    <tr>\n",
       "      <th>37</th>\n",
       "      <td>2021-09-18</td>\n",
       "      <td>60302</td>\n",
       "      <td>106166.0</td>\n",
       "      <td>56.799729</td>\n",
       "    </tr>\n",
       "    <tr>\n",
       "      <th>38</th>\n",
       "      <td>2021-09-25</td>\n",
       "      <td>62157</td>\n",
       "      <td>106252.0</td>\n",
       "      <td>58.499605</td>\n",
       "    </tr>\n",
       "    <tr>\n",
       "      <th>39</th>\n",
       "      <td>2021-10-02</td>\n",
       "      <td>63500</td>\n",
       "      <td>106365.0</td>\n",
       "      <td>59.700089</td>\n",
       "    </tr>\n",
       "    <tr>\n",
       "      <th>40</th>\n",
       "      <td>2021-10-09</td>\n",
       "      <td>64719</td>\n",
       "      <td>106446.0</td>\n",
       "      <td>60.799842</td>\n",
       "    </tr>\n",
       "    <tr>\n",
       "      <th>41</th>\n",
       "      <td>2021-10-16</td>\n",
       "      <td>65820</td>\n",
       "      <td>106505.0</td>\n",
       "      <td>61.799915</td>\n",
       "    </tr>\n",
       "    <tr>\n",
       "      <th>42</th>\n",
       "      <td>2021-10-23</td>\n",
       "      <td>66865</td>\n",
       "      <td>106642.0</td>\n",
       "      <td>62.700437</td>\n",
       "    </tr>\n",
       "    <tr>\n",
       "      <th>43</th>\n",
       "      <td>2021-10-30</td>\n",
       "      <td>67645</td>\n",
       "      <td>106696.0</td>\n",
       "      <td>63.399753</td>\n",
       "    </tr>\n",
       "    <tr>\n",
       "      <th>44</th>\n",
       "      <td>2021-11-06</td>\n",
       "      <td>68662</td>\n",
       "      <td>106950.0</td>\n",
       "      <td>64.200094</td>\n",
       "    </tr>\n",
       "    <tr>\n",
       "      <th>45</th>\n",
       "      <td>2021-11-13</td>\n",
       "      <td>69497</td>\n",
       "      <td>107249.0</td>\n",
       "      <td>64.799672</td>\n",
       "    </tr>\n",
       "    <tr>\n",
       "      <th>46</th>\n",
       "      <td>2021-11-20</td>\n",
       "      <td>70099</td>\n",
       "      <td>107349.0</td>\n",
       "      <td>65.300096</td>\n",
       "    </tr>\n",
       "    <tr>\n",
       "      <th>47</th>\n",
       "      <td>2021-11-27</td>\n",
       "      <td>70754</td>\n",
       "      <td>107693.0</td>\n",
       "      <td>65.699721</td>\n",
       "    </tr>\n",
       "    <tr>\n",
       "      <th>48</th>\n",
       "      <td>2021-12-04</td>\n",
       "      <td>71594</td>\n",
       "      <td>108148.0</td>\n",
       "      <td>66.200022</td>\n",
       "    </tr>\n",
       "    <tr>\n",
       "      <th>49</th>\n",
       "      <td>2021-12-11</td>\n",
       "      <td>71937</td>\n",
       "      <td>108013.0</td>\n",
       "      <td>66.600317</td>\n",
       "    </tr>\n",
       "    <tr>\n",
       "      <th>50</th>\n",
       "      <td>2021-12-18</td>\n",
       "      <td>72418</td>\n",
       "      <td>108248.0</td>\n",
       "      <td>66.900081</td>\n",
       "    </tr>\n",
       "    <tr>\n",
       "      <th>51</th>\n",
       "      <td>2021-12-25</td>\n",
       "      <td>72759</td>\n",
       "      <td>108112.0</td>\n",
       "      <td>67.299652</td>\n",
       "    </tr>\n",
       "    <tr>\n",
       "      <th>52</th>\n",
       "      <td>2022-01-01</td>\n",
       "      <td>73313</td>\n",
       "      <td>108451.0</td>\n",
       "      <td>67.600114</td>\n",
       "    </tr>\n",
       "  </tbody>\n",
       "</table>\n",
       "</div>"
      ],
      "text/plain": [
       "   Week_Ending_Date  Vaccination Coverage Amount  Denominator  \\\n",
       "0        2021-01-02                            0     103216.0   \n",
       "1        2021-01-09                          207     103668.0   \n",
       "2        2021-01-16                          728     103958.0   \n",
       "3        2021-01-23                         1249     104115.0   \n",
       "4        2021-01-30                         2087     104358.0   \n",
       "5        2021-02-06                         2931     104671.0   \n",
       "6        2021-02-13                         4187     104669.0   \n",
       "7        2021-02-20                         5131     104720.0   \n",
       "8        2021-02-27                         6089     104985.0   \n",
       "9        2021-03-06                         7045     105151.0   \n",
       "10       2021-03-13                         8316     105265.0   \n",
       "11       2021-03-20                         9896     105277.0   \n",
       "12       2021-03-27                        12008     105332.0   \n",
       "13       2021-04-03                        14200     105185.0   \n",
       "14       2021-04-10                        17144     105176.0   \n",
       "15       2021-04-17                        20424     105278.0   \n",
       "16       2021-04-24                        23967     105118.0   \n",
       "17       2021-05-01                        27116     105100.0   \n",
       "18       2021-05-08                        30168     105116.0   \n",
       "19       2021-05-15                        32928     105201.0   \n",
       "20       2021-05-22                        35418     105411.0   \n",
       "21       2021-05-29                        37551     105479.0   \n",
       "22       2021-06-05                        39322     105422.0   \n",
       "23       2021-06-12                        41166     105553.0   \n",
       "24       2021-06-19                        42675     105631.0   \n",
       "25       2021-06-26                        43991     105747.0   \n",
       "26       2021-07-03                        45220     105654.0   \n",
       "27       2021-07-10                        46451     105571.0   \n",
       "28       2021-07-17                        47516     105590.0   \n",
       "29       2021-07-24                        48705     105650.0   \n",
       "30       2021-07-31                        49819     105773.0   \n",
       "31       2021-08-07                        50979     105985.0   \n",
       "32       2021-08-14                        52254     105991.0   \n",
       "33       2021-08-21                        53571     106081.0   \n",
       "34       2021-08-28                        55008     105989.0   \n",
       "35       2021-09-04                        56508     106019.0   \n",
       "36       2021-09-11                        58201     106012.0   \n",
       "37       2021-09-18                        60302     106166.0   \n",
       "38       2021-09-25                        62157     106252.0   \n",
       "39       2021-10-02                        63500     106365.0   \n",
       "40       2021-10-09                        64719     106446.0   \n",
       "41       2021-10-16                        65820     106505.0   \n",
       "42       2021-10-23                        66865     106642.0   \n",
       "43       2021-10-30                        67645     106696.0   \n",
       "44       2021-11-06                        68662     106950.0   \n",
       "45       2021-11-13                        69497     107249.0   \n",
       "46       2021-11-20                        70099     107349.0   \n",
       "47       2021-11-27                        70754     107693.0   \n",
       "48       2021-12-04                        71594     108148.0   \n",
       "49       2021-12-11                        71937     108013.0   \n",
       "50       2021-12-18                        72418     108248.0   \n",
       "51       2021-12-25                        72759     108112.0   \n",
       "52       2022-01-01                        73313     108451.0   \n",
       "\n",
       "    Vaccinated Coverage Percentage (%)  \n",
       "0                             0.000000  \n",
       "1                             0.199676  \n",
       "2                             0.700283  \n",
       "3                             1.199635  \n",
       "4                             1.999847  \n",
       "5                             2.800203  \n",
       "6                             4.000229  \n",
       "7                             4.899733  \n",
       "8                             5.799876  \n",
       "9                             6.699889  \n",
       "10                            7.900062  \n",
       "11                            9.399964  \n",
       "12                           11.400144  \n",
       "13                           13.500024  \n",
       "14                           16.300297  \n",
       "15                           19.400065  \n",
       "16                           22.800091  \n",
       "17                           25.800190  \n",
       "18                           28.699722  \n",
       "19                           31.300083  \n",
       "20                           33.599909  \n",
       "21                           35.600451  \n",
       "22                           37.299615  \n",
       "23                           39.000313  \n",
       "24                           40.400072  \n",
       "25                           41.600235  \n",
       "26                           42.800083  \n",
       "27                           43.999773  \n",
       "28                           45.000474  \n",
       "29                           46.100331  \n",
       "30                           47.099922  \n",
       "31                           48.100203  \n",
       "32                           49.300412  \n",
       "33                           50.500090  \n",
       "34                           51.899725  \n",
       "35                           53.299880  \n",
       "36                           54.900389  \n",
       "37                           56.799729  \n",
       "38                           58.499605  \n",
       "39                           59.700089  \n",
       "40                           60.799842  \n",
       "41                           61.799915  \n",
       "42                           62.700437  \n",
       "43                           63.399753  \n",
       "44                           64.200094  \n",
       "45                           64.799672  \n",
       "46                           65.300096  \n",
       "47                           65.699721  \n",
       "48                           66.200022  \n",
       "49                           66.600317  \n",
       "50                           66.900081  \n",
       "51                           67.299652  \n",
       "52                           67.600114  "
      ]
     },
     "execution_count": 5,
     "metadata": {},
     "output_type": "execute_result"
    }
   ],
   "source": [
    "#Percentage DF\n",
    "filter_df = data_df.loc[(data_df[\"Vaccination Coverage Status\"]==\"Fully Vaccinated\") & (data_df[\"Race and Ethnicity\"]==\"All Races/Ethnicity\"),: ]\n",
    "filter_df\n",
    "\n",
    "\n",
    "amount_week= filter_df.groupby([\"Week_Ending_Date\"])[\"Vaccination Coverage Amount\"].sum()\n",
    "amount_by_week2 = pd.DataFrame(amount_week)\n",
    "amount_by_week = amount_by_week2.reset_index()\n",
    "\n",
    "denom_week = filter_df.groupby([\"Week_Ending_Date\"])[\"Denominator\"].value_counts()\n",
    "denom_by_week2 = pd.DataFrame(denom_week)\n",
    "del denom_by_week2[\"Denominator\"]\n",
    "denom_by_week = denom_by_week2.reset_index()\n",
    "\n",
    "merge = pd.merge(amount_by_week,denom_by_week, on=\"Week_Ending_Date\")\n",
    "\n",
    "merge['Denominator'] = merge['Denominator'].str.replace(',', '').astype(float)\n",
    "\n",
    "merge[\"Vaccinated Coverage Percentage (%)\"] = (merge[\"Vaccination Coverage Amount\"] / merge[\"Denominator\"]) *100\n",
    "merge"
   ]
  },
  {
   "cell_type": "code",
   "execution_count": 6,
   "id": "68a2b653",
   "metadata": {},
   "outputs": [
    {
     "data": {
      "text/plain": [
       "<function matplotlib.pyplot.show(*args, **kw)>"
      ]
     },
     "execution_count": 6,
     "metadata": {},
     "output_type": "execute_result"
    },
    {
     "data": {
      "image/png": "[encoded data removed]",
      "text/plain": [
       "<Figure size 432x288 with 1 Axes>"
      ]
     },
     "metadata": {
      "needs_background": "light"
     },
     "output_type": "display_data"
    },
    {
     "data": {
      "text/plain": [
       "<Figure size 720x1440 with 0 Axes>"
      ]
     },
     "metadata": {},
     "output_type": "display_data"
    }
   ],
   "source": [
    "#Build Line Plot \n",
    "merge.plot.line(x=\"Week_Ending_Date\", y=\"Vaccinated Coverage Percentage (%)\")\n",
    "plt.title(\"% of Pregnant Women Vaccinated in 2021 \")\n",
    "plt.ylim(0,100)\n",
    "plt.ylabel(\"Percentage Vaccinated (%)\")\n",
    "plt.grid()\n",
    "plt.figure(figsize=(10,20))\n",
    "plt.show"
   ]
  },
  {
   "cell_type": "markdown",
   "id": "18ead210",
   "metadata": {},
   "source": [
    "### Graphicial Representation of the Data"
   ]
  },
  {
   "cell_type": "code",
   "execution_count": 7,
   "id": "fb9ea9fd",
   "metadata": {},
   "outputs": [
    {
     "data": {
      "text/plain": [
       "<function matplotlib.pyplot.show(*args, **kw)>"
      ]
     },
     "execution_count": 7,
     "metadata": {},
     "output_type": "execute_result"
    },
    {
     "data": {
      "image/png": "[encoded data removed]",
      "text/plain": [
       "<Figure size 432x288 with 1 Axes>"
      ]
     },
     "metadata": {
      "needs_background": "light"
     },
     "output_type": "display_data"
    },
    {
     "data": {
      "text/plain": [
       "<Figure size 720x1440 with 0 Axes>"
      ]
     },
     "metadata": {},
     "output_type": "display_data"
    }
   ],
   "source": [
    "#Import COVID Cases Data \n",
    "\n",
    "cases_file = \"Resources/pregnancy_covid_cases.csv\"\n",
    "cases_df = pd.read_csv(cases_file)\n",
    "\n",
    "# Convert the date to datetime64\n",
    "cases_df[\"Week of COVID-19 \"] = pd.to_datetime(cases_df[\"Week of COVID-19 \"], format='%Y-%m-%d')\n",
    "\n",
    "#Build Line Plot \n",
    "cases_df.plot.line(x=\"Week of COVID-19 \", y='Number of  COVID Cases')\n",
    "plt.title(\"Number of Pregnant Women that are COVID + in 2021\")\n",
    "plt.ylim(0,8000)\n",
    "plt.ylabel(\"COVID Case Count\")\n",
    "plt.grid()\n",
    "plt.figure(figsize=(10,20))\n",
    "plt.show"
   ]
  },
  {
   "cell_type": "code",
   "execution_count": 8,
   "id": "a1f15fa8",
   "metadata": {},
   "outputs": [
    {
     "data": {
      "text/plain": [
       "<function matplotlib.pyplot.show(*args, **kw)>"
      ]
     },
     "execution_count": 8,
     "metadata": {},
     "output_type": "execute_result"
    },
    {
     "data": {
      "image/png": "[encoded data removed]",
      "text/plain": [
       "<Figure size 432x288 with 1 Axes>"
      ]
     },
     "metadata": {
      "needs_background": "light"
     },
     "output_type": "display_data"
    },
    {
     "data": {
      "text/plain": [
       "<Figure size 720x1440 with 0 Axes>"
      ]
     },
     "metadata": {},
     "output_type": "display_data"
    }
   ],
   "source": [
    "#Import COVID ICU/ Death Data \n",
    "\n",
    "ICU_file = \"Resources/pregnancy_ICU_death.csv\"\n",
    "ICU_df = pd.read_csv(ICU_file)\n",
    "\n",
    "#Build Line Plot \n",
    "ICU_df.plot.line(x=\"Month\", y='COVID Related ICU Admissions')\n",
    "plt.title(\"US COVID Related ICU Admissions of Pregnant Women in 2021\")\n",
    "plt.ylim(0,70)\n",
    "plt.ylabel(\"ICU Admission Count\")\n",
    "plt.xticks(rotation =90)\n",
    "plt.grid()\n",
    "plt.figure(figsize=(10,20))\n",
    "plt.show"
   ]
  },
  {
   "cell_type": "markdown",
   "id": "57b05a96",
   "metadata": {},
   "source": [
    "### COVID Deaths by Pregnancy"
   ]
  },
  {
   "cell_type": "code",
   "execution_count": 9,
   "id": "f82b0572",
   "metadata": {},
   "outputs": [
    {
     "data": {
      "text/plain": [
       "<function matplotlib.pyplot.show(*args, **kw)>"
      ]
     },
     "execution_count": 9,
     "metadata": {},
     "output_type": "execute_result"
    },
    {
     "data": {
      "image/png": "[encoded data removed]",
      "text/plain": [
       "<Figure size 432x288 with 1 Axes>"
      ]
     },
     "metadata": {
      "needs_background": "light"
     },
     "output_type": "display_data"
    },
    {
     "data": {
      "text/plain": [
       "<Figure size 720x1440 with 0 Axes>"
      ]
     },
     "metadata": {},
     "output_type": "display_data"
    }
   ],
   "source": [
    "#Build Line Plot \n",
    "ICU_df.plot.line(x=\"Month\", y='COVID Related Deaths')\n",
    "plt.title(\"US COVID Related Deaths of Pregnant Women in 2021\")\n",
    "plt.ylim(0,50)\n",
    "plt.ylabel(\"COVID Related Death Count\")\n",
    "plt.xticks(rotation =90)\n",
    "plt.grid()\n",
    "plt.figure(figsize=(10,20))\n",
    "plt.show"
   ]
  },
  {
   "cell_type": "code",
   "execution_count": 10,
   "id": "e9d2bc7f",
   "metadata": {},
   "outputs": [
    {
     "data": {
      "text/plain": [
       "<function matplotlib.pyplot.show(*args, **kw)>"
      ]
     },
     "execution_count": 10,
     "metadata": {},
     "output_type": "execute_result"
    },
    {
     "data": {
      "image/png": "[encoded data removed]",
      "text/plain": [
       "<Figure size 432x288 with 1 Axes>"
      ]
     },
     "metadata": {
      "needs_background": "light"
     },
     "output_type": "display_data"
    },
    {
     "data": {
      "text/plain": [
       "<Figure size 720x1440 with 0 Axes>"
      ]
     },
     "metadata": {},
     "output_type": "display_data"
    }
   ],
   "source": [
    "#Import COVID ICU/ Death Data \n",
    "\n",
    "total_file = \"Resources/total_month.csv\"\n",
    "total_df = pd.read_csv(total_file)\n",
    "\n",
    "total_df[\"% of Cases Leading to Death\"]= (total_df[\"COVID Related Deaths\"]/total_df[\"COVID Case Count\"])*100\n",
    "total_df\n",
    "\n",
    "#Build Line Plot \n",
    "total_df.plot.line(x=\"Month\", y=\"% of Cases Leading to Death\")\n",
    "plt.title(\"US COVID % of Cases Leading to Death of Pregnant Women in 2021\")\n",
    "plt.ylim(0,1)\n",
    "plt.ylabel(\"% of Cases Leading to Death\")\n",
    "plt.xticks(rotation =90)\n",
    "plt.grid()\n",
    "plt.figure(figsize=(10,20))\n",
    "plt.show"
   ]
  },
  {
   "cell_type": "markdown",
   "id": "636cbca1",
   "metadata": {},
   "source": [
    "### Summary Statistics"
   ]
  },
  {
   "cell_type": "code",
   "execution_count": null,
   "id": "d6475f66",
   "metadata": {},
   "outputs": [],
   "source": []
  },
  {
   "cell_type": "code",
   "execution_count": null,
   "id": "c7257758",
   "metadata": {},
   "outputs": [],
   "source": []
  },
  {
   "cell_type": "markdown",
   "id": "663130de",
   "metadata": {},
   "source": [
    "### Summary Analysis"
   ]
  },
  {
   "cell_type": "code",
   "execution_count": null,
   "id": "80ec9075",
   "metadata": {},
   "outputs": [],
   "source": []
  },
  {
   "cell_type": "code",
   "execution_count": null,
   "id": "86ef5bf8",
   "metadata": {},
   "outputs": [],
   "source": []
  },
  {
   "cell_type": "markdown",
   "id": "3ceee2b6",
   "metadata": {},
   "source": [
    "## COVID-19 Vaccination - Race/Ethnicity"
   ]
  },
  {
   "cell_type": "markdown",
   "id": "d8cfb165",
   "metadata": {},
   "source": [
    "### Clean COVID-19 Vaccination Data"
   ]
  },
  {
   "cell_type": "code",
   "execution_count": null,
   "id": "04f4a39b",
   "metadata": {},
   "outputs": [],
   "source": []
  },
  {
   "cell_type": "code",
   "execution_count": null,
   "id": "81fd8e36",
   "metadata": {},
   "outputs": [],
   "source": []
  },
  {
   "cell_type": "markdown",
   "id": "61b23ae6",
   "metadata": {},
   "source": [
    "### Graphicial Representation of the Data"
   ]
  },
  {
   "cell_type": "code",
   "execution_count": null,
   "id": "075a0993",
   "metadata": {},
   "outputs": [],
   "source": []
  },
  {
   "cell_type": "code",
   "execution_count": null,
   "id": "9ca153d2",
   "metadata": {},
   "outputs": [],
   "source": []
  },
  {
   "cell_type": "code",
   "execution_count": null,
   "id": "ed96d4bd",
   "metadata": {},
   "outputs": [],
   "source": []
  },
  {
   "cell_type": "markdown",
   "id": "01e7624a",
   "metadata": {},
   "source": [
    "### COVID Deaths by Race/Ethnicity"
   ]
  },
  {
   "cell_type": "code",
   "execution_count": null,
   "id": "8c83f397",
   "metadata": {},
   "outputs": [],
   "source": []
  },
  {
   "cell_type": "code",
   "execution_count": null,
   "id": "f2eb65cc",
   "metadata": {},
   "outputs": [],
   "source": []
  },
  {
   "cell_type": "markdown",
   "id": "c78300bd",
   "metadata": {},
   "source": [
    "### Summary Statistics"
   ]
  },
  {
   "cell_type": "code",
   "execution_count": null,
   "id": "86a8afd7",
   "metadata": {},
   "outputs": [],
   "source": []
  },
  {
   "cell_type": "code",
   "execution_count": null,
   "id": "b8881a22",
   "metadata": {},
   "outputs": [],
   "source": []
  },
  {
   "cell_type": "markdown",
   "id": "2ddf4cfc",
   "metadata": {},
   "source": [
    "### Summary Analysis"
   ]
  },
  {
   "cell_type": "code",
   "execution_count": null,
   "id": "15ec2b76",
   "metadata": {},
   "outputs": [],
   "source": []
  },
  {
   "cell_type": "code",
   "execution_count": null,
   "id": "38388a55",
   "metadata": {},
   "outputs": [],
   "source": []
  }
 ],
 "metadata": {
  "kernelspec": {
   "display_name": "PythonData",
   "language": "python",
   "name": "pythondata"
  },
  "language_info": {
   "codemirror_mode": {
    "name": "ipython",
    "version": 3
   },
   "file_extension": ".py",
   "mimetype": "text/x-python",
   "name": "python",
   "nbconvert_exporter": "python",
   "pygments_lexer": "ipython3",
   "version": "3.7.7"
  }
 },
 "nbformat": 4,
 "nbformat_minor": 5
}
