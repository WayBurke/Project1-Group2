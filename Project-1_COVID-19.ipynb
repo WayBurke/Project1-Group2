{
 "cells": [
  {
   "cell_type": "markdown",
   "id": "bb6674bc",
   "metadata": {},
   "source": [
    "# PROJECT 1: IMPACTS OF COVID-19 VACCINATION STATUS"
   ]
  },
  {
   "cell_type": "markdown",
   "id": "1cce1439",
   "metadata": {},
   "source": [
    "### Description of Project\n",
    "\n"
   ]
  },
  {
   "cell_type": "markdown",
   "id": "1994107f",
   "metadata": {},
   "source": [
    "### Order of Analysis\n",
    "\n",
    "* COVID-19 Vaccination information for the Unitied States\n",
    "* COVID-19 Vaccination for Age\n",
    "* COVID-19 Vaccination for Sex\n",
    "* COVID-19 Vaccination for Pregnancy\n",
    "* COVID-19 Vaccination for Race/Ethnicity"
   ]
  },
  {
   "cell_type": "markdown",
   "id": "c45ea6e5",
   "metadata": {},
   "source": [
    "## Importing dependencies"
   ]
  },
  {
   "cell_type": "code",
   "execution_count": 1,
   "id": "db01196f",
   "metadata": {},
   "outputs": [],
   "source": [
    "import pandas as pd\n",
    "import seaborn as sns\n",
    "\n",
    "#File Manipulation\n",
    "import csv\n",
    "import os\n",
    "\n",
    "#Plots and Statistics\n",
    "import matplotlib.pyplot as plt\n",
    "import scipy.stats as stats\n",
    "from scipy.stats import linregress\n",
    "import numpy as np\n",
    "\n",
    "#Matplotlib - convert HEX colors to RGB colors\n",
    "import matplotlib.colors as mcolors\n",
    "\n",
    "\n",
    "# Importing Plotly\n",
    "import plotly.graph_objs as goNon-Hispanic Native Hawaiian or Other Pacific Islander\n",
    "import plotly.io as pio\n",
    "import plotly.express as px\n",
    "import plotly.offline as py\n",
    "py.init_notebook_mode(connected=True)\n",
    "  \n",
    "# Initializing Plotly\n",
    "pio.renderers.default = 'colab'"
   ]
  },
  {
   "cell_type": "markdown",
   "id": "cd43edc3",
   "metadata": {},
   "source": [
    "## COVID-19 Vaccination - United States"
   ]
  },
  {
   "cell_type": "markdown",
   "id": "09b54f7b",
   "metadata": {},
   "source": [
    "### Retrieve the Data and store in DataFrame"
   ]
  },
  {
   "cell_type": "code",
   "execution_count": 2,
   "id": "3ad86019",
   "metadata": {},
   "outputs": [],
   "source": [
    "#Import the vaccination data. Using dtype=\"object\" to ensure all data is read in accurately.\n",
    "vaccination_data = pd.read_csv(\"Resources/Rates_of_COVID-19_Cases_or_Deaths_by_Age_Group_and_Vaccination_Status.csv\", \n",
    "                               dtype=\"object\", encoding=\"utf-8\")"
   ]
  },
  {
   "cell_type": "code",
   "execution_count": 3,
   "id": "84adad70",
   "metadata": {},
   "outputs": [
    {
     "data": {
      "text/html": [
       "<div>\n",
       "<style scoped>\n",
       "    .dataframe tbody tr th:only-of-type {\n",
       "        vertical-align: middle;\n",
       "    }\n",
       "\n",
       "    .dataframe tbody tr th {\n",
       "        vertical-align: top;\n",
       "    }\n",
       "\n",
       "    .dataframe thead th {\n",
       "        text-align: right;\n",
       "    }\n",
       "</style>\n",
       "<table border=\"1\" class=\"dataframe\">\n",
       "  <thead>\n",
       "    <tr style=\"text-align: right;\">\n",
       "      <th></th>\n",
       "      <th>outcome</th>\n",
       "      <th>month</th>\n",
       "      <th>MMWR week</th>\n",
       "      <th>Age group</th>\n",
       "      <th>Vaccine product</th>\n",
       "      <th>Vaccinated with outcome</th>\n",
       "      <th>Fully vaccinated population</th>\n",
       "      <th>Unvaccinated with outcome</th>\n",
       "      <th>Unvaccinated population</th>\n",
       "      <th>Crude vax IR</th>\n",
       "      <th>Crude unvax IR</th>\n",
       "      <th>Crude IRR</th>\n",
       "      <th>Age adjusted vax IR</th>\n",
       "      <th>Age adjusted unvax IR</th>\n",
       "      <th>Age adjusted IRR</th>\n",
       "      <th>Continuity correction</th>\n",
       "    </tr>\n",
       "  </thead>\n",
       "  <tbody>\n",
       "    <tr>\n",
       "      <th>0</th>\n",
       "      <td>case</td>\n",
       "      <td>APR 2021</td>\n",
       "      <td>202114</td>\n",
       "      <td>12-17</td>\n",
       "      <td>all_types</td>\n",
       "      <td>7</td>\n",
       "      <td>37,563</td>\n",
       "      <td>29,779</td>\n",
       "      <td>17,419,211</td>\n",
       "      <td>18.63535926</td>\n",
       "      <td>170.9549302</td>\n",
       "      <td>9.173685774</td>\n",
       "      <td>NaN</td>\n",
       "      <td>NaN</td>\n",
       "      <td>NaN</td>\n",
       "      <td>0</td>\n",
       "    </tr>\n",
       "    <tr>\n",
       "      <th>1</th>\n",
       "      <td>case</td>\n",
       "      <td>APR 2021</td>\n",
       "      <td>202114</td>\n",
       "      <td>18-29</td>\n",
       "      <td>all_types</td>\n",
       "      <td>605</td>\n",
       "      <td>2,566,968</td>\n",
       "      <td>72,753</td>\n",
       "      <td>30,729,886</td>\n",
       "      <td>23.56866155</td>\n",
       "      <td>236.7499834</td>\n",
       "      <td>10.04511787</td>\n",
       "      <td>NaN</td>\n",
       "      <td>NaN</td>\n",
       "      <td>NaN</td>\n",
       "      <td>0</td>\n",
       "    </tr>\n",
       "  </tbody>\n",
       "</table>\n",
       "</div>"
      ],
      "text/plain": [
       "  outcome     month MMWR week Age group Vaccine product  \\\n",
       "0    case  APR 2021    202114     12-17       all_types   \n",
       "1    case  APR 2021    202114     18-29       all_types   \n",
       "\n",
       "  Vaccinated with outcome Fully vaccinated population  \\\n",
       "0                       7                      37,563   \n",
       "1                     605                   2,566,968   \n",
       "\n",
       "  Unvaccinated with outcome Unvaccinated population Crude vax IR  \\\n",
       "0                    29,779              17,419,211  18.63535926   \n",
       "1                    72,753              30,729,886  23.56866155   \n",
       "\n",
       "  Crude unvax IR    Crude IRR Age adjusted vax IR Age adjusted unvax IR  \\\n",
       "0    170.9549302  9.173685774                 NaN                   NaN   \n",
       "1    236.7499834  10.04511787                 NaN                   NaN   \n",
       "\n",
       "  Age adjusted IRR Continuity correction  \n",
       "0              NaN                     0  \n",
       "1              NaN                     0  "
      ]
     },
     "execution_count": 3,
     "metadata": {},
     "output_type": "execute_result"
    }
   ],
   "source": [
    "#Visualize\n",
    "vaccination_data.head(2)"
   ]
  },
  {
   "cell_type": "code",
   "execution_count": 4,
   "id": "49e44823",
   "metadata": {},
   "outputs": [
    {
     "data": {
      "text/plain": [
       "outcome                        1283\n",
       "month                          1283\n",
       "MMWR week                      1283\n",
       "Age group                      1283\n",
       "Vaccine product                1283\n",
       "Vaccinated with outcome        1283\n",
       "Fully vaccinated population    1283\n",
       "Unvaccinated with outcome      1283\n",
       "Unvaccinated population        1283\n",
       "Crude vax IR                   1283\n",
       "Crude unvax IR                 1283\n",
       "Crude IRR                      1190\n",
       "Age adjusted vax IR             492\n",
       "Age adjusted unvax IR           492\n",
       "Age adjusted IRR                492\n",
       "Continuity correction          1283\n",
       "dtype: int64"
      ]
     },
     "execution_count": 4,
     "metadata": {},
     "output_type": "execute_result"
    }
   ],
   "source": [
    "#Checking the dataframe to see if row counts are even\n",
    "vaccination_data.count() \n",
    "\n",
    "#Since the data set has various row lengths, this needs to be cleaned up"
   ]
  },
  {
   "cell_type": "markdown",
   "id": "b26b875e",
   "metadata": {},
   "source": [
    "### Clean COVID-19 Vaccination Data"
   ]
  },
  {
   "cell_type": "code",
   "execution_count": 5,
   "id": "32cc3438",
   "metadata": {},
   "outputs": [
    {
     "data": {
      "text/plain": [
       "outcome                        1283\n",
       "month                          1283\n",
       "MMWR week                      1283\n",
       "Vaccinated with outcome        1283\n",
       "Fully vaccinated population    1283\n",
       "Unvaccinated with outcome      1283\n",
       "Unvaccinated population        1283\n",
       "dtype: int64"
      ]
     },
     "execution_count": 5,
     "metadata": {},
     "output_type": "execute_result"
    }
   ],
   "source": [
    "#Removing unneccessary columns from our assessment:\n",
    "\n",
    "del vaccination_data[\"Crude vax IR\"]\n",
    "del vaccination_data[\"Crude unvax IR\"]\n",
    "del vaccination_data[\"Crude IRR\"]\n",
    "del vaccination_data[\"Age adjusted vax IR\"]\n",
    "del vaccination_data[\"Age adjusted unvax IR\"]\n",
    "del vaccination_data[\"Age adjusted IRR\"]\n",
    "del vaccination_data[\"Continuity correction\"]\n",
    "del vaccination_data[\"Age group\"]\n",
    "del vaccination_data[\"Vaccine product\"]\n",
    "\n",
    "# Rechecking if total rows in each column is now even\n",
    "vaccination_data.count()"
   ]
  },
  {
   "cell_type": "code",
   "execution_count": 6,
   "id": "b325e688",
   "metadata": {},
   "outputs": [
    {
     "data": {
      "text/html": [
       "<div>\n",
       "<style scoped>\n",
       "    .dataframe tbody tr th:only-of-type {\n",
       "        vertical-align: middle;\n",
       "    }\n",
       "\n",
       "    .dataframe tbody tr th {\n",
       "        vertical-align: top;\n",
       "    }\n",
       "\n",
       "    .dataframe thead th {\n",
       "        text-align: right;\n",
       "    }\n",
       "</style>\n",
       "<table border=\"1\" class=\"dataframe\">\n",
       "  <thead>\n",
       "    <tr style=\"text-align: right;\">\n",
       "      <th></th>\n",
       "      <th>outcome</th>\n",
       "      <th>month</th>\n",
       "      <th>MMWR week</th>\n",
       "      <th>Vaccinated with outcome</th>\n",
       "      <th>Fully vaccinated population</th>\n",
       "      <th>Unvaccinated with outcome</th>\n",
       "      <th>Unvaccinated population</th>\n",
       "    </tr>\n",
       "  </thead>\n",
       "  <tbody>\n",
       "    <tr>\n",
       "      <th>1281</th>\n",
       "      <td>death</td>\n",
       "      <td>MAY 2022</td>\n",
       "      <td>202221</td>\n",
       "      <td>224</td>\n",
       "      <td>84,136,946</td>\n",
       "      <td>341</td>\n",
       "      <td>53,672,511.95</td>\n",
       "    </tr>\n",
       "    <tr>\n",
       "      <th>1282</th>\n",
       "      <td>death</td>\n",
       "      <td>MAY 2022</td>\n",
       "      <td>202221</td>\n",
       "      <td>425</td>\n",
       "      <td>145,575,347.3</td>\n",
       "      <td>341</td>\n",
       "      <td>53,672,511.95</td>\n",
       "    </tr>\n",
       "  </tbody>\n",
       "</table>\n",
       "</div>"
      ],
      "text/plain": [
       "     outcome     month MMWR week Vaccinated with outcome  \\\n",
       "1281   death  MAY 2022    202221                     224   \n",
       "1282   death  MAY 2022    202221                     425   \n",
       "\n",
       "     Fully vaccinated population Unvaccinated with outcome  \\\n",
       "1281                  84,136,946                       341   \n",
       "1282               145,575,347.3                       341   \n",
       "\n",
       "     Unvaccinated population  \n",
       "1281           53,672,511.95  \n",
       "1282           53,672,511.95  "
      ]
     },
     "execution_count": 6,
     "metadata": {},
     "output_type": "execute_result"
    }
   ],
   "source": [
    "# Visualize\n",
    "vaccination_data.tail(2)"
   ]
  },
  {
   "cell_type": "code",
   "execution_count": 7,
   "id": "52448f56",
   "metadata": {},
   "outputs": [
    {
     "data": {
      "text/plain": [
       "outcome                        1283\n",
       "month                          1283\n",
       "MMWR week                      1283\n",
       "Vaccinated with outcome        1283\n",
       "Fully vaccinated population    1283\n",
       "Unvaccinated with outcome      1283\n",
       "Unvaccinated population        1283\n",
       "dtype: int64"
      ]
     },
     "execution_count": 7,
     "metadata": {},
     "output_type": "execute_result"
    }
   ],
   "source": [
    "#Using Drop NA to clean up any other abnormalities within the data\n",
    "vaccination_data= vaccination_data.dropna(how='any')\n",
    "\n",
    "#Checking row count per column\n",
    "vaccination_data.count()"
   ]
  },
  {
   "cell_type": "code",
   "execution_count": 8,
   "id": "08e05031",
   "metadata": {},
   "outputs": [
    {
     "data": {
      "text/plain": [
       "outcome                        object\n",
       "month                          object\n",
       "MMWR week                      object\n",
       "Vaccinated with outcome        object\n",
       "Fully vaccinated population    object\n",
       "Unvaccinated with outcome      object\n",
       "Unvaccinated population        object\n",
       "dtype: object"
      ]
     },
     "execution_count": 8,
     "metadata": {},
     "output_type": "execute_result"
    }
   ],
   "source": [
    "#Checking on the data type of all the columns in the DataFrame\n",
    "vaccination_data.dtypes"
   ]
  },
  {
   "cell_type": "code",
   "execution_count": 9,
   "id": "0f7d7270",
   "metadata": {},
   "outputs": [],
   "source": [
    "#Based on the tail view of the data there are commas in the field. Removing commas from numeric data\n",
    "\n",
    "vaccination_data[\"Vaccinated with outcome\"] =vaccination_data[\"Vaccinated with outcome\"].str.replace(',','')\n",
    "vaccination_data[\"Fully vaccinated population\"] = vaccination_data[\"Fully vaccinated population\"].str.replace(',','')\n",
    "vaccination_data[\"Unvaccinated with outcome\"] = vaccination_data[\"Unvaccinated with outcome\"].str.replace(',','')\n",
    "vaccination_data[\"Unvaccinated population\"] = vaccination_data[\"Unvaccinated population\"].str.replace(',','')"
   ]
  },
  {
   "cell_type": "code",
   "execution_count": 10,
   "id": "aede92dc",
   "metadata": {},
   "outputs": [
    {
     "data": {
      "text/plain": [
       "outcome                         object\n",
       "month                           object\n",
       "MMWR week                       object\n",
       "Vaccinated with outcome        float64\n",
       "Fully vaccinated population    float64\n",
       "Unvaccinated with outcome      float64\n",
       "Unvaccinated population        float64\n",
       "dtype: object"
      ]
     },
     "execution_count": 10,
     "metadata": {},
     "output_type": "execute_result"
    }
   ],
   "source": [
    "#Changing the datatype of the numeric data columns in the dataframe\n",
    "vax_data = vaccination_data.astype({\"Vaccinated with outcome\":\"float64\",\n",
    "                                    \"Fully vaccinated population\":\"float64\",\n",
    "                                    \"Unvaccinated with outcome\":\"float64\",\n",
    "                                    \"Unvaccinated population\":\"float64\"\n",
    "                                   })\n",
    "vax_data.dtypes"
   ]
  },
  {
   "cell_type": "code",
   "execution_count": 11,
   "id": "cbe5fdb1",
   "metadata": {},
   "outputs": [
    {
     "data": {
      "text/plain": [
       "DEC 2021    108\n",
       "JUN 2021    100\n",
       "SEP 2021    100\n",
       "APR 2021     80\n",
       "MAY 2021     80\n",
       "JUL 2021     80\n",
       "AUG 2021     80\n",
       "OCT 2021     80\n",
       "NOV 2021     80\n",
       "Name: month, dtype: int64"
      ]
     },
     "execution_count": 11,
     "metadata": {},
     "output_type": "execute_result"
    }
   ],
   "source": [
    "#Updating DataFrame to only store data for TimeFrame: year 2021 as is available in the dataset\n",
    "#MMWR week: MMWR epidemiological year and week [YYYYWW format; e.g. 202101]\n",
    "\n",
    "vax_data = vax_data.loc[(vax_data[\"MMWR week\"]<\"202201\"), :]\n",
    "\n",
    "vax_data[\"month\"].value_counts()"
   ]
  },
  {
   "cell_type": "code",
   "execution_count": 12,
   "id": "1ff39e4e",
   "metadata": {},
   "outputs": [
    {
     "data": {
      "text/html": [
       "<div>\n",
       "<style scoped>\n",
       "    .dataframe tbody tr th:only-of-type {\n",
       "        vertical-align: middle;\n",
       "    }\n",
       "\n",
       "    .dataframe tbody tr th {\n",
       "        vertical-align: top;\n",
       "    }\n",
       "\n",
       "    .dataframe thead th {\n",
       "        text-align: right;\n",
       "    }\n",
       "</style>\n",
       "<table border=\"1\" class=\"dataframe\">\n",
       "  <thead>\n",
       "    <tr style=\"text-align: right;\">\n",
       "      <th></th>\n",
       "      <th>outcome</th>\n",
       "      <th>month</th>\n",
       "      <th>MMWR week</th>\n",
       "      <th>Vaccinated with outcome</th>\n",
       "      <th>Fully vaccinated population</th>\n",
       "      <th>Unvaccinated with outcome</th>\n",
       "      <th>Unvaccinated population</th>\n",
       "    </tr>\n",
       "  </thead>\n",
       "  <tbody>\n",
       "    <tr>\n",
       "      <th>1047</th>\n",
       "      <td>death</td>\n",
       "      <td>Dec</td>\n",
       "      <td>202152</td>\n",
       "      <td>1491.0</td>\n",
       "      <td>7.044509e+06</td>\n",
       "      <td>1663.0</td>\n",
       "      <td>1173743.65</td>\n",
       "    </tr>\n",
       "    <tr>\n",
       "      <th>1048</th>\n",
       "      <td>death</td>\n",
       "      <td>Dec</td>\n",
       "      <td>202152</td>\n",
       "      <td>388.0</td>\n",
       "      <td>1.057349e+07</td>\n",
       "      <td>5538.0</td>\n",
       "      <td>61133825.15</td>\n",
       "    </tr>\n",
       "    <tr>\n",
       "      <th>1049</th>\n",
       "      <td>death</td>\n",
       "      <td>Dec</td>\n",
       "      <td>202152</td>\n",
       "      <td>1270.0</td>\n",
       "      <td>4.861592e+07</td>\n",
       "      <td>5538.0</td>\n",
       "      <td>61170540.15</td>\n",
       "    </tr>\n",
       "    <tr>\n",
       "      <th>1050</th>\n",
       "      <td>death</td>\n",
       "      <td>Dec</td>\n",
       "      <td>202152</td>\n",
       "      <td>1740.0</td>\n",
       "      <td>7.721120e+07</td>\n",
       "      <td>5538.0</td>\n",
       "      <td>61701273.15</td>\n",
       "    </tr>\n",
       "    <tr>\n",
       "      <th>1051</th>\n",
       "      <td>death</td>\n",
       "      <td>Dec</td>\n",
       "      <td>202152</td>\n",
       "      <td>3405.0</td>\n",
       "      <td>1.364774e+08</td>\n",
       "      <td>5538.0</td>\n",
       "      <td>61701273.15</td>\n",
       "    </tr>\n",
       "  </tbody>\n",
       "</table>\n",
       "</div>"
      ],
      "text/plain": [
       "     outcome month MMWR week  Vaccinated with outcome  \\\n",
       "1047   death   Dec    202152                   1491.0   \n",
       "1048   death   Dec    202152                    388.0   \n",
       "1049   death   Dec    202152                   1270.0   \n",
       "1050   death   Dec    202152                   1740.0   \n",
       "1051   death   Dec    202152                   3405.0   \n",
       "\n",
       "      Fully vaccinated population  Unvaccinated with outcome  \\\n",
       "1047                 7.044509e+06                     1663.0   \n",
       "1048                 1.057349e+07                     5538.0   \n",
       "1049                 4.861592e+07                     5538.0   \n",
       "1050                 7.721120e+07                     5538.0   \n",
       "1051                 1.364774e+08                     5538.0   \n",
       "\n",
       "      Unvaccinated population  \n",
       "1047               1173743.65  \n",
       "1048              61133825.15  \n",
       "1049              61170540.15  \n",
       "1050              61701273.15  \n",
       "1051              61701273.15  "
      ]
     },
     "execution_count": 12,
     "metadata": {},
     "output_type": "execute_result"
    }
   ],
   "source": [
    "#Since there are multiple entries for each Month, renaming the entry names to allow for sorting later\n",
    "\n",
    "vax_data['month'] = vax_data['month'].replace({'DEC 2021': 'Dec','JUN 2021': 'Jun',\n",
    "                                               'SEP 2021': 'Sep', 'APR 2021': 'Apr',\n",
    "                                               'MAY 2021': 'May','JUL 2021': 'Jul',\n",
    "                                               'AUG 2021': 'Aug', 'OCT 2021': 'Oct',\n",
    "                                               'NOV 2021': 'Nov', })\n",
    "\n",
    "vax_data.tail()"
   ]
  },
  {
   "cell_type": "code",
   "execution_count": 13,
   "id": "27d9f69d",
   "metadata": {},
   "outputs": [
    {
     "data": {
      "text/html": [
       "<div>\n",
       "<style scoped>\n",
       "    .dataframe tbody tr th:only-of-type {\n",
       "        vertical-align: middle;\n",
       "    }\n",
       "\n",
       "    .dataframe tbody tr th {\n",
       "        vertical-align: top;\n",
       "    }\n",
       "\n",
       "    .dataframe thead th {\n",
       "        text-align: right;\n",
       "    }\n",
       "</style>\n",
       "<table border=\"1\" class=\"dataframe\">\n",
       "  <thead>\n",
       "    <tr style=\"text-align: right;\">\n",
       "      <th></th>\n",
       "      <th>outcome</th>\n",
       "      <th>month</th>\n",
       "      <th>MMWR week</th>\n",
       "      <th>Vaccinated with outcome</th>\n",
       "      <th>Fully vaccinated population</th>\n",
       "      <th>Unvaccinated with outcome</th>\n",
       "      <th>Unvaccinated population</th>\n",
       "    </tr>\n",
       "  </thead>\n",
       "  <tbody>\n",
       "    <tr>\n",
       "      <th>0</th>\n",
       "      <td>case</td>\n",
       "      <td>Apr</td>\n",
       "      <td>202114</td>\n",
       "      <td>7.0</td>\n",
       "      <td>37563.0</td>\n",
       "      <td>29779.0</td>\n",
       "      <td>17419211.0</td>\n",
       "    </tr>\n",
       "    <tr>\n",
       "      <th>679</th>\n",
       "      <td>death</td>\n",
       "      <td>Apr</td>\n",
       "      <td>202116</td>\n",
       "      <td>0.0</td>\n",
       "      <td>3954601.0</td>\n",
       "      <td>19.0</td>\n",
       "      <td>26171035.0</td>\n",
       "    </tr>\n",
       "    <tr>\n",
       "      <th>680</th>\n",
       "      <td>death</td>\n",
       "      <td>Apr</td>\n",
       "      <td>202116</td>\n",
       "      <td>3.0</td>\n",
       "      <td>10862486.0</td>\n",
       "      <td>178.0</td>\n",
       "      <td>33711074.0</td>\n",
       "    </tr>\n",
       "    <tr>\n",
       "      <th>681</th>\n",
       "      <td>death</td>\n",
       "      <td>Apr</td>\n",
       "      <td>202116</td>\n",
       "      <td>18.0</td>\n",
       "      <td>11777509.0</td>\n",
       "      <td>521.0</td>\n",
       "      <td>18340045.0</td>\n",
       "    </tr>\n",
       "    <tr>\n",
       "      <th>682</th>\n",
       "      <td>death</td>\n",
       "      <td>Apr</td>\n",
       "      <td>202116</td>\n",
       "      <td>57.0</td>\n",
       "      <td>17139013.0</td>\n",
       "      <td>723.0</td>\n",
       "      <td>6297215.0</td>\n",
       "    </tr>\n",
       "  </tbody>\n",
       "</table>\n",
       "</div>"
      ],
      "text/plain": [
       "    outcome month MMWR week  Vaccinated with outcome  \\\n",
       "0      case   Apr    202114                      7.0   \n",
       "679   death   Apr    202116                      0.0   \n",
       "680   death   Apr    202116                      3.0   \n",
       "681   death   Apr    202116                     18.0   \n",
       "682   death   Apr    202116                     57.0   \n",
       "\n",
       "     Fully vaccinated population  Unvaccinated with outcome  \\\n",
       "0                        37563.0                    29779.0   \n",
       "679                    3954601.0                       19.0   \n",
       "680                   10862486.0                      178.0   \n",
       "681                   11777509.0                      521.0   \n",
       "682                   17139013.0                      723.0   \n",
       "\n",
       "     Unvaccinated population  \n",
       "0                 17419211.0  \n",
       "679               26171035.0  \n",
       "680               33711074.0  \n",
       "681               18340045.0  \n",
       "682                6297215.0  "
      ]
     },
     "execution_count": 13,
     "metadata": {},
     "output_type": "execute_result"
    }
   ],
   "source": [
    "#Month Dictionary to be used for sorting\n",
    "month_dict = {'Jan':1,'Feb':2,'Mar':3, 'Apr':4, 'May':5, 'Jun':6, \n",
    "              'Jul':7, 'Aug':8, 'Sep':9, 'Oct':10, 'Nov':11, 'Dec':12}\n",
    "\n",
    "vax_data = vax_data.sort_values('month', key = lambda x : x.apply (lambda x : month_dict[x]))\n",
    "vax_data.head()"
   ]
  },
  {
   "cell_type": "markdown",
   "id": "aa1f9423",
   "metadata": {},
   "source": [
    "### Graphicial Representation of the Data"
   ]
  },
  {
   "cell_type": "markdown",
   "id": "7c185d46",
   "metadata": {},
   "source": [
    "Plotting chart showing the total vaccinated overall in the United States"
   ]
  },
  {
   "cell_type": "code",
   "execution_count": 14,
   "id": "8a623f1f",
   "metadata": {},
   "outputs": [],
   "source": [
    "#Using Matplotlib library to determine the colors with color blindness in mind\n",
    "dodger_blue = mcolors.to_rgb(\"#1A85FF\")\n",
    "debian_red = mcolors.to_rgb(\"#D41159\")"
   ]
  },
  {
   "cell_type": "code",
   "execution_count": 15,
   "id": "c1f80cf3",
   "metadata": {},
   "outputs": [
    {
     "data": {
      "text/plain": [
       "<pandas.core.groupby.generic.DataFrameGroupBy object at 0x00000222C4412F40>"
      ]
     },
     "execution_count": 15,
     "metadata": {},
     "output_type": "execute_result"
    }
   ],
   "source": [
    "#Group by Month\n",
    "vax_data_grouped = vax_data.groupby([\"month\"])\n",
    "\n",
    "vax_data_grouped"
   ]
  },
  {
   "cell_type": "markdown",
   "id": "34888d57",
   "metadata": {},
   "source": [
    "### United States general population vaccination status (Apr - Dec 2021)"
   ]
  },
  {
   "cell_type": "markdown",
   "id": "8c47c2a0",
   "metadata": {},
   "source": [
    "**Vaccinated status per month -  looking at the population number**"
   ]
  },
  {
   "cell_type": "code",
   "execution_count": 16,
   "id": "195941b8",
   "metadata": {},
   "outputs": [
    {
     "data": {
      "text/html": [
       "<div>\n",
       "<style scoped>\n",
       "    .dataframe tbody tr th:only-of-type {\n",
       "        vertical-align: middle;\n",
       "    }\n",
       "\n",
       "    .dataframe tbody tr th {\n",
       "        vertical-align: top;\n",
       "    }\n",
       "\n",
       "    .dataframe thead th {\n",
       "        text-align: right;\n",
       "    }\n",
       "</style>\n",
       "<table border=\"1\" class=\"dataframe\">\n",
       "  <thead>\n",
       "    <tr style=\"text-align: right;\">\n",
       "      <th></th>\n",
       "      <th>Fully vaccinated population</th>\n",
       "      <th>Unvaccinated population</th>\n",
       "    </tr>\n",
       "    <tr>\n",
       "      <th>month</th>\n",
       "      <th></th>\n",
       "      <th></th>\n",
       "    </tr>\n",
       "  </thead>\n",
       "  <tbody>\n",
       "    <tr>\n",
       "      <th>Apr</th>\n",
       "      <td>1.128323e+09</td>\n",
       "      <td>4.348547e+09</td>\n",
       "    </tr>\n",
       "    <tr>\n",
       "      <th>May</th>\n",
       "      <td>1.824950e+09</td>\n",
       "      <td>3.653288e+09</td>\n",
       "    </tr>\n",
       "    <tr>\n",
       "      <th>Jun</th>\n",
       "      <td>2.895301e+09</td>\n",
       "      <td>4.050733e+09</td>\n",
       "    </tr>\n",
       "    <tr>\n",
       "      <th>Jul</th>\n",
       "      <td>2.545812e+09</td>\n",
       "      <td>2.996654e+09</td>\n",
       "    </tr>\n",
       "    <tr>\n",
       "      <th>Aug</th>\n",
       "      <td>2.655148e+09</td>\n",
       "      <td>2.696658e+09</td>\n",
       "    </tr>\n",
       "    <tr>\n",
       "      <th>Sep</th>\n",
       "      <td>3.526211e+09</td>\n",
       "      <td>3.000549e+09</td>\n",
       "    </tr>\n",
       "    <tr>\n",
       "      <th>Oct</th>\n",
       "      <td>2.983695e+09</td>\n",
       "      <td>2.208187e+09</td>\n",
       "    </tr>\n",
       "    <tr>\n",
       "      <th>Nov</th>\n",
       "      <td>3.071785e+09</td>\n",
       "      <td>2.070365e+09</td>\n",
       "    </tr>\n",
       "    <tr>\n",
       "      <th>Dec</th>\n",
       "      <td>4.093613e+09</td>\n",
       "      <td>3.080941e+09</td>\n",
       "    </tr>\n",
       "  </tbody>\n",
       "</table>\n",
       "</div>"
      ],
      "text/plain": [
       "       Fully vaccinated population  Unvaccinated population\n",
       "month                                                      \n",
       "Apr                   1.128323e+09             4.348547e+09\n",
       "May                   1.824950e+09             3.653288e+09\n",
       "Jun                   2.895301e+09             4.050733e+09\n",
       "Jul                   2.545812e+09             2.996654e+09\n",
       "Aug                   2.655148e+09             2.696658e+09\n",
       "Sep                   3.526211e+09             3.000549e+09\n",
       "Oct                   2.983695e+09             2.208187e+09\n",
       "Nov                   3.071785e+09             2.070365e+09\n",
       "Dec                   4.093613e+09             3.080941e+09"
      ]
     },
     "execution_count": 16,
     "metadata": {},
     "output_type": "execute_result"
    }
   ],
   "source": [
    "#Converted the Groupby to a Dataframe for Population\n",
    "vax_pop_df = pd.DataFrame(vax_data_grouped[[\"Fully vaccinated population\",\"Unvaccinated population\"]].sum())\n",
    "vax_pop_df = vax_pop_df.sort_values('month', key = lambda x : x.apply (lambda x : month_dict[x]))\n",
    "vax_pop_df"
   ]
  },
  {
   "cell_type": "code",
   "execution_count": 17,
   "id": "671b0108",
   "metadata": {},
   "outputs": [
    {
     "data": {
      "image/png": "[encoded data removed]",
      "text/plain": [
       "<Figure size 792x720 with 1 Axes>"
      ]
     },
     "metadata": {
      "needs_background": "light"
     },
     "output_type": "display_data"
    }
   ],
   "source": [
    "#Plotting the general populatin vaccination status\n",
    "vax_pop_plot = vax_pop_df.plot.bar(rot=45, title=\"Vaccinated Status per Month 2021\", figsize= (11,10),\n",
    "                                  color={\"Unvaccinated population\": dodger_blue, \"Fully vaccinated population\":debian_red})   \n",
    "vax_pop_plot.set_ylabel(\"Population (billions)\")\n",
    "vax_pop_plot.set_xlabel(\"Months (year 2021)\")\n",
    "vax_pop_plot.legend(loc=\"best\")\n",
    "plt.savefig(\"images/us_vax_status.png\")"
   ]
  },
  {
   "cell_type": "markdown",
   "id": "3301a308",
   "metadata": {},
   "source": [
    "The bar chart above is shows an increase in the number of people getting vaccinated between April 2021 and Dec 2021. Subsequently, the unvaccinated population is decreasing for the same time period."
   ]
  },
  {
   "cell_type": "markdown",
   "id": "d3bf69fc",
   "metadata": {},
   "source": [
    "### COVID-19 Vaccination Status in the United States based on Outcome\n",
    "*(where outcome is either positive COVID result or death resulting from contracting COVID)*"
   ]
  },
  {
   "cell_type": "code",
   "execution_count": 18,
   "id": "eb6a0291",
   "metadata": {},
   "outputs": [
    {
     "data": {
      "text/html": [
       "<div>\n",
       "<style scoped>\n",
       "    .dataframe tbody tr th:only-of-type {\n",
       "        vertical-align: middle;\n",
       "    }\n",
       "\n",
       "    .dataframe tbody tr th {\n",
       "        vertical-align: top;\n",
       "    }\n",
       "\n",
       "    .dataframe thead th {\n",
       "        text-align: right;\n",
       "    }\n",
       "</style>\n",
       "<table border=\"1\" class=\"dataframe\">\n",
       "  <thead>\n",
       "    <tr style=\"text-align: right;\">\n",
       "      <th></th>\n",
       "      <th>month</th>\n",
       "      <th>outcome</th>\n",
       "      <th>Vaccinated with outcome</th>\n",
       "      <th>Unvaccinated with outcome</th>\n",
       "    </tr>\n",
       "  </thead>\n",
       "  <tbody>\n",
       "    <tr>\n",
       "      <th>0</th>\n",
       "      <td>Apr</td>\n",
       "      <td>case</td>\n",
       "      <td>87079.0</td>\n",
       "      <td>4398055.0</td>\n",
       "    </tr>\n",
       "    <tr>\n",
       "      <th>1</th>\n",
       "      <td>Apr</td>\n",
       "      <td>death</td>\n",
       "      <td>1926.0</td>\n",
       "      <td>39710.0</td>\n",
       "    </tr>\n",
       "    <tr>\n",
       "      <th>11</th>\n",
       "      <td>May</td>\n",
       "      <td>death</td>\n",
       "      <td>1601.0</td>\n",
       "      <td>23035.0</td>\n",
       "    </tr>\n",
       "    <tr>\n",
       "      <th>10</th>\n",
       "      <td>May</td>\n",
       "      <td>case</td>\n",
       "      <td>74529.0</td>\n",
       "      <td>2041790.0</td>\n",
       "    </tr>\n",
       "    <tr>\n",
       "      <th>9</th>\n",
       "      <td>Jun</td>\n",
       "      <td>death</td>\n",
       "      <td>1841.0</td>\n",
       "      <td>17965.0</td>\n",
       "    </tr>\n",
       "  </tbody>\n",
       "</table>\n",
       "</div>"
      ],
      "text/plain": [
       "   month outcome  Vaccinated with outcome  Unvaccinated with outcome\n",
       "0    Apr    case                  87079.0                  4398055.0\n",
       "1    Apr   death                   1926.0                    39710.0\n",
       "11   May   death                   1601.0                    23035.0\n",
       "10   May    case                  74529.0                  2041790.0\n",
       "9    Jun   death                   1841.0                    17965.0"
      ]
     },
     "execution_count": 18,
     "metadata": {},
     "output_type": "execute_result"
    }
   ],
   "source": [
    "#Capturing the data for the COVID outcomes\n",
    "vax_outcome_vax_df = vax_data[[\"month\", \"outcome\", \"Vaccinated with outcome\",\"Unvaccinated with outcome\"]]\n",
    "vax_data_grouped_outcome = vax_outcome_vax_df.groupby([\"month\",\"outcome\"],as_index=False)\n",
    "outcome_df = vax_data_grouped_outcome.sum().sort_values('month', key = lambda x : x.apply (lambda x : month_dict[x]))\n",
    "\n",
    "outcome_df.head()\n"
   ]
  },
  {
   "cell_type": "markdown",
   "id": "11d5c5bb",
   "metadata": {},
   "source": [
    "### COVID Cases by vaccination status (Apr - Dec 2021)"
   ]
  },
  {
   "cell_type": "markdown",
   "id": "32dacb6d",
   "metadata": {},
   "source": [
    "**Vaccinated status based on the COVID positive cases per month**"
   ]
  },
  {
   "cell_type": "code",
   "execution_count": 19,
   "id": "4f1f7602",
   "metadata": {},
   "outputs": [
    {
     "data": {
      "text/html": [
       "<div>\n",
       "<style scoped>\n",
       "    .dataframe tbody tr th:only-of-type {\n",
       "        vertical-align: middle;\n",
       "    }\n",
       "\n",
       "    .dataframe tbody tr th {\n",
       "        vertical-align: top;\n",
       "    }\n",
       "\n",
       "    .dataframe thead th {\n",
       "        text-align: right;\n",
       "    }\n",
       "</style>\n",
       "<table border=\"1\" class=\"dataframe\">\n",
       "  <thead>\n",
       "    <tr style=\"text-align: right;\">\n",
       "      <th></th>\n",
       "      <th>month</th>\n",
       "      <th>outcome</th>\n",
       "      <th>Vaccinated with outcome</th>\n",
       "      <th>Unvaccinated with outcome</th>\n",
       "    </tr>\n",
       "  </thead>\n",
       "  <tbody>\n",
       "    <tr>\n",
       "      <th>0</th>\n",
       "      <td>Apr</td>\n",
       "      <td>case</td>\n",
       "      <td>87079.0</td>\n",
       "      <td>4398055.0</td>\n",
       "    </tr>\n",
       "    <tr>\n",
       "      <th>10</th>\n",
       "      <td>May</td>\n",
       "      <td>case</td>\n",
       "      <td>74529.0</td>\n",
       "      <td>2041790.0</td>\n",
       "    </tr>\n",
       "  </tbody>\n",
       "</table>\n",
       "</div>"
      ],
      "text/plain": [
       "   month outcome  Vaccinated with outcome  Unvaccinated with outcome\n",
       "0    Apr    case                  87079.0                  4398055.0\n",
       "10   May    case                  74529.0                  2041790.0"
      ]
     },
     "execution_count": 19,
     "metadata": {},
     "output_type": "execute_result"
    }
   ],
   "source": [
    "case_only= outcome_df[outcome_df[\"outcome\"] ==\"case\"]\n",
    "case_only.head(2)"
   ]
  },
  {
   "cell_type": "code",
   "execution_count": 20,
   "id": "60225701",
   "metadata": {},
   "outputs": [
    {
     "data": {
      "image/png": "[encoded data removed]",
      "text/plain": [
       "<Figure size 1080x432 with 1 Axes>"
      ]
     },
     "metadata": {
      "needs_background": "light"
     },
     "output_type": "display_data"
    }
   ],
   "source": [
    "#Plotting Dataframe created from the GroupBy\n",
    "vax_case_plot =case_only.plot.bar(x=\"month\",rot=45,\n",
    "                                    title=\"Case by Month - Vaccinated vs Unvaccinated\", figsize=(15,6),\n",
    "                                 color={\"Unvaccinated with outcome\": dodger_blue, \"Vaccinated with outcome\":debian_red}) \n",
    "vax_case_plot.set_ylabel(\"Population (billions)\")\n",
    "vax_case_plot.set_xlabel(\"Months (year 2021)\")\n",
    "vax_case_plot.legend(loc=\"best\")\n",
    "plt.savefig(\"images/us_cases_vax_status.png\")\n"
   ]
  },
  {
   "cell_type": "markdown",
   "id": "eac6b795",
   "metadata": {},
   "source": [
    "### COVID Deaths by vaccination status (Apr - Dec 2021)"
   ]
  },
  {
   "cell_type": "markdown",
   "id": "064ed0f6",
   "metadata": {},
   "source": [
    "**Vaccinated status based on the COVID positive death per month**"
   ]
  },
  {
   "cell_type": "code",
   "execution_count": 21,
   "id": "8142fd2e",
   "metadata": {},
   "outputs": [
    {
     "data": {
      "text/html": [
       "<div>\n",
       "<style scoped>\n",
       "    .dataframe tbody tr th:only-of-type {\n",
       "        vertical-align: middle;\n",
       "    }\n",
       "\n",
       "    .dataframe tbody tr th {\n",
       "        vertical-align: top;\n",
       "    }\n",
       "\n",
       "    .dataframe thead th {\n",
       "        text-align: right;\n",
       "    }\n",
       "</style>\n",
       "<table border=\"1\" class=\"dataframe\">\n",
       "  <thead>\n",
       "    <tr style=\"text-align: right;\">\n",
       "      <th></th>\n",
       "      <th>month</th>\n",
       "      <th>outcome</th>\n",
       "      <th>Vaccinated with outcome</th>\n",
       "      <th>Unvaccinated with outcome</th>\n",
       "    </tr>\n",
       "  </thead>\n",
       "  <tbody>\n",
       "    <tr>\n",
       "      <th>1</th>\n",
       "      <td>Apr</td>\n",
       "      <td>death</td>\n",
       "      <td>1926.0</td>\n",
       "      <td>39710.0</td>\n",
       "    </tr>\n",
       "    <tr>\n",
       "      <th>11</th>\n",
       "      <td>May</td>\n",
       "      <td>death</td>\n",
       "      <td>1601.0</td>\n",
       "      <td>23035.0</td>\n",
       "    </tr>\n",
       "  </tbody>\n",
       "</table>\n",
       "</div>"
      ],
      "text/plain": [
       "   month outcome  Vaccinated with outcome  Unvaccinated with outcome\n",
       "1    Apr   death                   1926.0                    39710.0\n",
       "11   May   death                   1601.0                    23035.0"
      ]
     },
     "execution_count": 21,
     "metadata": {},
     "output_type": "execute_result"
    }
   ],
   "source": [
    "#Filtering out the Outcome for Deaths per Month for both vaccinated and unvaccinated population\n",
    "death_only= outcome_df[outcome_df[\"outcome\"] ==\"death\"]\n",
    "death_only.head(2)\n"
   ]
  },
  {
   "cell_type": "code",
   "execution_count": 22,
   "id": "d58d6e64",
   "metadata": {},
   "outputs": [
    {
     "data": {
      "image/png": "[encoded data removed]",
      "text/plain": [
       "<Figure size 1080x432 with 1 Axes>"
      ]
     },
     "metadata": {
      "needs_background": "light"
     },
     "output_type": "display_data"
    }
   ],
   "source": [
    "#Plotting Dataframe for Death of vaccinated vs unvaccinated\n",
    "vax_death_plot =death_only.plot.bar(x=\"month\",rot=45,\n",
    "                                    title=\"Death by Month - Vaccinated vs Unvaccinated\", figsize=(15,6),\n",
    "                                   color={\"Unvaccinated with outcome\": dodger_blue, \"Vaccinated with outcome\":debian_red})\n",
    "vax_death_plot.set_ylabel(\"Total Dead Count\")\n",
    "vax_death_plot.set_xlabel(\"Months (year 2021)\")\n",
    "vax_death_plot.legend(loc=\"best\")\n",
    "plt.savefig(\"images/us_death_vax_status.png\")\n"
   ]
  },
  {
   "cell_type": "markdown",
   "id": "ef834296",
   "metadata": {},
   "source": [
    "### Summary Statistics"
   ]
  },
  {
   "cell_type": "markdown",
   "id": "3eca31dc",
   "metadata": {},
   "source": [
    "US vaccination trend:\n",
    "Based on the line graph below, the fully vaccinated population is increasing. From the 2021 data, there is no evidence in a plateau of the vaccination rate."
   ]
  },
  {
   "cell_type": "code",
   "execution_count": 23,
   "id": "ac8fcce3",
   "metadata": {},
   "outputs": [
    {
     "data": {
      "text/plain": [
       "<AxesSubplot:xlabel='month'>"
      ]
     },
     "execution_count": 23,
     "metadata": {},
     "output_type": "execute_result"
    },
    {
     "data": {
      "image/png": "[encoded data removed]",
      "text/plain": [
       "<Figure size 432x288 with 1 Axes>"
      ]
     },
     "metadata": {
      "needs_background": "light"
     },
     "output_type": "display_data"
    }
   ],
   "source": [
    "#Using the vaccination population figures, there was not a plateau in the number of people getting \n",
    "#vaccinated close to the end of the year. More people were choosing to be vaccinated.trends\n",
    "vax_pop_df.plot.line()\n"
   ]
  },
  {
   "cell_type": "code",
   "execution_count": 24,
   "id": "2ca95000",
   "metadata": {},
   "outputs": [
    {
     "name": "stdout",
     "output_type": "stream",
     "text": [
      "The correlation between the fully vaccinated and unvaccinated population is -0.55\n"
     ]
    }
   ],
   "source": [
    "# Calculate the correlation coefficient for fully vaccinated vs unvaccinated population\n",
    "\n",
    "fully_vax = vax_pop_df.iloc[:,0]\n",
    "unvax = vax_pop_df.iloc[:,1]\n",
    "correlation = stats.pearsonr(fully_vax,unvax)\n",
    "print(f\"The correlation between the fully vaccinated and unvaccinated population is {round(correlation[0],2)}\")\n"
   ]
  },
  {
   "cell_type": "code",
   "execution_count": 25,
   "id": "c26f2ffd",
   "metadata": {},
   "outputs": [
    {
     "name": "stdout",
     "output_type": "stream",
     "text": [
      "The correlation between the fully vaccinated and unvaccinated death is 0.91\n"
     ]
    }
   ],
   "source": [
    "# Calculate the correlation coefficient for fully vaccinated vs unvaccinated deaths\n",
    "\n",
    "fully_vax_death = death_only.iloc[:,2]\n",
    "unvax_death = death_only.iloc[:,3]\n",
    "correlation = stats.pearsonr(fully_vax_death,unvax_death)\n",
    "print(f\"The correlation between the fully vaccinated and unvaccinated death is {round(correlation[0],2)}\")"
   ]
  },
  {
   "cell_type": "markdown",
   "id": "af59ca56",
   "metadata": {},
   "source": [
    "### Summary Analysis"
   ]
  },
  {
   "cell_type": "code",
   "execution_count": 26,
   "id": "12d0a09a",
   "metadata": {},
   "outputs": [
    {
     "data": {
      "text/plain": [
       "Ttest_indResult(statistic=-3.655805552976014, pvalue=0.00570508686987918)"
      ]
     },
     "execution_count": 26,
     "metadata": {},
     "output_type": "execute_result"
    }
   ],
   "source": [
    "#Separating the death counts for both vaccinated and unvaccinated outcome resulting in death\n",
    "#Per the Null Hypothesis: There is no difference in the death rate based on vaccination status.\n",
    "\n",
    "death_numbers = death_only[[\"Vaccinated with outcome\",\"Unvaccinated with outcome\"]]\n",
    "\n",
    "# Note: Setting equal_var=False performs Welch's t-test which does \n",
    "# not assume equal population variance\n",
    "stats.ttest_ind(death_numbers[\"Vaccinated with outcome\"], death_numbers[\"Unvaccinated with outcome\"], equal_var=False)"
   ]
  },
  {
   "cell_type": "markdown",
   "id": "38e3b403",
   "metadata": {},
   "source": [
    "## COVID-19 Vaccination - Age"
   ]
  },
  {
   "cell_type": "markdown",
   "id": "204073eb",
   "metadata": {},
   "source": [
    "### Clean COVID-19 Vaccination Data"
   ]
  },
  {
   "cell_type": "code",
   "execution_count": 27,
   "id": "0e4103fa",
   "metadata": {},
   "outputs": [
    {
     "data": {
      "text/html": [
       "<div>\n",
       "<style scoped>\n",
       "    .dataframe tbody tr th:only-of-type {\n",
       "        vertical-align: middle;\n",
       "    }\n",
       "\n",
       "    .dataframe tbody tr th {\n",
       "        vertical-align: top;\n",
       "    }\n",
       "\n",
       "    .dataframe thead th {\n",
       "        text-align: right;\n",
       "    }\n",
       "</style>\n",
       "<table border=\"1\" class=\"dataframe\">\n",
       "  <thead>\n",
       "    <tr style=\"text-align: right;\">\n",
       "      <th></th>\n",
       "      <th>Demographic_Category</th>\n",
       "      <th>Administered_Dose1</th>\n",
       "    </tr>\n",
       "  </thead>\n",
       "  <tbody>\n",
       "    <tr>\n",
       "      <th>0</th>\n",
       "      <td>Female_Ages_&lt;5yrs</td>\n",
       "      <td>17005.0</td>\n",
       "    </tr>\n",
       "    <tr>\n",
       "      <th>1</th>\n",
       "      <td>Female_Ages_&lt;5yrs</td>\n",
       "      <td>NaN</td>\n",
       "    </tr>\n",
       "    <tr>\n",
       "      <th>2</th>\n",
       "      <td>Ages_12-17_yrs</td>\n",
       "      <td>570485.0</td>\n",
       "    </tr>\n",
       "    <tr>\n",
       "      <th>3</th>\n",
       "      <td>Ages_12-17_yrs</td>\n",
       "      <td>2519383.0</td>\n",
       "    </tr>\n",
       "    <tr>\n",
       "      <th>4</th>\n",
       "      <td>Ages_75+_yrs</td>\n",
       "      <td>2415141.0</td>\n",
       "    </tr>\n",
       "    <tr>\n",
       "      <th>...</th>\n",
       "      <td>...</td>\n",
       "      <td>...</td>\n",
       "    </tr>\n",
       "    <tr>\n",
       "      <th>1329775</th>\n",
       "      <td>Ages_75+_yrs</td>\n",
       "      <td>70.0</td>\n",
       "    </tr>\n",
       "    <tr>\n",
       "      <th>1329776</th>\n",
       "      <td>Female_Ages_65+_yrs</td>\n",
       "      <td>86.0</td>\n",
       "    </tr>\n",
       "    <tr>\n",
       "      <th>1329777</th>\n",
       "      <td>Female_Ages_65-74_yrs</td>\n",
       "      <td>14.0</td>\n",
       "    </tr>\n",
       "    <tr>\n",
       "      <th>1329778</th>\n",
       "      <td>Female_Ages_75+_yrs</td>\n",
       "      <td>8.0</td>\n",
       "    </tr>\n",
       "    <tr>\n",
       "      <th>1329779</th>\n",
       "      <td>Female_Ages_75+_yrs</td>\n",
       "      <td>16.0</td>\n",
       "    </tr>\n",
       "  </tbody>\n",
       "</table>\n",
       "<p>1329780 rows × 2 columns</p>\n",
       "</div>"
      ],
      "text/plain": [
       "          Demographic_Category  Administered_Dose1\n",
       "0            Female_Ages_<5yrs             17005.0\n",
       "1            Female_Ages_<5yrs                 NaN\n",
       "2               Ages_12-17_yrs            570485.0\n",
       "3               Ages_12-17_yrs           2519383.0\n",
       "4                 Ages_75+_yrs           2415141.0\n",
       "...                        ...                 ...\n",
       "1329775           Ages_75+_yrs                70.0\n",
       "1329776    Female_Ages_65+_yrs                86.0\n",
       "1329777  Female_Ages_65-74_yrs                14.0\n",
       "1329778    Female_Ages_75+_yrs                 8.0\n",
       "1329779    Female_Ages_75+_yrs                16.0\n",
       "\n",
       "[1329780 rows x 2 columns]"
      ]
     },
     "execution_count": 27,
     "metadata": {},
     "output_type": "execute_result"
    }
   ],
   "source": [
    "#Vaccinations By Age\n",
    "\n",
    "# Import our data into pandas from CSV\n",
    "cleaned_age_1stdose_csv = 'Resources/COVID-19_Vaccination_Age_and_Sex_Trends_in_the_United_States__National_and_Jurisdictional.csv'\n",
    "cleaned_age_1stdose = pd.read_csv(cleaned_age_1stdose_csv, low_memory=False)\n",
    "\n",
    "del cleaned_age_1stdose['Date']\n",
    "del cleaned_age_1stdose['Location']\n",
    "del cleaned_age_1stdose['census']\n",
    "del cleaned_age_1stdose['Series_Complete_Yes']\n",
    "del cleaned_age_1stdose['Administered_Dose1_pct_agegroup']\n",
    "del cleaned_age_1stdose['Series_Complete_Pop_pct_agegroup']\n",
    "del cleaned_age_1stdose['Booster_Doses']\n",
    "del cleaned_age_1stdose['Booster_Doses_Vax_pct_agegroup']\n",
    "\n",
    "\n",
    "cleaned_age_1stdose\n"
   ]
  },
  {
   "cell_type": "code",
   "execution_count": 28,
   "id": "20d1c0fd",
   "metadata": {},
   "outputs": [
    {
     "name": "stdout",
     "output_type": "stream",
     "text": [
      "                       Administered_Dose1\n",
      "Demographic_Category                     \n",
      "Age_Unknown                           2.0\n",
      "Ages_12-17_yrs                   157485.0\n",
      "Ages_18-24_yrs                    41018.0\n",
      "Ages_25-39_yrs                 49479615.0\n",
      "Ages_25-49_yrs                  1425229.0\n",
      "Ages_40-49_yrs                   255636.0\n",
      "Ages_5-11_yrs                       227.0\n",
      "Ages_50-64_yrs                   192690.0\n",
      "Ages_65+_yrs                    1121902.0\n",
      "Ages_65-74_yrs                  2730723.0\n",
      "Ages_75+_yrs                    1960419.0\n",
      "Ages_<5yrs                        13294.0\n",
      "Female_Ages_12-17_yrs            171302.0\n",
      "Female_Ages_18-24_yrs             66807.0\n",
      "Female_Ages_25-39_yrs            279288.0\n",
      "Female_Ages_25-49_yrs            287980.0\n",
      "Female_Ages_40-49_yrs             63278.0\n",
      "Female_Ages_5-11_yrs               2650.0\n",
      "Female_Ages_50-64_yrs             55614.0\n",
      "Female_Ages_65+_yrs              342038.0\n",
      "Female_Ages_65-74_yrs            930591.0\n",
      "Female_Ages_75+_yrs              148816.0\n",
      "Female_Ages_<5yrs                 17005.0\n",
      "Male_Ages_12-17_yrs              204887.0\n",
      "Male_Ages_18-24_yrs               67523.0\n",
      "Male_Ages_25-39_yrs              248437.0\n",
      "Male_Ages_25-49_yrs                 773.0\n",
      "Male_Ages_40-49_yrs              296513.0\n",
      "Male_Ages_5-11_yrs                   32.0\n",
      "Male_Ages_50-64_yrs              544912.0\n",
      "Male_Ages_65+_yrs                126193.0\n",
      "Male_Ages_65-74_yrs              107263.0\n",
      "Male_Ages_75+_yrs                168154.0\n",
      "Male_Ages_<5yrs                  274451.0\n",
      "Sex_Female                       192557.0\n",
      "Sex_Male                         101634.0\n",
      "Sex_Unknown                         131.0\n"
     ]
    }
   ],
   "source": [
    "sorted_df = cleaned_age_1stdose.sort_values(by='Demographic_Category')\n",
    "\n",
    "#sorted_df\n",
    "\n",
    "sorted_df = sorted_df.replace(\"Nan\", np.nan)\n",
    "new_sorted_df = sorted_df.groupby('Demographic_Category').first()\n",
    "print(new_sorted_df)"
   ]
  },
  {
   "cell_type": "code",
   "execution_count": 29,
   "id": "921eda35",
   "metadata": {},
   "outputs": [
    {
     "data": {
      "text/html": [
       "<div>\n",
       "<style scoped>\n",
       "    .dataframe tbody tr th:only-of-type {\n",
       "        vertical-align: middle;\n",
       "    }\n",
       "\n",
       "    .dataframe tbody tr th {\n",
       "        vertical-align: top;\n",
       "    }\n",
       "\n",
       "    .dataframe thead th {\n",
       "        text-align: right;\n",
       "    }\n",
       "</style>\n",
       "<table border=\"1\" class=\"dataframe\">\n",
       "  <thead>\n",
       "    <tr style=\"text-align: right;\">\n",
       "      <th></th>\n",
       "      <th>Demographic_Category</th>\n",
       "      <th>Administered_Dose1</th>\n",
       "    </tr>\n",
       "  </thead>\n",
       "  <tbody>\n",
       "    <tr>\n",
       "      <th>1107916</th>\n",
       "      <td>Ages_18-24_yrs</td>\n",
       "      <td>41018.0</td>\n",
       "    </tr>\n",
       "    <tr>\n",
       "      <th>1107610</th>\n",
       "      <td>Ages_18-24_yrs</td>\n",
       "      <td>16156.0</td>\n",
       "    </tr>\n",
       "    <tr>\n",
       "      <th>307592</th>\n",
       "      <td>Ages_18-24_yrs</td>\n",
       "      <td>51335.0</td>\n",
       "    </tr>\n",
       "    <tr>\n",
       "      <th>826474</th>\n",
       "      <td>Ages_18-24_yrs</td>\n",
       "      <td>419235.0</td>\n",
       "    </tr>\n",
       "    <tr>\n",
       "      <th>1192137</th>\n",
       "      <td>Ages_18-24_yrs</td>\n",
       "      <td>68173.0</td>\n",
       "    </tr>\n",
       "    <tr>\n",
       "      <th>...</th>\n",
       "      <td>...</td>\n",
       "      <td>...</td>\n",
       "    </tr>\n",
       "    <tr>\n",
       "      <th>199898</th>\n",
       "      <td>Ages_75+_yrs</td>\n",
       "      <td>321359.0</td>\n",
       "    </tr>\n",
       "    <tr>\n",
       "      <th>983561</th>\n",
       "      <td>Ages_75+_yrs</td>\n",
       "      <td>96221.0</td>\n",
       "    </tr>\n",
       "    <tr>\n",
       "      <th>1137660</th>\n",
       "      <td>Ages_75+_yrs</td>\n",
       "      <td>59557.0</td>\n",
       "    </tr>\n",
       "    <tr>\n",
       "      <th>84690</th>\n",
       "      <td>Ages_75+_yrs</td>\n",
       "      <td>137401.0</td>\n",
       "    </tr>\n",
       "    <tr>\n",
       "      <th>1153619</th>\n",
       "      <td>Ages_75+_yrs</td>\n",
       "      <td>177374.0</td>\n",
       "    </tr>\n",
       "  </tbody>\n",
       "</table>\n",
       "<p>215640 rows × 2 columns</p>\n",
       "</div>"
      ],
      "text/plain": [
       "        Demographic_Category  Administered_Dose1\n",
       "1107916       Ages_18-24_yrs             41018.0\n",
       "1107610       Ages_18-24_yrs             16156.0\n",
       "307592        Ages_18-24_yrs             51335.0\n",
       "826474        Ages_18-24_yrs            419235.0\n",
       "1192137       Ages_18-24_yrs             68173.0\n",
       "...                      ...                 ...\n",
       "199898          Ages_75+_yrs            321359.0\n",
       "983561          Ages_75+_yrs             96221.0\n",
       "1137660         Ages_75+_yrs             59557.0\n",
       "84690           Ages_75+_yrs            137401.0\n",
       "1153619         Ages_75+_yrs            177374.0\n",
       "\n",
       "[215640 rows x 2 columns]"
      ]
     },
     "execution_count": 29,
     "metadata": {},
     "output_type": "execute_result"
    }
   ],
   "source": [
    "sorted_df[(sorted_df.Demographic_Category != \"Age_Unknown\") & (sorted_df.Demographic_Category != \"Sex_Unknown\") \\\n",
    "          & (sorted_df.Demographic_Category != \"Ages_12-17_yrs\") & (sorted_df.Demographic_Category != \"Sex_Male\") & (sorted_df.Demographic_Category != \"Sex_Female\") \\\n",
    "          & (sorted_df.Demographic_Category != \"Male_Ages_<5yrs\") & (sorted_df.Demographic_Category != \"Male_Ages_75+_yrs\")\\\n",
    "          & (sorted_df.Demographic_Category != \"Male_Ages_65-74_yrs\") & (sorted_df.Demographic_Category != \"Male_Ages_65+_yrs\")\\\n",
    "          & (sorted_df.Demographic_Category != \"Male_Ages_50-64_yrs\") & (sorted_df.Demographic_Category != \"Male_Ages_5-11_yrs\")\\\n",
    "          & (sorted_df.Demographic_Category != \"Male_Ages_40-49_yrs\") & (sorted_df.Demographic_Category != \"Male_Ages_25-49_yrs\")\\\n",
    "          & (sorted_df.Demographic_Category != \"Male_Ages_25-39_yrs\") & (sorted_df.Demographic_Category != \"Male_Ages_18-24_yrs\")\\\n",
    "          & (sorted_df.Demographic_Category != \"Male_Ages_12-17_yrs\") & (sorted_df.Demographic_Category != \"Female_Ages_<5yrs\")\\\n",
    "          & (sorted_df.Demographic_Category != \"Female_Ages_75+_yrs\") & (sorted_df.Demographic_Category != \"Female_Ages_65-74_yrs\")\\\n",
    "          & (sorted_df.Demographic_Category != \"Female_Ages_65+_yrs\") & (sorted_df.Demographic_Category != \"Female_Ages_50-64_yrs\")\\\n",
    "          & (sorted_df.Demographic_Category != \"Female_Ages_5-11_yrs\")& (sorted_df.Demographic_Category != \"Female_Ages_40-49_yrs\")\\\n",
    "          & (sorted_df.Demographic_Category != \"Female_Ages_25-49_yrs\")& (sorted_df.Demographic_Category != \"Female_Ages_25-39_yrs\")\\\n",
    "          & (sorted_df.Demographic_Category != \"Female_Ages_18-24_yrs\")& (sorted_df.Demographic_Category != \"Female_Ages_12-17_yrs\") & (sorted_df.Demographic_Category != \"Ages_<5yrs\")\\\n",
    "          & (sorted_df.Demographic_Category != \"Ages_5-11_yrs\") & (sorted_df.Demographic_Category != \"Ages_65+_yrs\") & (sorted_df.Demographic_Category != \"Ages_25-49_yrs\")]\n",
    "         "
   ]
  },
  {
   "cell_type": "code",
   "execution_count": 76,
   "id": "046aabde",
   "metadata": {},
   "outputs": [
    {
     "data": {
      "text/plain": [
       "pandas.core.frame.DataFrame"
      ]
     },
     "execution_count": 76,
     "metadata": {},
     "output_type": "execute_result"
    }
   ],
   "source": [
    "type(sorted_df)"
   ]
  },
  {
   "cell_type": "markdown",
   "id": "ad068905",
   "metadata": {},
   "source": [
    "### Graphicial Representation of the Data"
   ]
  },
  {
   "cell_type": "code",
   "execution_count": null,
   "id": "e80465e7",
   "metadata": {},
   "outputs": [],
   "source": [
    "#sorted_df = pd.DataFrame(sorted_df)\n",
    "  \n",
    "X = list(sorted_df.iloc[:, 0])\n",
    "Y = list(sorted_df.iloc[:, 1])\n",
    "  \n",
    "# Plot the data using bar() method\n",
    "#plt.figure(figsize=(5,5))  #sizing chart. might be better way\n",
    "plt.barh(X, Y, color='g')\n",
    "plt.title(\"Covid Vaccinations by Age\")\n",
    "plt.xlabel(\"Number of Vaccinated (in MM)\")\n",
    "plt.ylabel(\"Age Groups\")\n",
    "plt.xticks(rotation=90)\n",
    "plt.tight_layout()"
   ]
  },
  {
   "cell_type": "code",
   "execution_count": 78,
   "id": "aba47998",
   "metadata": {},
   "outputs": [
    {
     "data": {
      "text/html": [
       "<div>\n",
       "<style scoped>\n",
       "    .dataframe tbody tr th:only-of-type {\n",
       "        vertical-align: middle;\n",
       "    }\n",
       "\n",
       "    .dataframe tbody tr th {\n",
       "        vertical-align: top;\n",
       "    }\n",
       "\n",
       "    .dataframe thead th {\n",
       "        text-align: right;\n",
       "    }\n",
       "</style>\n",
       "<table border=\"1\" class=\"dataframe\">\n",
       "  <thead>\n",
       "    <tr style=\"text-align: right;\">\n",
       "      <th></th>\n",
       "      <th>Demographic_Category</th>\n",
       "      <th>Administered_Dose1</th>\n",
       "    </tr>\n",
       "  </thead>\n",
       "  <tbody>\n",
       "    <tr>\n",
       "      <th>4</th>\n",
       "      <td>Ages_18-24_yrs</td>\n",
       "      <td>41018</td>\n",
       "    </tr>\n",
       "    <tr>\n",
       "      <th>5</th>\n",
       "      <td>Ages_25-39_yrs</td>\n",
       "      <td>1425229</td>\n",
       "    </tr>\n",
       "    <tr>\n",
       "      <th>6</th>\n",
       "      <td>Ages_40-49_yrs</td>\n",
       "      <td>255636</td>\n",
       "    </tr>\n",
       "    <tr>\n",
       "      <th>7</th>\n",
       "      <td>Ages_50-64_yrs</td>\n",
       "      <td>192690</td>\n",
       "    </tr>\n",
       "    <tr>\n",
       "      <th>8</th>\n",
       "      <td>Ages_65-74_yrs</td>\n",
       "      <td>2730723</td>\n",
       "    </tr>\n",
       "    <tr>\n",
       "      <th>9</th>\n",
       "      <td>Ages_75+yrs</td>\n",
       "      <td>1960419</td>\n",
       "    </tr>\n",
       "  </tbody>\n",
       "</table>\n",
       "</div>"
      ],
      "text/plain": [
       "  Demographic_Category  Administered_Dose1\n",
       "4       Ages_18-24_yrs               41018\n",
       "5       Ages_25-39_yrs             1425229\n",
       "6       Ages_40-49_yrs              255636\n",
       "7       Ages_50-64_yrs              192690\n",
       "8       Ages_65-74_yrs             2730723\n",
       "9          Ages_75+yrs             1960419"
      ]
     },
     "execution_count": 78,
     "metadata": {},
     "output_type": "execute_result"
    }
   ],
   "source": [
    "# Import our data into pandas from CSV\n",
    "age_vacc_csv = 'Resources/age_vacc_cleaned.csv'\n",
    "age_vacc = pd.read_csv(age_vacc_csv, low_memory=False)\n",
    "\n",
    "age_vacc = age_vacc.drop(age_vacc.index [ [ 0,1,2,3 ] ])\n",
    "\n",
    "age_vacc"
   ]
  },
  {
   "cell_type": "code",
   "execution_count": 79,
   "id": "c7055534",
   "metadata": {},
   "outputs": [
    {
     "data": {
      "image/png": "[encoded data removed]",
      "text/plain": [
       "<Figure size 432x288 with 1 Axes>"
      ]
     },
     "metadata": {
      "needs_background": "light"
     },
     "output_type": "display_data"
    }
   ],
   "source": [
    "#age_vacc = pd.DataFrame(age_vacc)\n",
    "  \n",
    "X = list(age_vacc.iloc[:, 0])\n",
    "Y = list(age_vacc.iloc[:, 1])\n",
    "  \n",
    "# Plot the data using bar() method\n",
    "#plt.figure(figsize=(5,5))  #sizing chart. might be better way\n",
    "plt.barh(X, Y, color='g')\n",
    "plt.title(\"Covid Vaccinations by Age - 2021\")\n",
    "plt.xlabel(\"Number of Vaccinated (in MM)\")\n",
    "plt.ylabel(\"Age Groups\")\n",
    "plt.xticks(rotation=90)\n",
    "plt.tight_layout()\n",
    "\n",
    "\n",
    "\n",
    "# Show the plot\n",
    "plt.show()"
   ]
  },
  {
   "cell_type": "code",
   "execution_count": 80,
   "id": "53be06bd",
   "metadata": {},
   "outputs": [
    {
     "data": {
      "text/html": [
       "<div>\n",
       "<style scoped>\n",
       "    .dataframe tbody tr th:only-of-type {\n",
       "        vertical-align: middle;\n",
       "    }\n",
       "\n",
       "    .dataframe tbody tr th {\n",
       "        vertical-align: top;\n",
       "    }\n",
       "\n",
       "    .dataframe thead th {\n",
       "        text-align: right;\n",
       "    }\n",
       "</style>\n",
       "<table border=\"1\" class=\"dataframe\">\n",
       "  <thead>\n",
       "    <tr style=\"text-align: right;\">\n",
       "      <th></th>\n",
       "      <th>Age Group</th>\n",
       "      <th>Count of deaths</th>\n",
       "    </tr>\n",
       "  </thead>\n",
       "  <tbody>\n",
       "    <tr>\n",
       "      <th>4</th>\n",
       "      <td>18-29 Years</td>\n",
       "      <td>6426</td>\n",
       "    </tr>\n",
       "    <tr>\n",
       "      <th>5</th>\n",
       "      <td>30-39 Years</td>\n",
       "      <td>15968</td>\n",
       "    </tr>\n",
       "    <tr>\n",
       "      <th>6</th>\n",
       "      <td>40-49 Years</td>\n",
       "      <td>36505</td>\n",
       "    </tr>\n",
       "    <tr>\n",
       "      <th>7</th>\n",
       "      <td>50-64 Years</td>\n",
       "      <td>159711</td>\n",
       "    </tr>\n",
       "    <tr>\n",
       "      <th>8</th>\n",
       "      <td>65-74 Years</td>\n",
       "      <td>199767</td>\n",
       "    </tr>\n",
       "    <tr>\n",
       "      <th>9</th>\n",
       "      <td>75+ Years</td>\n",
       "      <td>465290</td>\n",
       "    </tr>\n",
       "  </tbody>\n",
       "</table>\n",
       "</div>"
      ],
      "text/plain": [
       "     Age Group  Count of deaths\n",
       "4  18-29 Years             6426\n",
       "5  30-39 Years            15968\n",
       "6  40-49 Years            36505\n",
       "7  50-64 Years           159711\n",
       "8  65-74 Years           199767\n",
       "9    75+ Years           465290"
      ]
     },
     "execution_count": 80,
     "metadata": {},
     "output_type": "execute_result"
    }
   ],
   "source": [
    "#Number of Deaths\n",
    "# Import our data into pandas from CSV\n",
    "cleaned_death_csv = 'Resources/deaths_by_age_group_cleaned.csv'\n",
    "cleaned_death = pd.read_csv(cleaned_death_csv, low_memory=False)\n",
    "\n",
    "#drop columns/rows not needed\n",
    "cleaned_death = cleaned_death.drop(cleaned_death.index [ [ 0,1,2,3 ] ])\n",
    "del cleaned_death['Percentage of deaths']\n",
    "del cleaned_death['Percent of US population']\n",
    "\n",
    "cleaned_death"
   ]
  },
  {
   "cell_type": "code",
   "execution_count": 81,
   "id": "0f7da7ce",
   "metadata": {},
   "outputs": [
    {
     "data": {
      "image/png": "[encoded data removed]",
      "text/plain": [
       "<Figure size 432x288 with 1 Axes>"
      ]
     },
     "metadata": {
      "needs_background": "light"
     },
     "output_type": "display_data"
    }
   ],
   "source": [
    "cleaned_death = pd.DataFrame(cleaned_death)\n",
    "  \n",
    "X = list(cleaned_death.iloc[:, 0])\n",
    "Y = list(cleaned_death.iloc[:, 1])\n",
    "  \n",
    "# Plot the data using bar() method\n",
    "#plt.figure(figsize=(5,5))  #sizing chart. might be better way\n",
    "plt.barh(X, Y, color='r')\n",
    "plt.title(\"Total Covid Deaths\")\n",
    "plt.xlabel(\"Number of Deaths\")\n",
    "plt.ylabel(\"Age Groups\")\n",
    "plt.xticks(rotation=90)\n",
    "plt.tight_layout()\n",
    "\n",
    "\n",
    "\n",
    "# Show the plot\n",
    "plt.show()"
   ]
  },
  {
   "cell_type": "markdown",
   "id": "1a540ca8",
   "metadata": {},
   "source": [
    "## COVID-19 Vaccination - Sex"
   ]
  },
  {
   "cell_type": "markdown",
   "id": "584e8f70",
   "metadata": {},
   "source": [
    "### Clean COVID-19 Vaccination Data"
   ]
  },
  {
   "cell_type": "code",
   "execution_count": 61,
   "id": "be009143",
   "metadata": {},
   "outputs": [
    {
     "name": "stderr",
     "output_type": "stream",
     "text": [
      "C:\\bootcamp\\anaconda3\\lib\\site-packages\\IPython\\core\\interactiveshell.py:3444: DtypeWarning: Columns (6) have mixed types.Specify dtype option on import or set low_memory=False.\n",
      "  exec(code_obj, self.user_global_ns, self.user_ns)\n"
     ]
    },
    {
     "data": {
      "text/html": [
       "<div>\n",
       "<style scoped>\n",
       "    .dataframe tbody tr th:only-of-type {\n",
       "        vertical-align: middle;\n",
       "    }\n",
       "\n",
       "    .dataframe tbody tr th {\n",
       "        vertical-align: top;\n",
       "    }\n",
       "\n",
       "    .dataframe thead th {\n",
       "        text-align: right;\n",
       "    }\n",
       "</style>\n",
       "<table border=\"1\" class=\"dataframe\">\n",
       "  <thead>\n",
       "    <tr style=\"text-align: right;\">\n",
       "      <th></th>\n",
       "      <th>Date</th>\n",
       "      <th>Location</th>\n",
       "      <th>Demographic_Category</th>\n",
       "      <th>census</th>\n",
       "      <th>Administered_Dose1</th>\n",
       "      <th>Series_Complete_Yes</th>\n",
       "      <th>Booster_Doses</th>\n",
       "      <th>Administered_Dose1_pct_agegroup</th>\n",
       "      <th>Series_Complete_Pop_pct_agegroup</th>\n",
       "      <th>Booster_Doses_Vax_pct_agegroup</th>\n",
       "    </tr>\n",
       "  </thead>\n",
       "  <tbody>\n",
       "    <tr>\n",
       "      <th>0</th>\n",
       "      <td>01/02/2021 12:00:00 AM</td>\n",
       "      <td>HI</td>\n",
       "      <td>Ages_25-39_yrs</td>\n",
       "      <td>296,866</td>\n",
       "      <td>11,344</td>\n",
       "      <td>567</td>\n",
       "      <td>0.0</td>\n",
       "      <td>3.8</td>\n",
       "      <td>0.2</td>\n",
       "      <td>0.0</td>\n",
       "    </tr>\n",
       "    <tr>\n",
       "      <th>1</th>\n",
       "      <td>01/02/2021 12:00:00 AM</td>\n",
       "      <td>OR</td>\n",
       "      <td>Ages_25-39_yrs</td>\n",
       "      <td>901,825</td>\n",
       "      <td>25,769</td>\n",
       "      <td>20</td>\n",
       "      <td>0.0</td>\n",
       "      <td>2.9</td>\n",
       "      <td>0.0</td>\n",
       "      <td>0.0</td>\n",
       "    </tr>\n",
       "    <tr>\n",
       "      <th>2</th>\n",
       "      <td>01/02/2021 12:00:00 AM</td>\n",
       "      <td>SD</td>\n",
       "      <td>Male_Ages_&lt;5yrs</td>\n",
       "      <td>31,383</td>\n",
       "      <td>NaN</td>\n",
       "      <td>NaN</td>\n",
       "      <td>NaN</td>\n",
       "      <td>NaN</td>\n",
       "      <td>NaN</td>\n",
       "      <td>NaN</td>\n",
       "    </tr>\n",
       "    <tr>\n",
       "      <th>3</th>\n",
       "      <td>01/02/2021 12:00:00 AM</td>\n",
       "      <td>CA</td>\n",
       "      <td>Male_Ages_&lt;5yrs</td>\n",
       "      <td>1,220,085</td>\n",
       "      <td>NaN</td>\n",
       "      <td>NaN</td>\n",
       "      <td>NaN</td>\n",
       "      <td>NaN</td>\n",
       "      <td>NaN</td>\n",
       "      <td>NaN</td>\n",
       "    </tr>\n",
       "    <tr>\n",
       "      <th>4</th>\n",
       "      <td>01/02/2021 12:00:00 AM</td>\n",
       "      <td>UT</td>\n",
       "      <td>Female_Ages_18-24_yrs</td>\n",
       "      <td>177,306</td>\n",
       "      <td>4,448</td>\n",
       "      <td>26</td>\n",
       "      <td>0.0</td>\n",
       "      <td>2.5</td>\n",
       "      <td>0.0</td>\n",
       "      <td>0.0</td>\n",
       "    </tr>\n",
       "  </tbody>\n",
       "</table>\n",
       "</div>"
      ],
      "text/plain": [
       "                     Date Location   Demographic_Category     census  \\\n",
       "0  01/02/2021 12:00:00 AM       HI         Ages_25-39_yrs    296,866   \n",
       "1  01/02/2021 12:00:00 AM       OR         Ages_25-39_yrs    901,825   \n",
       "2  01/02/2021 12:00:00 AM       SD        Male_Ages_<5yrs     31,383   \n",
       "3  01/02/2021 12:00:00 AM       CA        Male_Ages_<5yrs  1,220,085   \n",
       "4  01/02/2021 12:00:00 AM       UT  Female_Ages_18-24_yrs    177,306   \n",
       "\n",
       "  Administered_Dose1 Series_Complete_Yes Booster_Doses  \\\n",
       "0             11,344                 567           0.0   \n",
       "1             25,769                  20           0.0   \n",
       "2                NaN                 NaN           NaN   \n",
       "3                NaN                 NaN           NaN   \n",
       "4              4,448                  26           0.0   \n",
       "\n",
       "   Administered_Dose1_pct_agegroup  Series_Complete_Pop_pct_agegroup  \\\n",
       "0                              3.8                               0.2   \n",
       "1                              2.9                               0.0   \n",
       "2                              NaN                               NaN   \n",
       "3                              NaN                               NaN   \n",
       "4                              2.5                               0.0   \n",
       "\n",
       "   Booster_Doses_Vax_pct_agegroup  \n",
       "0                             0.0  \n",
       "1                             0.0  \n",
       "2                             NaN  \n",
       "3                             NaN  \n",
       "4                             0.0  "
      ]
     },
     "execution_count": 61,
     "metadata": {},
     "output_type": "execute_result"
    }
   ],
   "source": [
    "# Create a path to the csv and read it into a Pandas DataFrame\n",
    "csv_path = \"Resources/COVID-19_Vaccination_Age_and_Sex_Trends_in_the_United_States__National_and_Jurisdictional(2).csv\"\n",
    "df = pd.read_csv(csv_path)\n",
    "\n",
    "df.head()"
   ]
  },
  {
   "cell_type": "code",
   "execution_count": 62,
   "id": "84473ea4",
   "metadata": {},
   "outputs": [],
   "source": [
    "df['Date'] = pd.to_datetime(df['Date'], format='%m/%d/%Y %I:%M:%S %p')\n",
    "#01/02/2021 12:00:00 AM"
   ]
  },
  {
   "cell_type": "code",
   "execution_count": 63,
   "id": "6a9df291",
   "metadata": {},
   "outputs": [],
   "source": [
    "#df[\"Demographic_Category\"] = df[\"Demographic_Category\"].replace([\"Female_Ages_<5yrs\",\"Female_Ages_5-11_yrs\",\"Female_Ages_12-17_yrs\",\"Female_Ages_18-24_yrs\",\"Female_Ages_25-39_yrs\",\"Female_Ages_25-49_yrs\",\"Female_Ages_40-49_yrs\",\"Female_Ages_50-64_yrs\",\"Female_Ages_65-74_yrs\",\"Female_Ages_75+_yrs\",\"Female_Ages_65+_yrs\"],[\"Female\",\"Female\",\"Female\",\"Female\",\"Female\",\"Female\",\"Female\",\"Female\",\"Female\",\"Female\",\"Female\"])\n",
    "#df[\"Demographic_Category\"] = df[\"Demographic_Category\"].replace([\"Male_Ages_<5yrs\",\"Male_Ages_5-11_yrs\",\"Male_Ages_12-17_yrs\",\"Male_Ages_18-24_yrs\",\"Male_Ages_25-39_yrs\",\"Male_Ages_25-49_yrs\",\"Male_Ages_40-49_yrs\",\"Male_Ages_50-64_yrs\",\"Male_Ages_65-74_yrs\",\"Male_Ages_75+_yrs\",\"Male_Ages_65+_yrs\"],[\"Male\",\"Male\",\"Male\",\"Male\",\"Male\",\"Male\",\"Male\",\"Male\",\"Male\",\"Male\",\"Male\"])\n",
    "#df[\"Demographic_Category\"] = df[\"Demographic_Category\"].replace([\"Ages_25-39_yrs\", \"Ages_5-11_yrs\", \"Ages_18-24_yrs\",\"Ages_40-49_yrs\", \"Ages_65-74_yrs\", \"Ages_65+_yrs\", \"Ages_12-17_yrs\", \"Ages_25-49_yrs\", \"Ages_50-64_yrs\", \"Ages_75+_yrs\"],[\"Null\",\"Null\",\"Null\",\"Null\",\"Null\",\"Null\",\"Null\",\"Null\",\"Null\",\"Null\"])\n",
    "df['Week_Number'] = df['Date'].dt.strftime('%U')"
   ]
  },
  {
   "cell_type": "code",
   "execution_count": null,
   "id": "03e56525",
   "metadata": {},
   "outputs": [],
   "source": [
    "#df = df[~df.isin(['Female']).any(axis=1)]\n",
    "#df = df[~df.isin(['Male']).any(axis=1)]\n",
    "#df = df[~df.isin(['Null']).any(axis=1)]"
   ]
  },
  {
   "cell_type": "code",
   "execution_count": 64,
   "id": "06bd931b",
   "metadata": {},
   "outputs": [],
   "source": [
    "femalelocation_df = df.loc[df[\"Location\"] == \"US\"]\n",
    "malelocation_df = df.loc[df[\"Location\"] == \"US\"]"
   ]
  },
  {
   "cell_type": "code",
   "execution_count": 65,
   "id": "7d946992",
   "metadata": {},
   "outputs": [
    {
     "data": {
      "text/html": [
       "<div>\n",
       "<style scoped>\n",
       "    .dataframe tbody tr th:only-of-type {\n",
       "        vertical-align: middle;\n",
       "    }\n",
       "\n",
       "    .dataframe tbody tr th {\n",
       "        vertical-align: top;\n",
       "    }\n",
       "\n",
       "    .dataframe thead th {\n",
       "        text-align: right;\n",
       "    }\n",
       "</style>\n",
       "<table border=\"1\" class=\"dataframe\">\n",
       "  <thead>\n",
       "    <tr style=\"text-align: right;\">\n",
       "      <th></th>\n",
       "      <th>Date</th>\n",
       "      <th>Location</th>\n",
       "      <th>Demographic_Category</th>\n",
       "      <th>census</th>\n",
       "      <th>Administered_Dose1</th>\n",
       "      <th>Series_Complete_Yes</th>\n",
       "      <th>Booster_Doses</th>\n",
       "      <th>Administered_Dose1_pct_agegroup</th>\n",
       "      <th>Series_Complete_Pop_pct_agegroup</th>\n",
       "      <th>Booster_Doses_Vax_pct_agegroup</th>\n",
       "      <th>Week_Number</th>\n",
       "    </tr>\n",
       "  </thead>\n",
       "  <tbody>\n",
       "    <tr>\n",
       "      <th>153</th>\n",
       "      <td>2021-01-02</td>\n",
       "      <td>US</td>\n",
       "      <td>Ages_50-64_yrs</td>\n",
       "      <td>63,659,835</td>\n",
       "      <td>1,727,481</td>\n",
       "      <td>17,300</td>\n",
       "      <td>0.0</td>\n",
       "      <td>2.7</td>\n",
       "      <td>0.0</td>\n",
       "      <td>0.0</td>\n",
       "      <td>00</td>\n",
       "    </tr>\n",
       "    <tr>\n",
       "      <th>189</th>\n",
       "      <td>2021-01-02</td>\n",
       "      <td>US</td>\n",
       "      <td>Male_Ages_18-24_yrs</td>\n",
       "      <td>15,638,596</td>\n",
       "      <td>75,313</td>\n",
       "      <td>624</td>\n",
       "      <td>0.0</td>\n",
       "      <td>0.5</td>\n",
       "      <td>0.0</td>\n",
       "      <td>0.0</td>\n",
       "      <td>00</td>\n",
       "    </tr>\n",
       "    <tr>\n",
       "      <th>227</th>\n",
       "      <td>2021-01-02</td>\n",
       "      <td>US</td>\n",
       "      <td>Sex_Unknown</td>\n",
       "      <td>NaN</td>\n",
       "      <td>207,917</td>\n",
       "      <td>433</td>\n",
       "      <td>0.0</td>\n",
       "      <td>NaN</td>\n",
       "      <td>NaN</td>\n",
       "      <td>0.0</td>\n",
       "      <td>00</td>\n",
       "    </tr>\n",
       "    <tr>\n",
       "      <th>254</th>\n",
       "      <td>2021-01-02</td>\n",
       "      <td>US</td>\n",
       "      <td>Sex_Female</td>\n",
       "      <td>168,546,343</td>\n",
       "      <td>3,689,996</td>\n",
       "      <td>33,621</td>\n",
       "      <td>0.0</td>\n",
       "      <td>2.2</td>\n",
       "      <td>0.0</td>\n",
       "      <td>0.0</td>\n",
       "      <td>00</td>\n",
       "    </tr>\n",
       "    <tr>\n",
       "      <th>296</th>\n",
       "      <td>2021-01-02</td>\n",
       "      <td>US</td>\n",
       "      <td>Age_Unknown</td>\n",
       "      <td>NaN</td>\n",
       "      <td>638</td>\n",
       "      <td>0</td>\n",
       "      <td>0.0</td>\n",
       "      <td>NaN</td>\n",
       "      <td>NaN</td>\n",
       "      <td>0.0</td>\n",
       "      <td>00</td>\n",
       "    </tr>\n",
       "  </tbody>\n",
       "</table>\n",
       "</div>"
      ],
      "text/plain": [
       "          Date Location Demographic_Category       census Administered_Dose1  \\\n",
       "153 2021-01-02       US       Ages_50-64_yrs   63,659,835          1,727,481   \n",
       "189 2021-01-02       US  Male_Ages_18-24_yrs   15,638,596             75,313   \n",
       "227 2021-01-02       US          Sex_Unknown          NaN            207,917   \n",
       "254 2021-01-02       US           Sex_Female  168,546,343          3,689,996   \n",
       "296 2021-01-02       US          Age_Unknown          NaN                638   \n",
       "\n",
       "    Series_Complete_Yes Booster_Doses  Administered_Dose1_pct_agegroup  \\\n",
       "153              17,300           0.0                              2.7   \n",
       "189                 624           0.0                              0.5   \n",
       "227                 433           0.0                              NaN   \n",
       "254              33,621           0.0                              2.2   \n",
       "296                   0           0.0                              NaN   \n",
       "\n",
       "     Series_Complete_Pop_pct_agegroup  Booster_Doses_Vax_pct_agegroup  \\\n",
       "153                               0.0                             0.0   \n",
       "189                               0.0                             0.0   \n",
       "227                               NaN                             0.0   \n",
       "254                               0.0                             0.0   \n",
       "296                               NaN                             0.0   \n",
       "\n",
       "    Week_Number  \n",
       "153          00  \n",
       "189          00  \n",
       "227          00  \n",
       "254          00  \n",
       "296          00  "
      ]
     },
     "execution_count": 65,
     "metadata": {},
     "output_type": "execute_result"
    }
   ],
   "source": [
    "malelocation_df.head()"
   ]
  },
  {
   "cell_type": "code",
   "execution_count": 66,
   "id": "451b5958",
   "metadata": {},
   "outputs": [],
   "source": [
    "female_df = femalelocation_df.loc[df[\"Demographic_Category\"] == \"Sex_Female\"]\n",
    "male_df = malelocation_df.loc[df[\"Demographic_Category\"] == \"Sex_Male\"]"
   ]
  },
  {
   "cell_type": "code",
   "execution_count": 67,
   "id": "b56cc9cb",
   "metadata": {},
   "outputs": [
    {
     "name": "stderr",
     "output_type": "stream",
     "text": [
      "C:\\Users\\HOBBYD~1\\AppData\\Local\\Temp/ipykernel_743988/2560509518.py:1: SettingWithCopyWarning: \n",
      "A value is trying to be set on a copy of a slice from a DataFrame.\n",
      "Try using .loc[row_indexer,col_indexer] = value instead\n",
      "\n",
      "See the caveats in the documentation: https://pandas.pydata.org/pandas-docs/stable/user_guide/indexing.html#returning-a-view-versus-a-copy\n",
      "  female_df['Administered_Dose1'] = female_df['Administered_Dose1'].str.replace(\",\",\"\").astype(int)\n",
      "C:\\Users\\HOBBYD~1\\AppData\\Local\\Temp/ipykernel_743988/2560509518.py:2: SettingWithCopyWarning: \n",
      "A value is trying to be set on a copy of a slice from a DataFrame.\n",
      "Try using .loc[row_indexer,col_indexer] = value instead\n",
      "\n",
      "See the caveats in the documentation: https://pandas.pydata.org/pandas-docs/stable/user_guide/indexing.html#returning-a-view-versus-a-copy\n",
      "  male_df['Administered_Dose1'] = male_df['Administered_Dose1'].str.replace(\",\",\"\").astype(int)\n"
     ]
    }
   ],
   "source": [
    "female_df['Administered_Dose1'] = female_df['Administered_Dose1'].str.replace(\",\",\"\").astype(int)\n",
    "male_df['Administered_Dose1'] = male_df['Administered_Dose1'].str.replace(\",\",\"\").astype(int)"
   ]
  },
  {
   "cell_type": "code",
   "execution_count": 68,
   "id": "586997a5",
   "metadata": {},
   "outputs": [
    {
     "data": {
      "text/plain": [
       "126239799"
      ]
     },
     "execution_count": 68,
     "metadata": {},
     "output_type": "execute_result"
    }
   ],
   "source": [
    "last_row_female_df = female_df.iloc[-1]\n",
    "last_row_female_df['Administered_Dose1']\n"
   ]
  },
  {
   "cell_type": "code",
   "execution_count": 69,
   "id": "69775453",
   "metadata": {},
   "outputs": [
    {
     "data": {
      "text/plain": [
       "115421583"
      ]
     },
     "execution_count": 69,
     "metadata": {},
     "output_type": "execute_result"
    }
   ],
   "source": [
    "last_row_male_df = male_df.iloc[-1]\n",
    "last_row_male_df['Administered_Dose1']"
   ]
  },
  {
   "cell_type": "code",
   "execution_count": null,
   "id": "628fd767",
   "metadata": {},
   "outputs": [],
   "source": []
  },
  {
   "cell_type": "markdown",
   "id": "7fb5297d",
   "metadata": {},
   "source": [
    "### Graphicial Representation of the Data"
   ]
  },
  {
   "cell_type": "code",
   "execution_count": 70,
   "id": "62ac4100",
   "metadata": {},
   "outputs": [
    {
     "data": {
      "text/plain": [
       "<function matplotlib.pyplot.show(close=None, block=None)>"
      ]
     },
     "execution_count": 70,
     "metadata": {},
     "output_type": "execute_result"
    },
    {
     "data": {
      "image/png": "[encoded data removed]",
      "text/plain": [
       "<Figure size 720x720 with 1 Axes>"
      ]
     },
     "metadata": {},
     "output_type": "display_data"
    }
   ],
   "source": [
    "#set size of pie\n",
    "plt.figure(figsize=(10,10))\n",
    "\n",
    "#count the sum of rows in Administred_dose1 and have female \n",
    "female_pie = last_row_female_df['Administered_Dose1']\n",
    "male_pie = last_row_male_df['Administered_Dose1']\n",
    "\n",
    "#label female and malle and also set color \n",
    "labels = ['Females', 'Males']\n",
    "colors = ['#F175A9', '#6F7FCA']\n",
    "\n",
    "#pie chart comparrison from male to female, followed by labels, and color\n",
    "plt.pie([female_pie, male_pie], labels=labels, colors=colors, autopct='%.2f %%')\n",
    "\n",
    "#set title \n",
    "plt.title('Vaccinated Female/Male Comparrison')\n",
    "\n",
    "#set Legend\n",
    "plt.legend([\"Female\",\"Male\"])\n",
    "\n",
    "#save image \n",
    "plt.savefig('images/Pie_Graph.jpeg')\n",
    "\n",
    "#show results \n",
    "plt.show\n",
    "\n",
    "#labels=gender_type_count.index\n",
    "#plt.pie([female_pie, male_pie], labels, colors=colors, autopct='%.2f %%')"
   ]
  },
  {
   "cell_type": "code",
   "execution_count": 71,
   "id": "1962b1f7",
   "metadata": {},
   "outputs": [],
   "source": [
    "male_df.set_index('Date', inplace=True)\n",
    "\n",
    "male_df = male_df['Administered_Dose1'].resample('W').max()"
   ]
  },
  {
   "cell_type": "code",
   "execution_count": 72,
   "id": "9ff70295",
   "metadata": {},
   "outputs": [],
   "source": [
    "female_df.set_index('Date', inplace=True)\n",
    "\n",
    "female_df = female_df['Administered_Dose1'].resample('W').max()"
   ]
  },
  {
   "cell_type": "code",
   "execution_count": 74,
   "id": "57445e2f",
   "metadata": {},
   "outputs": [
    {
     "data": {
      "text/html": [
       "<div>\n",
       "<style scoped>\n",
       "    .dataframe tbody tr th:only-of-type {\n",
       "        vertical-align: middle;\n",
       "    }\n",
       "\n",
       "    .dataframe tbody tr th {\n",
       "        vertical-align: top;\n",
       "    }\n",
       "\n",
       "    .dataframe thead th {\n",
       "        text-align: right;\n",
       "    }\n",
       "</style>\n",
       "<table border=\"1\" class=\"dataframe\">\n",
       "  <thead>\n",
       "    <tr style=\"text-align: right;\">\n",
       "      <th></th>\n",
       "      <th>Date</th>\n",
       "      <th>Administered_Dose1</th>\n",
       "    </tr>\n",
       "  </thead>\n",
       "  <tbody>\n",
       "    <tr>\n",
       "      <th>0</th>\n",
       "      <td>2021-01-03</td>\n",
       "      <td>2039093</td>\n",
       "    </tr>\n",
       "    <tr>\n",
       "      <th>1</th>\n",
       "      <td>2021-01-10</td>\n",
       "      <td>3629873</td>\n",
       "    </tr>\n",
       "    <tr>\n",
       "      <th>2</th>\n",
       "      <td>2021-01-17</td>\n",
       "      <td>5955534</td>\n",
       "    </tr>\n",
       "    <tr>\n",
       "      <th>3</th>\n",
       "      <td>2021-01-24</td>\n",
       "      <td>8695055</td>\n",
       "    </tr>\n",
       "    <tr>\n",
       "      <th>4</th>\n",
       "      <td>2021-01-31</td>\n",
       "      <td>11680040</td>\n",
       "    </tr>\n",
       "  </tbody>\n",
       "</table>\n",
       "</div>"
      ],
      "text/plain": [
       "        Date  Administered_Dose1\n",
       "0 2021-01-03             2039093\n",
       "1 2021-01-10             3629873\n",
       "2 2021-01-17             5955534\n",
       "3 2021-01-24             8695055\n",
       "4 2021-01-31            11680040"
      ]
     },
     "execution_count": 74,
     "metadata": {},
     "output_type": "execute_result"
    }
   ],
   "source": [
    "female_df = pd.DataFrame(female_df)\n",
    "male_df = pd.DataFrame(male_df)\n",
    "female_df.reset_index()\n",
    "male_df.reset_index().head()"
   ]
  },
  {
   "cell_type": "code",
   "execution_count": 75,
   "id": "2a808841",
   "metadata": {},
   "outputs": [
    {
     "data": {
      "text/plain": [
       "<matplotlib.legend.Legend at 0x222ace6b100>"
      ]
     },
     "execution_count": 75,
     "metadata": {},
     "output_type": "execute_result"
    },
    {
     "data": {
      "image/png": "[encoded data removed]",
      "text/plain": [
       "<Figure size 864x864 with 1 Axes>"
      ]
     },
     "metadata": {
      "needs_background": "light"
     },
     "output_type": "display_data"
    }
   ],
   "source": [
    "plt.figure(figsize=(12,12))\n",
    "plt.title('Male to Female Vacination Comparrison', fontdict={'fontweight':'bold', 'fontsize': 18})\n",
    "hi = male_df['Administered_Dose1'].plot(label='Male Vacinated')\n",
    "bye = female_df['Administered_Dose1'].plot(label='Female Vacinated')\n",
    "\n",
    "plt.xlabel('Months')\n",
    "plt.ylabel('Amount Vaccinated')\n",
    "plt.savefig('images/Male_AND_FEMALE.jpeg', dpi=300)\n",
    "plt.ylim(2000000, 140000000)\n",
    "plt.legend()"
   ]
  },
  {
   "cell_type": "markdown",
   "id": "de6013b5",
   "metadata": {},
   "source": [
    "### COVID Deaths by Sex"
   ]
  },
  {
   "cell_type": "code",
   "execution_count": 39,
   "id": "477e3091",
   "metadata": {},
   "outputs": [
    {
     "name": "stderr",
     "output_type": "stream",
     "text": [
      "C:\\bootcamp\\anaconda3\\lib\\site-packages\\IPython\\core\\interactiveshell.py:3444: DtypeWarning: Columns (12,13) have mixed types.Specify dtype option on import or set low_memory=False.\n",
      "  exec(code_obj, self.user_global_ns, self.user_ns)\n"
     ]
    },
    {
     "data": {
      "text/html": [
       "<div>\n",
       "<style scoped>\n",
       "    .dataframe tbody tr th:only-of-type {\n",
       "        vertical-align: middle;\n",
       "    }\n",
       "\n",
       "    .dataframe tbody tr th {\n",
       "        vertical-align: top;\n",
       "    }\n",
       "\n",
       "    .dataframe thead th {\n",
       "        text-align: right;\n",
       "    }\n",
       "</style>\n",
       "<table border=\"1\" class=\"dataframe\">\n",
       "  <thead>\n",
       "    <tr style=\"text-align: right;\">\n",
       "      <th></th>\n",
       "      <th>Data As Of</th>\n",
       "      <th>Start Date</th>\n",
       "      <th>End Date</th>\n",
       "      <th>Group</th>\n",
       "      <th>Year</th>\n",
       "      <th>Month</th>\n",
       "      <th>State</th>\n",
       "      <th>Sex</th>\n",
       "      <th>Age Group</th>\n",
       "      <th>COVID-19 Deaths</th>\n",
       "      <th>Total Deaths</th>\n",
       "      <th>Pneumonia Deaths</th>\n",
       "      <th>Pneumonia and COVID-19 Deaths</th>\n",
       "      <th>Influenza Deaths</th>\n",
       "      <th>Footnote</th>\n",
       "    </tr>\n",
       "  </thead>\n",
       "  <tbody>\n",
       "    <tr>\n",
       "      <th>0</th>\n",
       "      <td>11/24/2021</td>\n",
       "      <td>01-01-2020</td>\n",
       "      <td>11/20/2021</td>\n",
       "      <td>By Total</td>\n",
       "      <td>NaN</td>\n",
       "      <td>NaN</td>\n",
       "      <td>United States</td>\n",
       "      <td>All Sexes</td>\n",
       "      <td>All Ages</td>\n",
       "      <td>7,73,812</td>\n",
       "      <td>62,94,875</td>\n",
       "      <td>6,95,560</td>\n",
       "      <td>3,99,005</td>\n",
       "      <td>9,451</td>\n",
       "      <td>NaN</td>\n",
       "    </tr>\n",
       "    <tr>\n",
       "      <th>1</th>\n",
       "      <td>11/24/2021</td>\n",
       "      <td>01-01-2020</td>\n",
       "      <td>11/20/2021</td>\n",
       "      <td>By Total</td>\n",
       "      <td>NaN</td>\n",
       "      <td>NaN</td>\n",
       "      <td>United States</td>\n",
       "      <td>All Sexes</td>\n",
       "      <td>Under 1 year</td>\n",
       "      <td>151</td>\n",
       "      <td>35,550</td>\n",
       "      <td>391</td>\n",
       "      <td>19</td>\n",
       "      <td>23</td>\n",
       "      <td>NaN</td>\n",
       "    </tr>\n",
       "    <tr>\n",
       "      <th>2</th>\n",
       "      <td>11/24/2021</td>\n",
       "      <td>01-01-2020</td>\n",
       "      <td>11/20/2021</td>\n",
       "      <td>By Total</td>\n",
       "      <td>NaN</td>\n",
       "      <td>NaN</td>\n",
       "      <td>United States</td>\n",
       "      <td>All Sexes</td>\n",
       "      <td>0-17 years</td>\n",
       "      <td>621</td>\n",
       "      <td>62,999</td>\n",
       "      <td>1,132</td>\n",
       "      <td>170</td>\n",
       "      <td>189</td>\n",
       "      <td>NaN</td>\n",
       "    </tr>\n",
       "    <tr>\n",
       "      <th>3</th>\n",
       "      <td>11/24/2021</td>\n",
       "      <td>01-01-2020</td>\n",
       "      <td>11/20/2021</td>\n",
       "      <td>By Total</td>\n",
       "      <td>NaN</td>\n",
       "      <td>NaN</td>\n",
       "      <td>United States</td>\n",
       "      <td>All Sexes</td>\n",
       "      <td>1-4 years</td>\n",
       "      <td>68</td>\n",
       "      <td>6,606</td>\n",
       "      <td>224</td>\n",
       "      <td>19</td>\n",
       "      <td>65</td>\n",
       "      <td>NaN</td>\n",
       "    </tr>\n",
       "    <tr>\n",
       "      <th>4</th>\n",
       "      <td>11/24/2021</td>\n",
       "      <td>01-01-2020</td>\n",
       "      <td>11/20/2021</td>\n",
       "      <td>By Total</td>\n",
       "      <td>NaN</td>\n",
       "      <td>NaN</td>\n",
       "      <td>United States</td>\n",
       "      <td>All Sexes</td>\n",
       "      <td>5-14 years</td>\n",
       "      <td>199</td>\n",
       "      <td>10,500</td>\n",
       "      <td>330</td>\n",
       "      <td>65</td>\n",
       "      <td>80</td>\n",
       "      <td>NaN</td>\n",
       "    </tr>\n",
       "  </tbody>\n",
       "</table>\n",
       "</div>"
      ],
      "text/plain": [
       "   Data As Of  Start Date    End Date     Group  Year  Month          State  \\\n",
       "0  11/24/2021  01-01-2020  11/20/2021  By Total   NaN    NaN  United States   \n",
       "1  11/24/2021  01-01-2020  11/20/2021  By Total   NaN    NaN  United States   \n",
       "2  11/24/2021  01-01-2020  11/20/2021  By Total   NaN    NaN  United States   \n",
       "3  11/24/2021  01-01-2020  11/20/2021  By Total   NaN    NaN  United States   \n",
       "4  11/24/2021  01-01-2020  11/20/2021  By Total   NaN    NaN  United States   \n",
       "\n",
       "         Sex     Age Group COVID-19 Deaths Total Deaths Pneumonia Deaths  \\\n",
       "0  All Sexes      All Ages        7,73,812    62,94,875         6,95,560   \n",
       "1  All Sexes  Under 1 year             151       35,550              391   \n",
       "2  All Sexes    0-17 years             621       62,999            1,132   \n",
       "3  All Sexes     1-4 years              68        6,606              224   \n",
       "4  All Sexes    5-14 years             199       10,500              330   \n",
       "\n",
       "  Pneumonia and COVID-19 Deaths Influenza Deaths Footnote  \n",
       "0                      3,99,005            9,451      NaN  \n",
       "1                            19               23      NaN  \n",
       "2                           170              189      NaN  \n",
       "3                            19               65      NaN  \n",
       "4                            65               80      NaN  "
      ]
     },
     "execution_count": 39,
     "metadata": {},
     "output_type": "execute_result"
    }
   ],
   "source": [
    "# Create a path to the csv and read it into a Pandas DataFrame\n",
    "csv_path = \"Resources/deaths.csv\"\n",
    "df = pd.read_csv(csv_path)\n",
    "\n",
    "df.head()"
   ]
  },
  {
   "cell_type": "code",
   "execution_count": 40,
   "id": "02749664",
   "metadata": {},
   "outputs": [],
   "source": [
    "df['Start Date'] = pd.to_datetime(df['Start Date'])\n",
    "#01/02/2021 12:00:00 AM"
   ]
  },
  {
   "cell_type": "code",
   "execution_count": 41,
   "id": "4acbd719",
   "metadata": {},
   "outputs": [],
   "source": [
    "femalelocation_df = df.loc[df[\"Sex\"] == \"Male\"]\n",
    "malelocation_df = df.loc[df[\"Sex\"] == \"Female\"]"
   ]
  },
  {
   "cell_type": "code",
   "execution_count": 42,
   "id": "8911b7c0",
   "metadata": {},
   "outputs": [],
   "source": [
    "female_df = femalelocation_df.loc[df[\"Age Group\"] == \"All Ages\"]\n",
    "male_df = malelocation_df.loc[df[\"Age Group\"] == \"All Ages\"]"
   ]
  },
  {
   "cell_type": "code",
   "execution_count": 43,
   "id": "bcec53e3",
   "metadata": {},
   "outputs": [],
   "source": [
    "female_df1 = female_df.loc[df[\"State\"] == \"United States\"]\n",
    "male_df1 = male_df.loc[df[\"State\"] == \"United States\"]"
   ]
  },
  {
   "cell_type": "code",
   "execution_count": 44,
   "id": "f565ad8f",
   "metadata": {},
   "outputs": [
    {
     "name": "stderr",
     "output_type": "stream",
     "text": [
      "C:\\Users\\HOBBYD~1\\AppData\\Local\\Temp/ipykernel_743988/65167082.py:1: SettingWithCopyWarning: \n",
      "A value is trying to be set on a copy of a slice from a DataFrame.\n",
      "Try using .loc[row_indexer,col_indexer] = value instead\n",
      "\n",
      "See the caveats in the documentation: https://pandas.pydata.org/pandas-docs/stable/user_guide/indexing.html#returning-a-view-versus-a-copy\n",
      "  male_df1['COVID-19 Deaths'] = male_df1['COVID-19 Deaths'].str.replace(\",\",\"\").astype(int)\n",
      "C:\\Users\\HOBBYD~1\\AppData\\Local\\Temp/ipykernel_743988/65167082.py:2: SettingWithCopyWarning: \n",
      "A value is trying to be set on a copy of a slice from a DataFrame.\n",
      "Try using .loc[row_indexer,col_indexer] = value instead\n",
      "\n",
      "See the caveats in the documentation: https://pandas.pydata.org/pandas-docs/stable/user_guide/indexing.html#returning-a-view-versus-a-copy\n",
      "  female_df1['COVID-19 Deaths'] = female_df1['COVID-19 Deaths'].str.replace(\",\",\"\").astype(int)\n"
     ]
    }
   ],
   "source": [
    "male_df1['COVID-19 Deaths'] = male_df1['COVID-19 Deaths'].str.replace(\",\",\"\").astype(int)\n",
    "female_df1['COVID-19 Deaths'] = female_df1['COVID-19 Deaths'].str.replace(\",\",\"\").astype(int)"
   ]
  },
  {
   "cell_type": "code",
   "execution_count": 45,
   "id": "5f793079",
   "metadata": {},
   "outputs": [],
   "source": [
    "#female_df1 = female_df1[['Month', 'COVID-19 Deaths']]\n",
    "#male_df1 = female_df1[['Month', 'COVID-19 Deaths']]\n",
    "female_df1 = female_df1[['Start Date', 'COVID-19 Deaths']]\n",
    "male_df1 = male_df1[['Start Date', 'COVID-19 Deaths']]"
   ]
  },
  {
   "cell_type": "code",
   "execution_count": 46,
   "id": "78fd1abc",
   "metadata": {},
   "outputs": [],
   "source": [
    "male_df1.columns = male_df1.columns.str.replace('COVID-19 Deaths', 'COVID_Deaths')\n",
    "female_df1.columns = female_df1.columns.str.replace('COVID-19 Deaths', 'COVID_Deaths')\n",
    "male_df1.columns = male_df1.columns.str.replace('Start Date', 'Start_Date')\n",
    "female_df1.columns = female_df1.columns.str.replace('Start Date', 'Start_Date')"
   ]
  },
  {
   "cell_type": "code",
   "execution_count": 47,
   "id": "b10009ec",
   "metadata": {},
   "outputs": [],
   "source": [
    "male_df1 = male_df1[3:]\n",
    "female_df1 = female_df1[3:]"
   ]
  },
  {
   "cell_type": "code",
   "execution_count": 48,
   "id": "a515fb21",
   "metadata": {},
   "outputs": [
    {
     "data": {
      "image/png": "[encoded data removed]",
      "text/plain": [
       "<Figure size 864x864 with 1 Axes>"
      ]
     },
     "metadata": {
      "needs_background": "light"
     },
     "output_type": "display_data"
    }
   ],
   "source": [
    "plt.figure(figsize=(12,12))\n",
    "plt.title('Male and Female Deaths by Covid-19', fontdict={'fontweight':'bold', 'fontsize': 18})\n",
    "plot1, = plt.plot(male_df1.Start_Date, male_df1.COVID_Deaths, 'b.-', label='Male Deaths')\n",
    "plot2, = plt.plot(female_df1.Start_Date, female_df1.COVID_Deaths, 'r.-', label='Female Deaths')\n",
    "\n",
    "plt.xlabel('Year/Months')\n",
    "\n",
    "plt.ylabel('CONFIRMED DEATHS')\n",
    "\n",
    "plt.savefig('images/Male_AND_FEMALE_Deaths.jpeg', dpi=300)\n",
    "#plt.ylim(2000000, 140000000)\n",
    "plt.legend()\n",
    "plt.show()"
   ]
  },
  {
   "cell_type": "code",
   "execution_count": null,
   "id": "9f011647",
   "metadata": {},
   "outputs": [],
   "source": []
  },
  {
   "cell_type": "markdown",
   "id": "dea395b8",
   "metadata": {},
   "source": [
    "## COVID-19 Vaccination - Pregnancy"
   ]
  },
  {
   "cell_type": "markdown",
   "id": "fb0da89c",
   "metadata": {},
   "source": [
    "### Clean COVID-19 Vaccination Data"
   ]
  },
  {
   "cell_type": "code",
   "execution_count": 31,
   "id": "5f834bb1",
   "metadata": {},
   "outputs": [],
   "source": [
    "#Create DF\n",
    "preg_file = \"Resources/pregnancy_data5.0.csv\"\n",
    "data_df = pd.read_csv(preg_file)\n",
    "\n",
    "\n",
    "# Convert the date to datetime64\n",
    "data_df[\"Week_Ending_Date\"] = pd.to_datetime(data_df[\"Week_Ending_Date\"], format='%Y-%m-%d')\n",
    "\n",
    "#Filter Vaccinated - All Races\n",
    "grouped_filter = data_df.groupby([\"Week_Ending_Date\"])[\"Vaccination Coverage Amount\"].sum()\n",
    "grouped_filter_df = pd.DataFrame(grouped_filter)\n",
    "clean_df = grouped_filter_df.reset_index()"
   ]
  },
  {
   "cell_type": "code",
   "execution_count": 32,
   "id": "d7d2da3d",
   "metadata": {},
   "outputs": [
    {
     "data": {
      "text/plain": [
       "<function matplotlib.pyplot.show(close=None, block=None)>"
      ]
     },
     "execution_count": 32,
     "metadata": {},
     "output_type": "execute_result"
    },
    {
     "data": {
      "image/png": "[encoded data removed]",
      "text/plain": [
       "<Figure size 432x288 with 1 Axes>"
      ]
     },
     "metadata": {
      "needs_background": "light"
     },
     "output_type": "display_data"
    },
    {
     "data": {
      "text/plain": [
       "<Figure size 720x1440 with 0 Axes>"
      ]
     },
     "metadata": {},
     "output_type": "display_data"
    }
   ],
   "source": [
    "#Build Line Plot \n",
    "clean_df.plot.line(x=\"Week_Ending_Date\", y=\"Vaccination Coverage Amount\")\n",
    "plt.title(\"Number of Pregnant Women Vaccinated in 2021 \")\n",
    "plt.grid()\n",
    "plt.figure(figsize=(10,20))\n",
    "plt.show"
   ]
  },
  {
   "cell_type": "code",
   "execution_count": 33,
   "id": "8109f789",
   "metadata": {},
   "outputs": [
    {
     "data": {
      "text/html": [
       "<div>\n",
       "<style scoped>\n",
       "    .dataframe tbody tr th:only-of-type {\n",
       "        vertical-align: middle;\n",
       "    }\n",
       "\n",
       "    .dataframe tbody tr th {\n",
       "        vertical-align: top;\n",
       "    }\n",
       "\n",
       "    .dataframe thead th {\n",
       "        text-align: right;\n",
       "    }\n",
       "</style>\n",
       "<table border=\"1\" class=\"dataframe\">\n",
       "  <thead>\n",
       "    <tr style=\"text-align: right;\">\n",
       "      <th></th>\n",
       "      <th>Week_Ending_Date</th>\n",
       "      <th>Vaccination Coverage Amount</th>\n",
       "      <th>Denominator</th>\n",
       "      <th>Vaccinated Coverage Percentage (%)</th>\n",
       "    </tr>\n",
       "  </thead>\n",
       "  <tbody>\n",
       "    <tr>\n",
       "      <th>0</th>\n",
       "      <td>2021-01-02</td>\n",
       "      <td>0</td>\n",
       "      <td>103216.0</td>\n",
       "      <td>0.000000</td>\n",
       "    </tr>\n",
       "    <tr>\n",
       "      <th>1</th>\n",
       "      <td>2021-01-09</td>\n",
       "      <td>207</td>\n",
       "      <td>103668.0</td>\n",
       "      <td>0.199676</td>\n",
       "    </tr>\n",
       "    <tr>\n",
       "      <th>2</th>\n",
       "      <td>2021-01-16</td>\n",
       "      <td>728</td>\n",
       "      <td>103958.0</td>\n",
       "      <td>0.700283</td>\n",
       "    </tr>\n",
       "    <tr>\n",
       "      <th>3</th>\n",
       "      <td>2021-01-23</td>\n",
       "      <td>1249</td>\n",
       "      <td>104115.0</td>\n",
       "      <td>1.199635</td>\n",
       "    </tr>\n",
       "    <tr>\n",
       "      <th>4</th>\n",
       "      <td>2021-01-30</td>\n",
       "      <td>2087</td>\n",
       "      <td>104358.0</td>\n",
       "      <td>1.999847</td>\n",
       "    </tr>\n",
       "    <tr>\n",
       "      <th>5</th>\n",
       "      <td>2021-02-06</td>\n",
       "      <td>2931</td>\n",
       "      <td>104671.0</td>\n",
       "      <td>2.800203</td>\n",
       "    </tr>\n",
       "    <tr>\n",
       "      <th>6</th>\n",
       "      <td>2021-02-13</td>\n",
       "      <td>4187</td>\n",
       "      <td>104669.0</td>\n",
       "      <td>4.000229</td>\n",
       "    </tr>\n",
       "    <tr>\n",
       "      <th>7</th>\n",
       "      <td>2021-02-20</td>\n",
       "      <td>5131</td>\n",
       "      <td>104720.0</td>\n",
       "      <td>4.899733</td>\n",
       "    </tr>\n",
       "    <tr>\n",
       "      <th>8</th>\n",
       "      <td>2021-02-27</td>\n",
       "      <td>6089</td>\n",
       "      <td>104985.0</td>\n",
       "      <td>5.799876</td>\n",
       "    </tr>\n",
       "    <tr>\n",
       "      <th>9</th>\n",
       "      <td>2021-03-06</td>\n",
       "      <td>7045</td>\n",
       "      <td>105151.0</td>\n",
       "      <td>6.699889</td>\n",
       "    </tr>\n",
       "    <tr>\n",
       "      <th>10</th>\n",
       "      <td>2021-03-13</td>\n",
       "      <td>8316</td>\n",
       "      <td>105265.0</td>\n",
       "      <td>7.900062</td>\n",
       "    </tr>\n",
       "    <tr>\n",
       "      <th>11</th>\n",
       "      <td>2021-03-20</td>\n",
       "      <td>9896</td>\n",
       "      <td>105277.0</td>\n",
       "      <td>9.399964</td>\n",
       "    </tr>\n",
       "    <tr>\n",
       "      <th>12</th>\n",
       "      <td>2021-03-27</td>\n",
       "      <td>12008</td>\n",
       "      <td>105332.0</td>\n",
       "      <td>11.400144</td>\n",
       "    </tr>\n",
       "    <tr>\n",
       "      <th>13</th>\n",
       "      <td>2021-04-03</td>\n",
       "      <td>14200</td>\n",
       "      <td>105185.0</td>\n",
       "      <td>13.500024</td>\n",
       "    </tr>\n",
       "    <tr>\n",
       "      <th>14</th>\n",
       "      <td>2021-04-10</td>\n",
       "      <td>17144</td>\n",
       "      <td>105176.0</td>\n",
       "      <td>16.300297</td>\n",
       "    </tr>\n",
       "    <tr>\n",
       "      <th>15</th>\n",
       "      <td>2021-04-17</td>\n",
       "      <td>20424</td>\n",
       "      <td>105278.0</td>\n",
       "      <td>19.400065</td>\n",
       "    </tr>\n",
       "    <tr>\n",
       "      <th>16</th>\n",
       "      <td>2021-04-24</td>\n",
       "      <td>23967</td>\n",
       "      <td>105118.0</td>\n",
       "      <td>22.800091</td>\n",
       "    </tr>\n",
       "    <tr>\n",
       "      <th>17</th>\n",
       "      <td>2021-05-01</td>\n",
       "      <td>27116</td>\n",
       "      <td>105100.0</td>\n",
       "      <td>25.800190</td>\n",
       "    </tr>\n",
       "    <tr>\n",
       "      <th>18</th>\n",
       "      <td>2021-05-08</td>\n",
       "      <td>30168</td>\n",
       "      <td>105116.0</td>\n",
       "      <td>28.699722</td>\n",
       "    </tr>\n",
       "    <tr>\n",
       "      <th>19</th>\n",
       "      <td>2021-05-15</td>\n",
       "      <td>32928</td>\n",
       "      <td>105201.0</td>\n",
       "      <td>31.300083</td>\n",
       "    </tr>\n",
       "    <tr>\n",
       "      <th>20</th>\n",
       "      <td>2021-05-22</td>\n",
       "      <td>35418</td>\n",
       "      <td>105411.0</td>\n",
       "      <td>33.599909</td>\n",
       "    </tr>\n",
       "    <tr>\n",
       "      <th>21</th>\n",
       "      <td>2021-05-29</td>\n",
       "      <td>37551</td>\n",
       "      <td>105479.0</td>\n",
       "      <td>35.600451</td>\n",
       "    </tr>\n",
       "    <tr>\n",
       "      <th>22</th>\n",
       "      <td>2021-06-05</td>\n",
       "      <td>39322</td>\n",
       "      <td>105422.0</td>\n",
       "      <td>37.299615</td>\n",
       "    </tr>\n",
       "    <tr>\n",
       "      <th>23</th>\n",
       "      <td>2021-06-12</td>\n",
       "      <td>41166</td>\n",
       "      <td>105553.0</td>\n",
       "      <td>39.000313</td>\n",
       "    </tr>\n",
       "    <tr>\n",
       "      <th>24</th>\n",
       "      <td>2021-06-19</td>\n",
       "      <td>42675</td>\n",
       "      <td>105631.0</td>\n",
       "      <td>40.400072</td>\n",
       "    </tr>\n",
       "    <tr>\n",
       "      <th>25</th>\n",
       "      <td>2021-06-26</td>\n",
       "      <td>43991</td>\n",
       "      <td>105747.0</td>\n",
       "      <td>41.600235</td>\n",
       "    </tr>\n",
       "    <tr>\n",
       "      <th>26</th>\n",
       "      <td>2021-07-03</td>\n",
       "      <td>45220</td>\n",
       "      <td>105654.0</td>\n",
       "      <td>42.800083</td>\n",
       "    </tr>\n",
       "    <tr>\n",
       "      <th>27</th>\n",
       "      <td>2021-07-10</td>\n",
       "      <td>46451</td>\n",
       "      <td>105571.0</td>\n",
       "      <td>43.999773</td>\n",
       "    </tr>\n",
       "    <tr>\n",
       "      <th>28</th>\n",
       "      <td>2021-07-17</td>\n",
       "      <td>47516</td>\n",
       "      <td>105590.0</td>\n",
       "      <td>45.000474</td>\n",
       "    </tr>\n",
       "    <tr>\n",
       "      <th>29</th>\n",
       "      <td>2021-07-24</td>\n",
       "      <td>48705</td>\n",
       "      <td>105650.0</td>\n",
       "      <td>46.100331</td>\n",
       "    </tr>\n",
       "    <tr>\n",
       "      <th>30</th>\n",
       "      <td>2021-07-31</td>\n",
       "      <td>49819</td>\n",
       "      <td>105773.0</td>\n",
       "      <td>47.099922</td>\n",
       "    </tr>\n",
       "    <tr>\n",
       "      <th>31</th>\n",
       "      <td>2021-08-07</td>\n",
       "      <td>50979</td>\n",
       "      <td>105985.0</td>\n",
       "      <td>48.100203</td>\n",
       "    </tr>\n",
       "    <tr>\n",
       "      <th>32</th>\n",
       "      <td>2021-08-14</td>\n",
       "      <td>52254</td>\n",
       "      <td>105991.0</td>\n",
       "      <td>49.300412</td>\n",
       "    </tr>\n",
       "    <tr>\n",
       "      <th>33</th>\n",
       "      <td>2021-08-21</td>\n",
       "      <td>53571</td>\n",
       "      <td>106081.0</td>\n",
       "      <td>50.500090</td>\n",
       "    </tr>\n",
       "    <tr>\n",
       "      <th>34</th>\n",
       "      <td>2021-08-28</td>\n",
       "      <td>55008</td>\n",
       "      <td>105989.0</td>\n",
       "      <td>51.899725</td>\n",
       "    </tr>\n",
       "    <tr>\n",
       "      <th>35</th>\n",
       "      <td>2021-09-04</td>\n",
       "      <td>56508</td>\n",
       "      <td>106019.0</td>\n",
       "      <td>53.299880</td>\n",
       "    </tr>\n",
       "    <tr>\n",
       "      <th>36</th>\n",
       "      <td>2021-09-11</td>\n",
       "      <td>58201</td>\n",
       "      <td>106012.0</td>\n",
       "      <td>54.900389</td>\n",
       "    </tr>\n",
       "    <tr>\n",
       "      <th>37</th>\n",
       "      <td>2021-09-18</td>\n",
       "      <td>60302</td>\n",
       "      <td>106166.0</td>\n",
       "      <td>56.799729</td>\n",
       "    </tr>\n",
       "    <tr>\n",
       "      <th>38</th>\n",
       "      <td>2021-09-25</td>\n",
       "      <td>62157</td>\n",
       "      <td>106252.0</td>\n",
       "      <td>58.499605</td>\n",
       "    </tr>\n",
       "    <tr>\n",
       "      <th>39</th>\n",
       "      <td>2021-10-02</td>\n",
       "      <td>63500</td>\n",
       "      <td>106365.0</td>\n",
       "      <td>59.700089</td>\n",
       "    </tr>\n",
       "    <tr>\n",
       "      <th>40</th>\n",
       "      <td>2021-10-09</td>\n",
       "      <td>64719</td>\n",
       "      <td>106446.0</td>\n",
       "      <td>60.799842</td>\n",
       "    </tr>\n",
       "    <tr>\n",
       "      <th>41</th>\n",
       "      <td>2021-10-16</td>\n",
       "      <td>65820</td>\n",
       "      <td>106505.0</td>\n",
       "      <td>61.799915</td>\n",
       "    </tr>\n",
       "    <tr>\n",
       "      <th>42</th>\n",
       "      <td>2021-10-23</td>\n",
       "      <td>66865</td>\n",
       "      <td>106642.0</td>\n",
       "      <td>62.700437</td>\n",
       "    </tr>\n",
       "    <tr>\n",
       "      <th>43</th>\n",
       "      <td>2021-10-30</td>\n",
       "      <td>67645</td>\n",
       "      <td>106696.0</td>\n",
       "      <td>63.399753</td>\n",
       "    </tr>\n",
       "    <tr>\n",
       "      <th>44</th>\n",
       "      <td>2021-11-06</td>\n",
       "      <td>68662</td>\n",
       "      <td>106950.0</td>\n",
       "      <td>64.200094</td>\n",
       "    </tr>\n",
       "    <tr>\n",
       "      <th>45</th>\n",
       "      <td>2021-11-13</td>\n",
       "      <td>69497</td>\n",
       "      <td>107249.0</td>\n",
       "      <td>64.799672</td>\n",
       "    </tr>\n",
       "    <tr>\n",
       "      <th>46</th>\n",
       "      <td>2021-11-20</td>\n",
       "      <td>70099</td>\n",
       "      <td>107349.0</td>\n",
       "      <td>65.300096</td>\n",
       "    </tr>\n",
       "    <tr>\n",
       "      <th>47</th>\n",
       "      <td>2021-11-27</td>\n",
       "      <td>70754</td>\n",
       "      <td>107693.0</td>\n",
       "      <td>65.699721</td>\n",
       "    </tr>\n",
       "    <tr>\n",
       "      <th>48</th>\n",
       "      <td>2021-12-04</td>\n",
       "      <td>71594</td>\n",
       "      <td>108148.0</td>\n",
       "      <td>66.200022</td>\n",
       "    </tr>\n",
       "    <tr>\n",
       "      <th>49</th>\n",
       "      <td>2021-12-11</td>\n",
       "      <td>71937</td>\n",
       "      <td>108013.0</td>\n",
       "      <td>66.600317</td>\n",
       "    </tr>\n",
       "    <tr>\n",
       "      <th>50</th>\n",
       "      <td>2021-12-18</td>\n",
       "      <td>72418</td>\n",
       "      <td>108248.0</td>\n",
       "      <td>66.900081</td>\n",
       "    </tr>\n",
       "    <tr>\n",
       "      <th>51</th>\n",
       "      <td>2021-12-25</td>\n",
       "      <td>72759</td>\n",
       "      <td>108112.0</td>\n",
       "      <td>67.299652</td>\n",
       "    </tr>\n",
       "    <tr>\n",
       "      <th>52</th>\n",
       "      <td>2022-01-01</td>\n",
       "      <td>73313</td>\n",
       "      <td>108451.0</td>\n",
       "      <td>67.600114</td>\n",
       "    </tr>\n",
       "  </tbody>\n",
       "</table>\n",
       "</div>"
      ],
      "text/plain": [
       "   Week_Ending_Date  Vaccination Coverage Amount  Denominator  \\\n",
       "0        2021-01-02                            0     103216.0   \n",
       "1        2021-01-09                          207     103668.0   \n",
       "2        2021-01-16                          728     103958.0   \n",
       "3        2021-01-23                         1249     104115.0   \n",
       "4        2021-01-30                         2087     104358.0   \n",
       "5        2021-02-06                         2931     104671.0   \n",
       "6        2021-02-13                         4187     104669.0   \n",
       "7        2021-02-20                         5131     104720.0   \n",
       "8        2021-02-27                         6089     104985.0   \n",
       "9        2021-03-06                         7045     105151.0   \n",
       "10       2021-03-13                         8316     105265.0   \n",
       "11       2021-03-20                         9896     105277.0   \n",
       "12       2021-03-27                        12008     105332.0   \n",
       "13       2021-04-03                        14200     105185.0   \n",
       "14       2021-04-10                        17144     105176.0   \n",
       "15       2021-04-17                        20424     105278.0   \n",
       "16       2021-04-24                        23967     105118.0   \n",
       "17       2021-05-01                        27116     105100.0   \n",
       "18       2021-05-08                        30168     105116.0   \n",
       "19       2021-05-15                        32928     105201.0   \n",
       "20       2021-05-22                        35418     105411.0   \n",
       "21       2021-05-29                        37551     105479.0   \n",
       "22       2021-06-05                        39322     105422.0   \n",
       "23       2021-06-12                        41166     105553.0   \n",
       "24       2021-06-19                        42675     105631.0   \n",
       "25       2021-06-26                        43991     105747.0   \n",
       "26       2021-07-03                        45220     105654.0   \n",
       "27       2021-07-10                        46451     105571.0   \n",
       "28       2021-07-17                        47516     105590.0   \n",
       "29       2021-07-24                        48705     105650.0   \n",
       "30       2021-07-31                        49819     105773.0   \n",
       "31       2021-08-07                        50979     105985.0   \n",
       "32       2021-08-14                        52254     105991.0   \n",
       "33       2021-08-21                        53571     106081.0   \n",
       "34       2021-08-28                        55008     105989.0   \n",
       "35       2021-09-04                        56508     106019.0   \n",
       "36       2021-09-11                        58201     106012.0   \n",
       "37       2021-09-18                        60302     106166.0   \n",
       "38       2021-09-25                        62157     106252.0   \n",
       "39       2021-10-02                        63500     106365.0   \n",
       "40       2021-10-09                        64719     106446.0   \n",
       "41       2021-10-16                        65820     106505.0   \n",
       "42       2021-10-23                        66865     106642.0   \n",
       "43       2021-10-30                        67645     106696.0   \n",
       "44       2021-11-06                        68662     106950.0   \n",
       "45       2021-11-13                        69497     107249.0   \n",
       "46       2021-11-20                        70099     107349.0   \n",
       "47       2021-11-27                        70754     107693.0   \n",
       "48       2021-12-04                        71594     108148.0   \n",
       "49       2021-12-11                        71937     108013.0   \n",
       "50       2021-12-18                        72418     108248.0   \n",
       "51       2021-12-25                        72759     108112.0   \n",
       "52       2022-01-01                        73313     108451.0   \n",
       "\n",
       "    Vaccinated Coverage Percentage (%)  \n",
       "0                             0.000000  \n",
       "1                             0.199676  \n",
       "2                             0.700283  \n",
       "3                             1.199635  \n",
       "4                             1.999847  \n",
       "5                             2.800203  \n",
       "6                             4.000229  \n",
       "7                             4.899733  \n",
       "8                             5.799876  \n",
       "9                             6.699889  \n",
       "10                            7.900062  \n",
       "11                            9.399964  \n",
       "12                           11.400144  \n",
       "13                           13.500024  \n",
       "14                           16.300297  \n",
       "15                           19.400065  \n",
       "16                           22.800091  \n",
       "17                           25.800190  \n",
       "18                           28.699722  \n",
       "19                           31.300083  \n",
       "20                           33.599909  \n",
       "21                           35.600451  \n",
       "22                           37.299615  \n",
       "23                           39.000313  \n",
       "24                           40.400072  \n",
       "25                           41.600235  \n",
       "26                           42.800083  \n",
       "27                           43.999773  \n",
       "28                           45.000474  \n",
       "29                           46.100331  \n",
       "30                           47.099922  \n",
       "31                           48.100203  \n",
       "32                           49.300412  \n",
       "33                           50.500090  \n",
       "34                           51.899725  \n",
       "35                           53.299880  \n",
       "36                           54.900389  \n",
       "37                           56.799729  \n",
       "38                           58.499605  \n",
       "39                           59.700089  \n",
       "40                           60.799842  \n",
       "41                           61.799915  \n",
       "42                           62.700437  \n",
       "43                           63.399753  \n",
       "44                           64.200094  \n",
       "45                           64.799672  \n",
       "46                           65.300096  \n",
       "47                           65.699721  \n",
       "48                           66.200022  \n",
       "49                           66.600317  \n",
       "50                           66.900081  \n",
       "51                           67.299652  \n",
       "52                           67.600114  "
      ]
     },
     "execution_count": 33,
     "metadata": {},
     "output_type": "execute_result"
    }
   ],
   "source": [
    "#Percentage DF\n",
    "filter_df = data_df.loc[(data_df[\"Vaccination Coverage Status\"]==\"Fully Vaccinated\") & (data_df[\"Race and Ethnicity\"]==\"All Races/Ethnicity\"),: ]\n",
    "filter_df\n",
    "\n",
    "\n",
    "amount_week= filter_df.groupby([\"Week_Ending_Date\"])[\"Vaccination Coverage Amount\"].sum()\n",
    "amount_by_week2 = pd.DataFrame(amount_week)\n",
    "amount_by_week = amount_by_week2.reset_index()\n",
    "\n",
    "denom_week = filter_df.groupby([\"Week_Ending_Date\"])[\"Denominator\"].value_counts()\n",
    "denom_by_week2 = pd.DataFrame(denom_week)\n",
    "del denom_by_week2[\"Denominator\"]\n",
    "denom_by_week = denom_by_week2.reset_index()\n",
    "\n",
    "merge = pd.merge(amount_by_week,denom_by_week, on=\"Week_Ending_Date\")\n",
    "\n",
    "merge['Denominator'] = merge['Denominator'].str.replace(',', '').astype(float)\n",
    "\n",
    "merge[\"Vaccinated Coverage Percentage (%)\"] = (merge[\"Vaccination Coverage Amount\"] / merge[\"Denominator\"]) *100\n",
    "merge"
   ]
  },
  {
   "cell_type": "code",
   "execution_count": 34,
   "id": "68a2b653",
   "metadata": {},
   "outputs": [
    {
     "data": {
      "text/plain": [
       "<function matplotlib.pyplot.show(close=None, block=None)>"
      ]
     },
     "execution_count": 34,
     "metadata": {},
     "output_type": "execute_result"
    },
    {
     "data": {
      "image/png": "[encoded data removed]",
      "text/plain": [
       "<Figure size 432x288 with 1 Axes>"
      ]
     },
     "metadata": {
      "needs_background": "light"
     },
     "output_type": "display_data"
    },
    {
     "data": {
      "text/plain": [
       "<Figure size 720x1440 with 0 Axes>"
      ]
     },
     "metadata": {},
     "output_type": "display_data"
    }
   ],
   "source": [
    "#Build Line Plot \n",
    "merge.plot.line(x=\"Week_Ending_Date\", y=\"Vaccinated Coverage Percentage (%)\")\n",
    "plt.title(\"% of Pregnant Women Vaccinated in 2021 \")\n",
    "plt.ylim(0,100)\n",
    "plt.ylabel(\"Percentage Vaccinated (%)\")\n",
    "plt.grid()\n",
    "plt.figure(figsize=(10,20))\n",
    "plt.show"
   ]
  },
  {
   "cell_type": "markdown",
   "id": "18ead210",
   "metadata": {},
   "source": [
    "### Graphicial Representation of the Data"
   ]
  },
  {
   "cell_type": "code",
   "execution_count": 35,
   "id": "fb9ea9fd",
   "metadata": {},
   "outputs": [
    {
     "data": {
      "text/plain": [
       "<function matplotlib.pyplot.show(close=None, block=None)>"
      ]
     },
     "execution_count": 35,
     "metadata": {},
     "output_type": "execute_result"
    },
    {
     "data": {
      "image/png": "[encoded data removed]",
      "text/plain": [
       "<Figure size 432x288 with 1 Axes>"
      ]
     },
     "metadata": {
      "needs_background": "light"
     },
     "output_type": "display_data"
    },
    {
     "data": {
      "text/plain": [
       "<Figure size 720x1440 with 0 Axes>"
      ]
     },
     "metadata": {},
     "output_type": "display_data"
    }
   ],
   "source": [
    "#Import COVID Cases Data \n",
    "\n",
    "cases_file = \"Resources/pregnancy_covid_cases.csv\"\n",
    "cases_df = pd.read_csv(cases_file)\n",
    "\n",
    "# Convert the date to datetime64\n",
    "cases_df[\"Week of COVID-19 \"] = pd.to_datetime(cases_df[\"Week of COVID-19 \"], format='%Y-%m-%d')\n",
    "\n",
    "#Build Line Plot \n",
    "cases_df.plot.line(x=\"Week of COVID-19 \", y='Number of  COVID Cases')\n",
    "plt.title(\"Number of Pregnant Women that are COVID + in 2021\")\n",
    "plt.ylim(0,8000)\n",
    "plt.ylabel(\"COVID Case Count\")\n",
    "plt.grid()\n",
    "plt.figure(figsize=(10,20))\n",
    "plt.show"
   ]
  },
  {
   "cell_type": "code",
   "execution_count": 36,
   "id": "a1f15fa8",
   "metadata": {},
   "outputs": [
    {
     "data": {
      "text/plain": [
       "<function matplotlib.pyplot.show(close=None, block=None)>"
      ]
     },
     "execution_count": 36,
     "metadata": {},
     "output_type": "execute_result"
    },
    {
     "data": {
      "image/png": "[encoded data removed]",
      "text/plain": [
       "<Figure size 432x288 with 1 Axes>"
      ]
     },
     "metadata": {
      "needs_background": "light"
     },
     "output_type": "display_data"
    },
    {
     "data": {
      "text/plain": [
       "<Figure size 720x1440 with 0 Axes>"
      ]
     },
     "metadata": {},
     "output_type": "display_data"
    }
   ],
   "source": [
    "#Import COVID ICU/ Death Data \n",
    "\n",
    "ICU_file = \"Resources/pregnancy_ICU_death.csv\"\n",
    "ICU_df = pd.read_csv(ICU_file)\n",
    "\n",
    "#Build Line Plot \n",
    "ICU_df.plot.line(x=\"Month\", y='COVID Related ICU Admissions')\n",
    "plt.title(\"US COVID Related ICU Admissions of Pregnant Women in 2021\")\n",
    "plt.ylim(0,70)\n",
    "plt.ylabel(\"ICU Admission Count\")\n",
    "plt.xticks(rotation =90)\n",
    "plt.grid()\n",
    "plt.figure(figsize=(10,20))\n",
    "plt.show"
   ]
  },
  {
   "cell_type": "markdown",
   "id": "57b05a96",
   "metadata": {},
   "source": [
    "### COVID Deaths by Pregnancy"
   ]
  },
  {
   "cell_type": "code",
   "execution_count": 37,
   "id": "f82b0572",
   "metadata": {},
   "outputs": [
    {
     "data": {
      "text/plain": [
       "<function matplotlib.pyplot.show(close=None, block=None)>"
      ]
     },
     "execution_count": 37,
     "metadata": {},
     "output_type": "execute_result"
    },
    {
     "data": {
      "image/png": "[encoded data removed]",
      "text/plain": [
       "<Figure size 432x288 with 1 Axes>"
      ]
     },
     "metadata": {
      "needs_background": "light"
     },
     "output_type": "display_data"
    },
    {
     "data": {
      "text/plain": [
       "<Figure size 720x1440 with 0 Axes>"
      ]
     },
     "metadata": {},
     "output_type": "display_data"
    }
   ],
   "source": [
    "#Build Line Plot \n",
    "ICU_df.plot.line(x=\"Month\", y='COVID Related Deaths')\n",
    "plt.title(\"US COVID Related Deaths of Pregnant Women in 2021\")\n",
    "plt.ylim(0,50)\n",
    "plt.ylabel(\"COVID Related Death Count\")\n",
    "plt.xticks(rotation =90)\n",
    "plt.grid()\n",
    "plt.figure(figsize=(10,20))\n",
    "plt.show"
   ]
  },
  {
   "cell_type": "code",
   "execution_count": 38,
   "id": "e9d2bc7f",
   "metadata": {},
   "outputs": [
    {
     "data": {
      "text/plain": [
       "<function matplotlib.pyplot.show(close=None, block=None)>"
      ]
     },
     "execution_count": 38,
     "metadata": {},
     "output_type": "execute_result"
    },
    {
     "data": {
      "image/png": "[encoded data removed]",
      "text/plain": [
       "<Figure size 432x288 with 1 Axes>"
      ]
     },
     "metadata": {
      "needs_background": "light"
     },
     "output_type": "display_data"
    },
    {
     "data": {
      "text/plain": [
       "<Figure size 720x1440 with 0 Axes>"
      ]
     },
     "metadata": {},
     "output_type": "display_data"
    }
   ],
   "source": [
    "#Import COVID ICU/ Death Data \n",
    "\n",
    "total_file = \"Resources/total_month.csv\"\n",
    "total_df = pd.read_csv(total_file)\n",
    "\n",
    "total_df[\"% of Cases Leading to Death\"]= (total_df[\"COVID Related Deaths\"]/total_df[\"COVID Case Count\"])*100\n",
    "total_df\n",
    "\n",
    "#Build Line Plot \n",
    "total_df.plot.line(x=\"Month\", y=\"% of Cases Leading to Death\")\n",
    "plt.title(\"US COVID % of Cases Leading to Death of Pregnant Women in 2021\")\n",
    "plt.ylim(0,1)\n",
    "plt.ylabel(\"% of Cases Leading to Death\")\n",
    "plt.xticks(rotation =90)\n",
    "plt.grid()\n",
    "plt.figure(figsize=(10,20))\n",
    "plt.show"
   ]
  },
  {
   "cell_type": "markdown",
   "id": "3ceee2b6",
   "metadata": {},
   "source": [
    "## COVID-19 Vaccination - Race/Ethnicity"
   ]
  },
  {
   "cell_type": "markdown",
   "id": "d8cfb165",
   "metadata": {},
   "source": [
    "### Clean COVID-19 Vaccination Data"
   ]
  },
  {
   "cell_type": "code",
   "execution_count": 49,
   "id": "04f4a39b",
   "metadata": {},
   "outputs": [
    {
     "data": {
      "text/html": [
       "<div>\n",
       "<style scoped>\n",
       "    .dataframe tbody tr th:only-of-type {\n",
       "        vertical-align: middle;\n",
       "    }\n",
       "\n",
       "    .dataframe tbody tr th {\n",
       "        vertical-align: top;\n",
       "    }\n",
       "\n",
       "    .dataframe thead th {\n",
       "        text-align: right;\n",
       "    }\n",
       "</style>\n",
       "<table border=\"1\" class=\"dataframe\">\n",
       "  <thead>\n",
       "    <tr style=\"text-align: right;\">\n",
       "      <th></th>\n",
       "      <th>Data as of</th>\n",
       "      <th>Start Date</th>\n",
       "      <th>End Date</th>\n",
       "      <th>Year</th>\n",
       "      <th>Month</th>\n",
       "      <th>Group</th>\n",
       "      <th>State</th>\n",
       "      <th>Indicator</th>\n",
       "      <th>Non-Hispanic White</th>\n",
       "      <th>Non-Hispanic Black or African American</th>\n",
       "      <th>Non-Hispanic American Indian or Alaska Native</th>\n",
       "      <th>Non-Hispanic Asian</th>\n",
       "      <th>Non-Hispanic Native Hawaiian or Other Pacific Islander</th>\n",
       "      <th>Non Hispanic more than one race</th>\n",
       "      <th>Hispanic or Latino</th>\n",
       "      <th>Footnote</th>\n",
       "    </tr>\n",
       "  </thead>\n",
       "  <tbody>\n",
       "    <tr>\n",
       "      <th>0</th>\n",
       "      <td>08/03/2022</td>\n",
       "      <td>01/01/2020</td>\n",
       "      <td>07/30/2022</td>\n",
       "      <td>2020-2022</td>\n",
       "      <td>NaN</td>\n",
       "      <td>By Total</td>\n",
       "      <td>United States</td>\n",
       "      <td>Count of COVID-19 deaths</td>\n",
       "      <td>664292.0</td>\n",
       "      <td>145361.0</td>\n",
       "      <td>11240.0</td>\n",
       "      <td>32105.0</td>\n",
       "      <td>2177.0</td>\n",
       "      <td>3921.0</td>\n",
       "      <td>162888.0</td>\n",
       "      <td>NaN</td>\n",
       "    </tr>\n",
       "    <tr>\n",
       "      <th>1</th>\n",
       "      <td>08/03/2022</td>\n",
       "      <td>01/01/2020</td>\n",
       "      <td>07/30/2022</td>\n",
       "      <td>2020-2022</td>\n",
       "      <td>NaN</td>\n",
       "      <td>By Total</td>\n",
       "      <td>United States</td>\n",
       "      <td>Distribution of COVID-19 deaths (%)</td>\n",
       "      <td>64.8</td>\n",
       "      <td>14.2</td>\n",
       "      <td>1.1</td>\n",
       "      <td>3.1</td>\n",
       "      <td>0.2</td>\n",
       "      <td>0.4</td>\n",
       "      <td>15.9</td>\n",
       "      <td>NaN</td>\n",
       "    </tr>\n",
       "    <tr>\n",
       "      <th>2</th>\n",
       "      <td>08/03/2022</td>\n",
       "      <td>01/01/2020</td>\n",
       "      <td>07/30/2022</td>\n",
       "      <td>2020-2022</td>\n",
       "      <td>NaN</td>\n",
       "      <td>By Total</td>\n",
       "      <td>United States</td>\n",
       "      <td>Unweighted distribution of population (%)</td>\n",
       "      <td>59.7</td>\n",
       "      <td>12.6</td>\n",
       "      <td>0.7</td>\n",
       "      <td>5.9</td>\n",
       "      <td>0.2</td>\n",
       "      <td>2.3</td>\n",
       "      <td>18.6</td>\n",
       "      <td>NaN</td>\n",
       "    </tr>\n",
       "    <tr>\n",
       "      <th>3</th>\n",
       "      <td>08/03/2022</td>\n",
       "      <td>01/01/2020</td>\n",
       "      <td>07/30/2022</td>\n",
       "      <td>2020-2022</td>\n",
       "      <td>NaN</td>\n",
       "      <td>By Total</td>\n",
       "      <td>United States</td>\n",
       "      <td>Weighted distribution of population (%)</td>\n",
       "      <td>40.8</td>\n",
       "      <td>13.5</td>\n",
       "      <td>0.4</td>\n",
       "      <td>9.6</td>\n",
       "      <td>0.2</td>\n",
       "      <td>2.2</td>\n",
       "      <td>33.3</td>\n",
       "      <td>NaN</td>\n",
       "    </tr>\n",
       "    <tr>\n",
       "      <th>4</th>\n",
       "      <td>08/03/2022</td>\n",
       "      <td>01/01/2020</td>\n",
       "      <td>12/31/2020</td>\n",
       "      <td>2020</td>\n",
       "      <td>NaN</td>\n",
       "      <td>By Year</td>\n",
       "      <td>United States</td>\n",
       "      <td>Count of COVID-19 deaths</td>\n",
       "      <td>232935.0</td>\n",
       "      <td>61583.0</td>\n",
       "      <td>4618.0</td>\n",
       "      <td>13599.0</td>\n",
       "      <td>695.0</td>\n",
       "      <td>1147.0</td>\n",
       "      <td>69506.0</td>\n",
       "      <td>NaN</td>\n",
       "    </tr>\n",
       "  </tbody>\n",
       "</table>\n",
       "</div>"
      ],
      "text/plain": [
       "   Data as of  Start Date    End Date       Year  Month     Group  \\\n",
       "0  08/03/2022  01/01/2020  07/30/2022  2020-2022    NaN  By Total   \n",
       "1  08/03/2022  01/01/2020  07/30/2022  2020-2022    NaN  By Total   \n",
       "2  08/03/2022  01/01/2020  07/30/2022  2020-2022    NaN  By Total   \n",
       "3  08/03/2022  01/01/2020  07/30/2022  2020-2022    NaN  By Total   \n",
       "4  08/03/2022  01/01/2020  12/31/2020       2020    NaN   By Year   \n",
       "\n",
       "           State                                  Indicator  \\\n",
       "0  United States                   Count of COVID-19 deaths   \n",
       "1  United States        Distribution of COVID-19 deaths (%)   \n",
       "2  United States  Unweighted distribution of population (%)   \n",
       "3  United States    Weighted distribution of population (%)   \n",
       "4  United States                   Count of COVID-19 deaths   \n",
       "\n",
       "   Non-Hispanic White  Non-Hispanic Black or African American  \\\n",
       "0            664292.0                                145361.0   \n",
       "1                64.8                                    14.2   \n",
       "2                59.7                                    12.6   \n",
       "3                40.8                                    13.5   \n",
       "4            232935.0                                 61583.0   \n",
       "\n",
       "   Non-Hispanic American Indian or Alaska Native  Non-Hispanic Asian  \\\n",
       "0                                        11240.0             32105.0   \n",
       "1                                            1.1                 3.1   \n",
       "2                                            0.7                 5.9   \n",
       "3                                            0.4                 9.6   \n",
       "4                                         4618.0             13599.0   \n",
       "\n",
       "   Non-Hispanic Native Hawaiian or Other Pacific Islander  \\\n",
       "0                                             2177.0        \n",
       "1                                                0.2        \n",
       "2                                                0.2        \n",
       "3                                                0.2        \n",
       "4                                              695.0        \n",
       "\n",
       "   Non Hispanic more than one race  Hispanic or Latino Footnote  \n",
       "0                           3921.0            162888.0      NaN  \n",
       "1                              0.4                15.9      NaN  \n",
       "2                              2.3                18.6      NaN  \n",
       "3                              2.2                33.3      NaN  \n",
       "4                           1147.0             69506.0      NaN  "
      ]
     },
     "execution_count": 49,
     "metadata": {},
     "output_type": "execute_result"
    }
   ],
   "source": [
    "# Importing Dataset1\n",
    "dataset1 = pd.read_csv(\"Resources/Provisional_COVID-19_Deaths__Distribution_of_Deaths_by_Race_and_Hispanic_Origin.csv\")\n",
    "dataset1.head(5)"
   ]
  },
  {
   "cell_type": "code",
   "execution_count": 50,
   "id": "81fd8e36",
   "metadata": {},
   "outputs": [
    {
     "name": "stdout",
     "output_type": "stream",
     "text": [
      "(7420, 16)\n",
      "118720\n"
     ]
    }
   ],
   "source": [
    "# Returns tuple of shape (Rows, columns)\n",
    "print(dataset1.shape)\n",
    "  \n",
    "# Returns size of dataframe\n",
    "print(dataset1.size)"
   ]
  },
  {
   "cell_type": "code",
   "execution_count": 51,
   "id": "711b3989",
   "metadata": {},
   "outputs": [
    {
     "name": "stdout",
     "output_type": "stream",
     "text": [
      "<class 'pandas.core.frame.DataFrame'>\n",
      "RangeIndex: 7420 entries, 0 to 7419\n",
      "Data columns (total 16 columns):\n",
      " #   Column                                                  Non-Null Count  Dtype  \n",
      "---  ------                                                  --------------  -----  \n",
      " 0   Data as of                                              7420 non-null   object \n",
      " 1   Start Date                                              7420 non-null   object \n",
      " 2   End Date                                                7420 non-null   object \n",
      " 3   Year                                                    7420 non-null   object \n",
      " 4   Month                                                   6572 non-null   float64\n",
      " 5   Group                                                   7420 non-null   object \n",
      " 6   State                                                   7420 non-null   object \n",
      " 7   Indicator                                               7420 non-null   object \n",
      " 8   Non-Hispanic White                                      7230 non-null   float64\n",
      " 9   Non-Hispanic Black or African American                  6650 non-null   float64\n",
      " 10  Non-Hispanic American Indian or Alaska Native           5888 non-null   float64\n",
      " 11  Non-Hispanic Asian                                      5890 non-null   float64\n",
      " 12  Non-Hispanic Native Hawaiian or Other Pacific Islander  6408 non-null   float64\n",
      " 13  Non Hispanic more than one race                         5860 non-null   float64\n",
      " 14  Hispanic or Latino                                      6404 non-null   float64\n",
      " 15  Footnote                                                3168 non-null   object \n",
      "dtypes: float64(8), object(8)\n",
      "memory usage: 927.6+ KB\n"
     ]
    }
   ],
   "source": [
    "# Information about Dataset1\n",
    "# return concise summary of dataframe\n",
    "dataset1.info() "
   ]
  },
  {
   "cell_type": "code",
   "execution_count": 52,
   "id": "e1e0d52f",
   "metadata": {},
   "outputs": [
    {
     "data": {
      "text/html": [
       "<div>\n",
       "<style scoped>\n",
       "    .dataframe tbody tr th:only-of-type {\n",
       "        vertical-align: middle;\n",
       "    }\n",
       "\n",
       "    .dataframe tbody tr th {\n",
       "        vertical-align: top;\n",
       "    }\n",
       "\n",
       "    .dataframe thead th {\n",
       "        text-align: right;\n",
       "    }\n",
       "</style>\n",
       "<table border=\"1\" class=\"dataframe\">\n",
       "  <thead>\n",
       "    <tr style=\"text-align: right;\">\n",
       "      <th></th>\n",
       "      <th>Month</th>\n",
       "      <th>Non-Hispanic White</th>\n",
       "      <th>Non-Hispanic Black or African American</th>\n",
       "      <th>Non-Hispanic American Indian or Alaska Native</th>\n",
       "      <th>Non-Hispanic Asian</th>\n",
       "      <th>Non-Hispanic Native Hawaiian or Other Pacific Islander</th>\n",
       "      <th>Non Hispanic more than one race</th>\n",
       "      <th>Hispanic or Latino</th>\n",
       "    </tr>\n",
       "  </thead>\n",
       "  <tbody>\n",
       "    <tr>\n",
       "      <th>count</th>\n",
       "      <td>6572.000000</td>\n",
       "      <td>7230.000000</td>\n",
       "      <td>6650.000000</td>\n",
       "      <td>5888.000000</td>\n",
       "      <td>5890.000000</td>\n",
       "      <td>6408.000000</td>\n",
       "      <td>5860.000000</td>\n",
       "      <td>6404.000000</td>\n",
       "    </tr>\n",
       "    <tr>\n",
       "      <th>mean</th>\n",
       "      <td>5.935484</td>\n",
       "      <td>599.656252</td>\n",
       "      <td>141.098962</td>\n",
       "      <td>12.209579</td>\n",
       "      <td>36.029898</td>\n",
       "      <td>2.084488</td>\n",
       "      <td>5.356809</td>\n",
       "      <td>162.189834</td>\n",
       "    </tr>\n",
       "    <tr>\n",
       "      <th>std</th>\n",
       "      <td>3.350127</td>\n",
       "      <td>9471.584068</td>\n",
       "      <td>2183.343095</td>\n",
       "      <td>184.383979</td>\n",
       "      <td>540.094714</td>\n",
       "      <td>35.096594</td>\n",
       "      <td>63.567792</td>\n",
       "      <td>2632.356466</td>\n",
       "    </tr>\n",
       "    <tr>\n",
       "      <th>min</th>\n",
       "      <td>1.000000</td>\n",
       "      <td>0.000000</td>\n",
       "      <td>0.000000</td>\n",
       "      <td>0.000000</td>\n",
       "      <td>0.000000</td>\n",
       "      <td>0.000000</td>\n",
       "      <td>0.000000</td>\n",
       "      <td>0.000000</td>\n",
       "    </tr>\n",
       "    <tr>\n",
       "      <th>25%</th>\n",
       "      <td>3.000000</td>\n",
       "      <td>54.100000</td>\n",
       "      <td>3.900000</td>\n",
       "      <td>0.100000</td>\n",
       "      <td>1.500000</td>\n",
       "      <td>0.000000</td>\n",
       "      <td>0.000000</td>\n",
       "      <td>4.875000</td>\n",
       "    </tr>\n",
       "    <tr>\n",
       "      <th>50%</th>\n",
       "      <td>6.000000</td>\n",
       "      <td>71.100000</td>\n",
       "      <td>12.100000</td>\n",
       "      <td>0.300000</td>\n",
       "      <td>3.400000</td>\n",
       "      <td>0.000000</td>\n",
       "      <td>1.800000</td>\n",
       "      <td>11.000000</td>\n",
       "    </tr>\n",
       "    <tr>\n",
       "      <th>75%</th>\n",
       "      <td>9.000000</td>\n",
       "      <td>88.000000</td>\n",
       "      <td>25.900000</td>\n",
       "      <td>0.900000</td>\n",
       "      <td>7.200000</td>\n",
       "      <td>0.100000</td>\n",
       "      <td>2.400000</td>\n",
       "      <td>23.000000</td>\n",
       "    </tr>\n",
       "    <tr>\n",
       "      <th>max</th>\n",
       "      <td>12.000000</td>\n",
       "      <td>664292.000000</td>\n",
       "      <td>145361.000000</td>\n",
       "      <td>11240.000000</td>\n",
       "      <td>32105.000000</td>\n",
       "      <td>2177.000000</td>\n",
       "      <td>3921.000000</td>\n",
       "      <td>162888.000000</td>\n",
       "    </tr>\n",
       "  </tbody>\n",
       "</table>\n",
       "</div>"
      ],
      "text/plain": [
       "             Month  Non-Hispanic White  \\\n",
       "count  6572.000000         7230.000000   \n",
       "mean      5.935484          599.656252   \n",
       "std       3.350127         9471.584068   \n",
       "min       1.000000            0.000000   \n",
       "25%       3.000000           54.100000   \n",
       "50%       6.000000           71.100000   \n",
       "75%       9.000000           88.000000   \n",
       "max      12.000000       664292.000000   \n",
       "\n",
       "       Non-Hispanic Black or African American  \\\n",
       "count                             6650.000000   \n",
       "mean                               141.098962   \n",
       "std                               2183.343095   \n",
       "min                                  0.000000   \n",
       "25%                                  3.900000   \n",
       "50%                                 12.100000   \n",
       "75%                                 25.900000   \n",
       "max                             145361.000000   \n",
       "\n",
       "       Non-Hispanic American Indian or Alaska Native  Non-Hispanic Asian  \\\n",
       "count                                    5888.000000         5890.000000   \n",
       "mean                                       12.209579           36.029898   \n",
       "std                                       184.383979          540.094714   \n",
       "min                                         0.000000            0.000000   \n",
       "25%                                         0.100000            1.500000   \n",
       "50%                                         0.300000            3.400000   \n",
       "75%                                         0.900000            7.200000   \n",
       "max                                     11240.000000        32105.000000   \n",
       "\n",
       "       Non-Hispanic Native Hawaiian or Other Pacific Islander  \\\n",
       "count                                        6408.000000        \n",
       "mean                                            2.084488        \n",
       "std                                            35.096594        \n",
       "min                                             0.000000        \n",
       "25%                                             0.000000        \n",
       "50%                                             0.000000        \n",
       "75%                                             0.100000        \n",
       "max                                          2177.000000        \n",
       "\n",
       "       Non Hispanic more than one race  Hispanic or Latino  \n",
       "count                      5860.000000         6404.000000  \n",
       "mean                          5.356809          162.189834  \n",
       "std                          63.567792         2632.356466  \n",
       "min                           0.000000            0.000000  \n",
       "25%                           0.000000            4.875000  \n",
       "50%                           1.800000           11.000000  \n",
       "75%                           2.400000           23.000000  \n",
       "max                        3921.000000       162888.000000  "
      ]
     },
     "execution_count": 52,
     "metadata": {},
     "output_type": "execute_result"
    }
   ],
   "source": [
    "dataset1.describe()"
   ]
  },
  {
   "cell_type": "code",
   "execution_count": 53,
   "id": "842b4df9",
   "metadata": {},
   "outputs": [
    {
     "data": {
      "text/plain": [
       "Data as of                                                   0\n",
       "Start Date                                                   0\n",
       "End Date                                                     0\n",
       "Year                                                         0\n",
       "Month                                                      848\n",
       "Group                                                        0\n",
       "State                                                        0\n",
       "Indicator                                                    0\n",
       "Non-Hispanic White                                         190\n",
       "Non-Hispanic Black or African American                     770\n",
       "Non-Hispanic American Indian or Alaska Native             1532\n",
       "Non-Hispanic Asian                                        1530\n",
       "Non-Hispanic Native Hawaiian or Other Pacific Islander    1012\n",
       "Non Hispanic more than one race                           1560\n",
       "Hispanic or Latino                                        1016\n",
       "Footnote                                                  4252\n",
       "dtype: int64"
      ]
     },
     "execution_count": 53,
     "metadata": {},
     "output_type": "execute_result"
    }
   ],
   "source": [
    "dataset1.isnull().sum()"
   ]
  },
  {
   "cell_type": "code",
   "execution_count": 54,
   "id": "6b6d4891",
   "metadata": {},
   "outputs": [
    {
     "data": {
      "text/plain": [
       "(0, 16)"
      ]
     },
     "execution_count": 54,
     "metadata": {},
     "output_type": "execute_result"
    }
   ],
   "source": [
    "dataset1.dropna(inplace = True)\n",
    "dataset1.shape"
   ]
  },
  {
   "cell_type": "code",
   "execution_count": 55,
   "id": "c5cd731d",
   "metadata": {},
   "outputs": [
    {
     "data": {
      "text/plain": [
       "Data as of                                                0.0\n",
       "Start Date                                                0.0\n",
       "End Date                                                  0.0\n",
       "Year                                                      0.0\n",
       "Month                                                     0.0\n",
       "Group                                                     0.0\n",
       "State                                                     0.0\n",
       "Indicator                                                 0.0\n",
       "Non-Hispanic White                                        0.0\n",
       "Non-Hispanic Black or African American                    0.0\n",
       "Non-Hispanic American Indian or Alaska Native             0.0\n",
       "Non-Hispanic Asian                                        0.0\n",
       "Non-Hispanic Native Hawaiian or Other Pacific Islander    0.0\n",
       "Non Hispanic more than one race                           0.0\n",
       "Hispanic or Latino                                        0.0\n",
       "Footnote                                                  0.0\n",
       "dtype: float64"
      ]
     },
     "execution_count": 55,
     "metadata": {},
     "output_type": "execute_result"
    }
   ],
   "source": [
    "dataset1.isnull().sum()"
   ]
  },
  {
   "cell_type": "code",
   "execution_count": 56,
   "id": "c59077f6",
   "metadata": {},
   "outputs": [
    {
     "data": {
      "text/plain": [
       "Index(['Data as of', 'Start Date', 'End Date', 'Year', 'Month', 'Group',\n",
       "       'State', 'Indicator', 'Non-Hispanic White',\n",
       "       'Non-Hispanic Black or African American',\n",
       "       'Non-Hispanic American Indian or Alaska Native', 'Non-Hispanic Asian',\n",
       "       'Non-Hispanic Native Hawaiian or Other Pacific Islander',\n",
       "       'Non Hispanic more than one race', 'Hispanic or Latino', 'Footnote'],\n",
       "      dtype='object')"
      ]
     },
     "execution_count": 56,
     "metadata": {},
     "output_type": "execute_result"
    }
   ],
   "source": [
    "# Columns labels of a Dataset1\n",
    "dataset1.columns"
   ]
  },
  {
   "cell_type": "code",
   "execution_count": null,
   "id": "6ee445e5",
   "metadata": {},
   "outputs": [],
   "source": [
    "# Drop Month, Group, Indicator, and Footnote rows from dataset1\n",
    "  \n",
    "dataset1.drop(['Month', 'Group', 'Indicator','Footnote'], \n",
    "              axis=1, inplace=True)\n",
    "  \n",
    "# Select random set of values from dataset1\n",
    "dataset1.sample(5)"
   ]
  },
  {
   "cell_type": "code",
   "execution_count": 58,
   "id": "e0c09546",
   "metadata": {},
   "outputs": [
    {
     "data": {
      "text/html": [
       "<div>\n",
       "<style scoped>\n",
       "    .dataframe tbody tr th:only-of-type {\n",
       "        vertical-align: middle;\n",
       "    }\n",
       "\n",
       "    .dataframe tbody tr th {\n",
       "        vertical-align: top;\n",
       "    }\n",
       "\n",
       "    .dataframe thead th {\n",
       "        text-align: right;\n",
       "    }\n",
       "</style>\n",
       "<table border=\"1\" class=\"dataframe\">\n",
       "  <thead>\n",
       "    <tr style=\"text-align: right;\">\n",
       "      <th></th>\n",
       "      <th>Year</th>\n",
       "      <th>Month</th>\n",
       "    </tr>\n",
       "  </thead>\n",
       "  <tbody>\n",
       "    <tr>\n",
       "      <th>count</th>\n",
       "      <td>68850.000000</td>\n",
       "      <td>63342.000000</td>\n",
       "    </tr>\n",
       "    <tr>\n",
       "      <th>mean</th>\n",
       "      <td>2020.480000</td>\n",
       "      <td>6.260870</td>\n",
       "    </tr>\n",
       "    <tr>\n",
       "      <th>std</th>\n",
       "      <td>0.499603</td>\n",
       "      <td>3.326042</td>\n",
       "    </tr>\n",
       "    <tr>\n",
       "      <th>min</th>\n",
       "      <td>2020.000000</td>\n",
       "      <td>1.000000</td>\n",
       "    </tr>\n",
       "    <tr>\n",
       "      <th>25%</th>\n",
       "      <td>2020.000000</td>\n",
       "      <td>3.000000</td>\n",
       "    </tr>\n",
       "    <tr>\n",
       "      <th>50%</th>\n",
       "      <td>2020.000000</td>\n",
       "      <td>6.000000</td>\n",
       "    </tr>\n",
       "    <tr>\n",
       "      <th>75%</th>\n",
       "      <td>2021.000000</td>\n",
       "      <td>9.000000</td>\n",
       "    </tr>\n",
       "    <tr>\n",
       "      <th>max</th>\n",
       "      <td>2021.000000</td>\n",
       "      <td>12.000000</td>\n",
       "    </tr>\n",
       "  </tbody>\n",
       "</table>\n",
       "</div>"
      ],
      "text/plain": [
       "               Year         Month\n",
       "count  68850.000000  63342.000000\n",
       "mean    2020.480000      6.260870\n",
       "std        0.499603      3.326042\n",
       "min     2020.000000      1.000000\n",
       "25%     2020.000000      3.000000\n",
       "50%     2020.000000      6.000000\n",
       "75%     2021.000000      9.000000\n",
       "max     2021.000000     12.000000"
      ]
     },
     "execution_count": 58,
     "metadata": {},
     "output_type": "execute_result"
    }
   ],
   "source": [
    "df.describe()"
   ]
  },
  {
   "cell_type": "code",
   "execution_count": 59,
   "id": "c1012f22",
   "metadata": {},
   "outputs": [
    {
     "data": {
      "text/plain": [
       "(0, 12)"
      ]
     },
     "execution_count": 59,
     "metadata": {},
     "output_type": "execute_result"
    }
   ],
   "source": [
    "dataset1.dropna(inplace = True)\n",
    "dataset1.shape"
   ]
  },
  {
   "cell_type": "markdown",
   "id": "61b23ae6",
   "metadata": {},
   "source": [
    "### Graphicial Representation of the Data"
   ]
  },
  {
   "cell_type": "code",
   "execution_count": 60,
   "id": "075a0993",
   "metadata": {},
   "outputs": [
    {
     "data": {
      "image/png": "[encoded data removed]",
      "text/plain": [
       "<Figure size 864x504 with 1 Axes>"
      ]
     },
     "metadata": {},
     "output_type": "display_data"
    }
   ],
   "source": [
    "# defining labels\n",
    "ethnicity = ['Non-Hispanic White', 'Non-Hispanic Black or African American','Non-Hispanic American Indian or Alaska Native', 'Non-Hispanic Asian','Non-Hispanic Native Hawaiian or Other Pacific Islander', 'Hispanic or Latino']\n",
    "# portion covered by each label\n",
    "deaths = [65.8, 13.4, 1.1, 3.0, 0.3, 15.9]\n",
    "  \n",
    "# color for each label\n",
    "colors = ['r', 'y', 'g', 'b','c','m']\n",
    "  \n",
    "# plotting the pie chart\n",
    "fig = plt.figure(figsize =(12, 7))\n",
    "plt.pie(deaths, labels = ethnicity, colors=colors, \n",
    "        startangle=90, shadow = True, explode = (None),\n",
    "        radius = 1.2, autopct = '%1.1f%%')\n",
    "plt.title(\"COVID 19 DEATH STATISTICS BY ETHNICITY\", bbox={'facecolor':'0.8', 'pad':5})  \n",
    "# showing the plot\n",
    "plt.show()"
   ]
  },
  {
   "cell_type": "code",
   "execution_count": null,
   "id": "9ca153d2",
   "metadata": {},
   "outputs": [],
   "source": [
    "# Importing Dataset2\n",
    "dataset2 = pd.read_csv(\"Resources/race_ethnicity_of_people_fully_vaccinated.csv\")\n",
    "dataset2.head(5) "
   ]
  },
  {
   "cell_type": "code",
   "execution_count": null,
   "id": "ed96d4bd",
   "metadata": {},
   "outputs": [],
   "source": [
    "# Returns tuple of shape (Rows, columns)\n",
    "print(dataset2.shape)\n",
    "  \n",
    "# Returns size of dataframe\n",
    "print(dataset2.size)"
   ]
  },
  {
   "cell_type": "code",
   "execution_count": null,
   "id": "8c83f397",
   "metadata": {},
   "outputs": [],
   "source": [
    "# Information about Dataset1\n",
    "# return concise summary of dataframe\n",
    "dataset2.info()"
   ]
  },
  {
   "cell_type": "code",
   "execution_count": null,
   "id": "f976351f",
   "metadata": {},
   "outputs": [],
   "source": [
    "dataset2.describe() "
   ]
  },
  {
   "cell_type": "code",
   "execution_count": null,
   "id": "eded91ea",
   "metadata": {},
   "outputs": [],
   "source": [
    "dataset2.isnull().sum()"
   ]
  },
  {
   "cell_type": "code",
   "execution_count": null,
   "id": "b4e9a62b",
   "metadata": {},
   "outputs": [],
   "source": [
    "# Columns labels of a Dataset2\n",
    "dataset2.columns"
   ]
  },
  {
   "cell_type": "code",
   "execution_count": null,
   "id": "5869cae0",
   "metadata": {},
   "outputs": [],
   "source": [
    "# Drop % People completed vaccination in Last 14 Days and # People completed vaccination in Last 14 Days rows from dataset2\n",
    "  \n",
    "dataset2.drop(['% People completed vaccination in Last 14 Days', '# People completed vaccination in Last 14 Days'], \n",
    "              axis=1, inplace=True)\n",
    "  \n",
    "# Select random set of values from dataset1\n",
    "dataset2.sample(5)"
   ]
  },
  {
   "cell_type": "code",
   "execution_count": null,
   "id": "f4c89b44",
   "metadata": {},
   "outputs": [],
   "source": [
    "# Columns labels of a Dataset2\n",
    "dataset2.columns"
   ]
  },
  {
   "cell_type": "code",
   "execution_count": null,
   "id": "e1431fb5",
   "metadata": {},
   "outputs": [],
   "source": [
    "#importing Data\n",
    "dataset2 = pd.read_csv(\"race_ethnicity_of_people_fully_vaccinated.csv\")\n",
    "df = pd.DataFrame(dataset2)\n",
    "\n",
    "X = list(df.iloc[:, 0])\n",
    "Y = list(df.iloc[:, 1])\n",
    "\n",
    "# Plot the data using bar() method\n",
    "fig, ax = plt.subplots(figsize =(16, 12))\n",
    "plt.barh(X, Y, color='g')\n",
    "plt.title(\"VACCINATED PEOPLE BY ETHNICITY\")\n",
    "plt.xlabel(\"% People Fully Vaccinated\")\n",
    "plt.ylabel(\"Race_Ethnicity\")\n",
    "\n",
    "# Show the plot\n",
    "plt.show()"
   ]
  }
 ],
 "metadata": {
  "kernelspec": {
   "display_name": "PythonData",
   "language": "python",
   "name": "pythondata"
  },
  "language_info": {
   "codemirror_mode": {
    "name": "ipython",
    "version": 3
   },
   "file_extension": ".py",
   "mimetype": "text/x-python",
   "name": "python",
   "nbconvert_exporter": "python",
   "pygments_lexer": "ipython3",
   "version": "3.9.7"
  }
 },
 "nbformat": 4,
 "nbformat_minor": 5
}
