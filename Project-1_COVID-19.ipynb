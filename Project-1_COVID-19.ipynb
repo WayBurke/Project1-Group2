{
 "cells": [
  {
   "cell_type": "markdown",
   "id": "bb6674bc",
   "metadata": {},
   "source": [
    "# PROJECT 1: IMPACTS OF COVID-19 VACCINATION STATUS"
   ]
  },
  {
   "cell_type": "markdown",
   "id": "f90726e3",
   "metadata": {},
   "source": [
    "**Note:** Hey Team, Below is a template that I created for us to add our code snippets. Please add additional dependencies as needed. See the order of analysis to find our area. Feel free to change the headings.. this is just a template."
   ]
  },
  {
   "cell_type": "markdown",
   "id": "1cce1439",
   "metadata": {},
   "source": [
    "### Description of Project\n",
    "\n"
   ]
  },
  {
   "cell_type": "markdown",
   "id": "1994107f",
   "metadata": {},
   "source": [
    "### Order of Analysis\n",
    "\n",
    "* COVID-19 Vaccination information for the Unitied States\n",
    "* COVID-19 Vaccination for Age\n",
    "* COVID-19 Vaccination for Sex\n",
    "* COVID-19 Vaccination for Pregnancy\n",
    "* COVID-19 Vaccination for Race/Ethnicity"
   ]
  },
  {
   "cell_type": "markdown",
   "id": "c45ea6e5",
   "metadata": {},
   "source": [
    "## Importing dependencies"
   ]
  },
  {
   "cell_type": "code",
   "execution_count": null,
   "id": "db01196f",
   "metadata": {},
   "outputs": [],
   "source": [
    "import pandas as pd\n",
    "import matplotlib.pyplot as plt\n",
    "import os\n",
    "import scipy.stats as st\n",
    "from scipy.stats import linregress\n",
    "import numpy as np\n",
    "\n",
    "import csv"
   ]
  },
  {
   "cell_type": "markdown",
   "id": "cd43edc3",
   "metadata": {},
   "source": [
    "## COVID-19 Vaccination - United States"
   ]
  },
  {
   "cell_type": "markdown",
   "id": "b26b875e",
   "metadata": {},
   "source": [
    "### Clean COVID-19 Vaccination Data"
   ]
  },
  {
   "cell_type": "code",
   "execution_count": null,
   "id": "32cc3438",
   "metadata": {},
   "outputs": [],
   "source": []
  },
  {
   "cell_type": "code",
   "execution_count": null,
   "id": "b325e688",
   "metadata": {},
   "outputs": [],
   "source": []
  },
  {
   "cell_type": "markdown",
   "id": "aa1f9423",
   "metadata": {},
   "source": [
    "### Graphicial Representation of the Data"
   ]
  },
  {
   "cell_type": "code",
   "execution_count": null,
   "id": "8a623f1f",
   "metadata": {},
   "outputs": [],
   "source": []
  },
  {
   "cell_type": "code",
   "execution_count": null,
   "id": "c1f80cf3",
   "metadata": {},
   "outputs": [],
   "source": []
  },
  {
   "cell_type": "markdown",
   "id": "eac6b795",
   "metadata": {},
   "source": [
    "### COVID Deaths by vaccination status"
   ]
  },
  {
   "cell_type": "code",
   "execution_count": null,
   "id": "8142fd2e",
   "metadata": {},
   "outputs": [],
   "source": []
  },
  {
   "cell_type": "code",
   "execution_count": null,
   "id": "d58d6e64",
   "metadata": {},
   "outputs": [],
   "source": []
  },
  {
   "cell_type": "markdown",
   "id": "ef834296",
   "metadata": {},
   "source": [
    "### Summary Statistics"
   ]
  },
  {
   "cell_type": "code",
   "execution_count": null,
   "id": "ac8fcce3",
   "metadata": {},
   "outputs": [],
   "source": []
  },
  {
   "cell_type": "code",
   "execution_count": null,
   "id": "2ca95000",
   "metadata": {},
   "outputs": [],
   "source": []
  },
  {
   "cell_type": "markdown",
   "id": "af59ca56",
   "metadata": {},
   "source": [
    "### Summary Analysis"
   ]
  },
  {
   "cell_type": "code",
   "execution_count": null,
   "id": "12d0a09a",
   "metadata": {},
   "outputs": [],
   "source": []
  },
  {
   "cell_type": "code",
   "execution_count": null,
   "id": "56566d8c",
   "metadata": {},
   "outputs": [],
   "source": []
  },
  {
   "cell_type": "markdown",
   "id": "38e3b403",
   "metadata": {},
   "source": [
    "## COVID-19 Vaccination - Age"
   ]
  },
  {
   "cell_type": "markdown",
   "id": "204073eb",
   "metadata": {},
   "source": [
    "### Clean COVID-19 Vaccination Data"
   ]
  },
  {
   "cell_type": "code",
   "execution_count": null,
   "id": "0e4103fa",
   "metadata": {},
   "outputs": [],
   "source": [
    "#Vaccinations By Age\n",
    "\n",
    "# Import our data into pandas from CSV\n",
    "cleaned_age_1stdose_csv = '../Resources/COVID-19_Vaccination_Age_and_Sex_Trends_in_the_United_States__National_and_Jurisdictional.csv'\n",
    "cleaned_age_1stdose = pd.read_csv(cleaned_age_1stdose_csv, low_memory=False)\n",
    "\n",
    "del cleaned_age_1stdose['Date']\n",
    "del cleaned_age_1stdose['Location']\n",
    "del cleaned_age_1stdose['census']\n",
    "del cleaned_age_1stdose['Series_Complete_Yes']\n",
    "del cleaned_age_1stdose['Administered_Dose1_pct_agegroup']\n",
    "del cleaned_age_1stdose['Series_Complete_Pop_pct_agegroup']\n",
    "del cleaned_age_1stdose['Booster_Doses']\n",
    "del cleaned_age_1stdose['Booster_Doses_Vax_pct_agegroup']\n",
    "\n",
    "\n",
    "cleaned_age_1stdose\n"
   ]
  },
  {
   "cell_type": "code",
   "execution_count": null,
   "id": "20d1c0fd",
   "metadata": {},
   "outputs": [],
   "source": [
    "sorted_df = cleaned_age_1stdose.sort_values(by='Demographic_Category')\n",
    "\n",
    "#sorted_df\n",
    "\n",
    "sorted_df = sorted_df.replace(\"Nan\", np.nan)\n",
    "new_sorted_df = sorted_df.groupby('Demographic_Category').first()\n",
    "print(new_sorted_df)"
   ]
  },
  {
   "cell_type": "code",
   "execution_count": null,
   "id": "921eda35",
   "metadata": {},
   "outputs": [],
   "source": [
    "sorted_df[(sorted_df.Demographic_Category != \"Age_Unknown\") & (sorted_df.Demographic_Category != \"Sex_Unknown\") \\\n",
    "          & (sorted_df.Demographic_Category != \"Ages_12-17_yrs\") & (sorted_df.Demographic_Category != \"Sex_Male\") & (sorted_df.Demographic_Category != \"Sex_Female\") \\\n",
    "          & (sorted_df.Demographic_Category != \"Male_Ages_<5yrs\") & (sorted_df.Demographic_Category != \"Male_Ages_75+_yrs\")\\\n",
    "          & (sorted_df.Demographic_Category != \"Male_Ages_65-74_yrs\") & (sorted_df.Demographic_Category != \"Male_Ages_65+_yrs\")\\\n",
    "          & (sorted_df.Demographic_Category != \"Male_Ages_50-64_yrs\") & (sorted_df.Demographic_Category != \"Male_Ages_5-11_yrs\")\\\n",
    "          & (sorted_df.Demographic_Category != \"Male_Ages_40-49_yrs\") & (sorted_df.Demographic_Category != \"Male_Ages_25-49_yrs\")\\\n",
    "          & (sorted_df.Demographic_Category != \"Male_Ages_25-39_yrs\") & (sorted_df.Demographic_Category != \"Male_Ages_18-24_yrs\")\\\n",
    "          & (sorted_df.Demographic_Category != \"Male_Ages_12-17_yrs\") & (sorted_df.Demographic_Category != \"Female_Ages_<5yrs\")\\\n",
    "          & (sorted_df.Demographic_Category != \"Female_Ages_75+_yrs\") & (sorted_df.Demographic_Category != \"Female_Ages_65-74_yrs\")\\\n",
    "          & (sorted_df.Demographic_Category != \"Female_Ages_65+_yrs\") & (sorted_df.Demographic_Category != \"Female_Ages_50-64_yrs\")\\\n",
    "          & (sorted_df.Demographic_Category != \"Female_Ages_5-11_yrs\")& (sorted_df.Demographic_Category != \"Female_Ages_40-49_yrs\")\\\n",
    "          & (sorted_df.Demographic_Category != \"Female_Ages_25-49_yrs\")& (sorted_df.Demographic_Category != \"Female_Ages_25-39_yrs\")\\\n",
    "          & (sorted_df.Demographic_Category != \"Female_Ages_18-24_yrs\")& (sorted_df.Demographic_Category != \"Female_Ages_12-17_yrs\") & (sorted_df.Demographic_Category != \"Ages_<5yrs\")\\\n",
    "          & (sorted_df.Demographic_Category != \"Ages_5-11_yrs\") & (sorted_df.Demographic_Category != \"Ages_65+_yrs\") & (sorted_df.Demographic_Category != \"Ages_25-49_yrs\")]\n",
    "         "
   ]
  },
  {
   "cell_type": "code",
   "execution_count": null,
   "id": "c9d88d65",
   "metadata": {},
   "outputs": [],
   "source": [
    "sorted_df = pd.DataFrame(sorted_df)\n",
    "  \n",
    "X = list(sorted_df.iloc[:, 0])\n",
    "Y = list(sorted_df.iloc[:, 1])\n",
    "  \n",
    "# Plot the data using bar() method\n",
    "#plt.figure(figsize=(5,5))  #sizing chart. might be better way\n",
    "plt.barh(X, Y, color='g')\n",
    "plt.title(\"Covid Vaccinations by Age\")\n",
    "plt.xlabel(\"Number of Vaccinated (in MM)\")\n",
    "plt.ylabel(\"Age Groups\")\n",
    "plt.xticks(rotation=90)\n",
    "plt.tight_layout()"
   ]
  },
  {
   "cell_type": "code",
   "execution_count": null,
   "id": "ab37b02f",
   "metadata": {},
   "outputs": [],
   "source": [
    "# Import our data into pandas from CSV\n",
    "age_vacc_csv = '../Resources/age_vacc_cleaned.csv'\n",
    "age_vacc = pd.read_csv(age_vacc_csv, low_memory=False)\n",
    "\n",
    "age_vacc = age_vacc.drop(age_vacc.index [ [ 0,1,2,3 ] ])\n",
    "\n",
    "age_vacc"
   ]
  },
  {
   "cell_type": "code",
   "execution_count": null,
   "id": "0b5374e3",
   "metadata": {},
   "outputs": [],
   "source": [
    "age_vacc = pd.DataFrame(age_vacc)\n",
    "  \n",
    "X = list(age_vacc.iloc[:, 0])\n",
    "Y = list(age_vacc.iloc[:, 1])\n",
    "  \n",
    "# Plot the data using bar() method\n",
    "#plt.figure(figsize=(5,5))  #sizing chart. might be better way\n",
    "plt.barh(X, Y, color='g')\n",
    "plt.title(\"Covid Vaccinations by Age - 2021\")\n",
    "plt.xlabel(\"Number of Vaccinated (in MM)\")\n",
    "plt.ylabel(\"Age Groups\")\n",
    "plt.xticks(rotation=90)\n",
    "plt.tight_layout()\n",
    "\n",
    "\n",
    "\n",
    "# Show the plot\n",
    "plt.show()"
   ]
  },
  {
   "cell_type": "code",
   "execution_count": null,
   "id": "ba64a3ff",
   "metadata": {},
   "outputs": [],
   "source": [
    "#Number of Deaths\n",
    "# Import our data into pandas from CSV\n",
    "cleaned_death_csv = '../Resources/deaths_by_age_group_cleaned.csv'\n",
    "cleaned_death = pd.read_csv(cleaned_death_csv, low_memory=False)\n",
    "\n",
    "#drop columns/rows not needed\n",
    "cleaned_death = cleaned_death.drop(cleaned_death.index [ [ 0,1,2,3 ] ])\n",
    "del cleaned_death['Percentage of deaths']\n",
    "del cleaned_death['Percent of US population']\n",
    "\n",
    "cleaned_death"
   ]
  },
  {
   "cell_type": "code",
   "execution_count": null,
   "id": "0ad56b39",
   "metadata": {},
   "outputs": [],
   "source": [
    "cleaned_death = pd.DataFrame(cleaned_death)\n",
    "  \n",
    "X = list(cleaned_death.iloc[:, 0])\n",
    "Y = list(cleaned_death.iloc[:, 1])\n",
    "  \n",
    "# Plot the data using bar() method\n",
    "#plt.figure(figsize=(5,5))  #sizing chart. might be better way\n",
    "plt.barh(X, Y, color='r')\n",
    "plt.title(\"Total Covid Deaths\")\n",
    "plt.xlabel(\"Number of Deaths\")\n",
    "plt.ylabel(\"Age Groups\")\n",
    "plt.xticks(rotation=90)\n",
    "plt.tight_layout()\n",
    "\n",
    "\n",
    "\n",
    "# Show the plot\n",
    "plt.show()"
   ]
  },
  {
   "cell_type": "code",
   "execution_count": null,
   "id": "0c87ead5",
   "metadata": {},
   "outputs": [],
   "source": []
  },
  {
   "cell_type": "code",
   "execution_count": null,
   "id": "20a6b523",
   "metadata": {},
   "outputs": [],
   "source": []
  },
  {
   "cell_type": "code",
   "execution_count": null,
   "id": "c5d91e77",
   "metadata": {},
   "outputs": [],
   "source": []
  },
  {
   "cell_type": "code",
   "execution_count": null,
   "id": "b9e5dc4f",
   "metadata": {},
   "outputs": [],
   "source": []
  },
  {
   "cell_type": "markdown",
   "id": "ad068905",
   "metadata": {},
   "source": [
    "### Graphicial Representation of the Data"
   ]
  },
  {
   "cell_type": "code",
   "execution_count": null,
   "id": "110983ff",
   "metadata": {},
   "outputs": [],
   "source": []
  },
  {
   "cell_type": "code",
   "execution_count": null,
   "id": "6e36f854",
   "metadata": {},
   "outputs": [],
   "source": []
  },
  {
   "cell_type": "markdown",
   "id": "dbe48e57",
   "metadata": {},
   "source": [
    "### COVID Deaths by Age "
   ]
  },
  {
   "cell_type": "code",
   "execution_count": null,
   "id": "bc3b08ef",
   "metadata": {},
   "outputs": [],
   "source": []
  },
  {
   "cell_type": "code",
   "execution_count": null,
   "id": "3bada7cf",
   "metadata": {},
   "outputs": [],
   "source": []
  },
  {
   "cell_type": "markdown",
   "id": "0ca03e0c",
   "metadata": {},
   "source": [
    "### Summary Statistics"
   ]
  },
  {
   "cell_type": "code",
   "execution_count": null,
   "id": "3bbfe2f2",
   "metadata": {},
   "outputs": [],
   "source": []
  },
  {
   "cell_type": "code",
   "execution_count": null,
   "id": "b0091ca4",
   "metadata": {},
   "outputs": [],
   "source": []
  },
  {
   "cell_type": "markdown",
   "id": "6a4e2fd1",
   "metadata": {},
   "source": [
    "### Summary Analysis"
   ]
  },
  {
   "cell_type": "code",
   "execution_count": null,
   "id": "91390ac8",
   "metadata": {},
   "outputs": [],
   "source": []
  },
  {
   "cell_type": "code",
   "execution_count": null,
   "id": "342dacc2",
   "metadata": {},
   "outputs": [],
   "source": []
  },
  {
   "cell_type": "markdown",
   "id": "1a540ca8",
   "metadata": {},
   "source": [
    "## COVID-19 Vaccination - Sex"
   ]
  },
  {
   "cell_type": "markdown",
   "id": "584e8f70",
   "metadata": {},
   "source": [
    "### Clean COVID-19 Vaccination Data"
   ]
  },
  {
   "cell_type": "code",
   "execution_count": null,
   "id": "be009143",
   "metadata": {},
   "outputs": [],
   "source": []
  },
  {
   "cell_type": "code",
   "execution_count": null,
   "id": "69775453",
   "metadata": {},
   "outputs": [],
   "source": []
  },
  {
   "cell_type": "markdown",
   "id": "7fb5297d",
   "metadata": {},
   "source": [
    "### Graphicial Representation of the Data"
   ]
  },
  {
   "cell_type": "code",
   "execution_count": null,
   "id": "62ac4100",
   "metadata": {},
   "outputs": [],
   "source": []
  },
  {
   "cell_type": "code",
   "execution_count": null,
   "id": "2a808841",
   "metadata": {},
   "outputs": [],
   "source": []
  },
  {
   "cell_type": "markdown",
   "id": "de6013b5",
   "metadata": {},
   "source": [
    "### COVID Deaths by Sex"
   ]
  },
  {
   "cell_type": "code",
   "execution_count": null,
   "id": "477e3091",
   "metadata": {},
   "outputs": [],
   "source": []
  },
  {
   "cell_type": "code",
   "execution_count": null,
   "id": "02749664",
   "metadata": {},
   "outputs": [],
   "source": []
  },
  {
   "cell_type": "markdown",
   "id": "19b31424",
   "metadata": {},
   "source": [
    "### Summary Statistics"
   ]
  },
  {
   "cell_type": "code",
   "execution_count": null,
   "id": "4acbd719",
   "metadata": {},
   "outputs": [],
   "source": []
  },
  {
   "cell_type": "code",
   "execution_count": null,
   "id": "8911b7c0",
   "metadata": {},
   "outputs": [],
   "source": []
  },
  {
   "cell_type": "markdown",
   "id": "0815e9fd",
   "metadata": {},
   "source": [
    "### Summary Analysis"
   ]
  },
  {
   "cell_type": "code",
   "execution_count": null,
   "id": "bcec53e3",
   "metadata": {},
   "outputs": [],
   "source": []
  },
  {
   "cell_type": "code",
   "execution_count": null,
   "id": "f565ad8f",
   "metadata": {},
   "outputs": [],
   "source": []
  },
  {
   "cell_type": "markdown",
   "id": "dea395b8",
   "metadata": {},
   "source": [
    "## COVID-19 Vaccination - Pregnancy"
   ]
  },
  {
   "cell_type": "markdown",
   "id": "fb0da89c",
   "metadata": {},
   "source": [
    "### Clean COVID-19 Vaccination Data"
   ]
  },
  {
   "cell_type": "code",
   "execution_count": null,
   "id": "5f834bb1",
   "metadata": {},
   "outputs": [],
   "source": [
    "#Create DF\n",
    "preg_file = \"Resources/pregnancy_data5.0.csv\"\n",
    "data_df = pd.read_csv(preg_file)\n",
    "\n",
    "\n",
    "# Convert the date to datetime64\n",
    "data_df[\"Week_Ending_Date\"] = pd.to_datetime(data_df[\"Week_Ending_Date\"], format='%Y-%m-%d')\n",
    "\n",
    "#Filter Vaccinated - All Races\n",
    "grouped_filter = data_df.groupby([\"Week_Ending_Date\"])[\"Vaccination Coverage Amount\"].sum()\n",
    "grouped_filter_df = pd.DataFrame(grouped_filter)\n",
    "clean_df = grouped_filter_df.reset_index()"
   ]
  },
  {
   "cell_type": "code",
   "execution_count": null,
   "id": "d7d2da3d",
   "metadata": {},
   "outputs": [],
   "source": [
    "#Build Line Plot \n",
    "clean_df.plot.line(x=\"Week_Ending_Date\", y=\"Vaccination Coverage Amount\")\n",
    "plt.title(\"Number of Pregnant Women Vaccinated in 2021 \")\n",
    "plt.grid()\n",
    "plt.figure(figsize=(10,20))\n",
    "plt.show"
   ]
  },
  {
   "cell_type": "code",
   "execution_count": null,
   "id": "8109f789",
   "metadata": {},
   "outputs": [],
   "source": [
    "#Percentage DF\n",
    "filter_df = data_df.loc[(data_df[\"Vaccination Coverage Status\"]==\"Fully Vaccinated\") & (data_df[\"Race and Ethnicity\"]==\"All Races/Ethnicity\"),: ]\n",
    "filter_df\n",
    "\n",
    "\n",
    "amount_week= filter_df.groupby([\"Week_Ending_Date\"])[\"Vaccination Coverage Amount\"].sum()\n",
    "amount_by_week2 = pd.DataFrame(amount_week)\n",
    "amount_by_week = amount_by_week2.reset_index()\n",
    "\n",
    "denom_week = filter_df.groupby([\"Week_Ending_Date\"])[\"Denominator\"].value_counts()\n",
    "denom_by_week2 = pd.DataFrame(denom_week)\n",
    "del denom_by_week2[\"Denominator\"]\n",
    "denom_by_week = denom_by_week2.reset_index()\n",
    "\n",
    "merge = pd.merge(amount_by_week,denom_by_week, on=\"Week_Ending_Date\")\n",
    "\n",
    "merge['Denominator'] = merge['Denominator'].str.replace(',', '').astype(float)\n",
    "\n",
    "merge[\"Vaccinated Coverage Percentage (%)\"] = (merge[\"Vaccination Coverage Amount\"] / merge[\"Denominator\"]) *100\n",
    "merge"
   ]
  },
  {
   "cell_type": "code",
   "execution_count": null,
   "id": "68a2b653",
   "metadata": {},
   "outputs": [],
   "source": [
    "#Build Line Plot \n",
    "merge.plot.line(x=\"Week_Ending_Date\", y=\"Vaccinated Coverage Percentage (%)\")\n",
    "plt.title(\"% of Pregnant Women Vaccinated in 2021 \")\n",
    "plt.ylim(0,100)\n",
    "plt.ylabel(\"Percentage Vaccinated (%)\")\n",
    "plt.grid()\n",
    "plt.figure(figsize=(10,20))\n",
    "plt.show"
   ]
  },
  {
   "cell_type": "markdown",
   "id": "18ead210",
   "metadata": {},
   "source": [
    "### Graphicial Representation of the Data"
   ]
  },
  {
   "cell_type": "code",
   "execution_count": null,
   "id": "fb9ea9fd",
   "metadata": {},
   "outputs": [],
   "source": [
    "#Import COVID Cases Data \n",
    "\n",
    "cases_file = \"Resources/pregnancy_covid_cases.csv\"\n",
    "cases_df = pd.read_csv(cases_file)\n",
    "\n",
    "# Convert the date to datetime64\n",
    "cases_df[\"Week of COVID-19 \"] = pd.to_datetime(cases_df[\"Week of COVID-19 \"], format='%Y-%m-%d')\n",
    "\n",
    "#Build Line Plot \n",
    "cases_df.plot.line(x=\"Week of COVID-19 \", y='Number of  COVID Cases')\n",
    "plt.title(\"Number of Pregnant Women that are COVID + in 2021\")\n",
    "plt.ylim(0,8000)\n",
    "plt.ylabel(\"COVID Case Count\")\n",
    "plt.grid()\n",
    "plt.figure(figsize=(10,20))\n",
    "plt.show"
   ]
  },
  {
   "cell_type": "code",
   "execution_count": null,
   "id": "a1f15fa8",
   "metadata": {},
   "outputs": [],
   "source": [
    "#Import COVID ICU/ Death Data \n",
    "\n",
    "ICU_file = \"Resources/pregnancy_ICU_death.csv\"\n",
    "ICU_df = pd.read_csv(ICU_file)\n",
    "\n",
    "#Build Line Plot \n",
    "ICU_df.plot.line(x=\"Month\", y='COVID Related ICU Admissions')\n",
    "plt.title(\"US COVID Related ICU Admissions of Pregnant Women in 2021\")\n",
    "plt.ylim(0,70)\n",
    "plt.ylabel(\"ICU Admission Count\")\n",
    "plt.xticks(rotation =90)\n",
    "plt.grid()\n",
    "plt.figure(figsize=(10,20))\n",
    "plt.show"
   ]
  },
  {
   "cell_type": "markdown",
   "id": "57b05a96",
   "metadata": {},
   "source": [
    "### COVID Deaths by Pregnancy"
   ]
  },
  {
   "cell_type": "code",
   "execution_count": null,
   "id": "f82b0572",
   "metadata": {},
   "outputs": [],
   "source": [
    "#Build Line Plot \n",
    "ICU_df.plot.line(x=\"Month\", y='COVID Related Deaths')\n",
    "plt.title(\"US COVID Related Deaths of Pregnant Women in 2021\")\n",
    "plt.ylim(0,50)\n",
    "plt.ylabel(\"COVID Related Death Count\")\n",
    "plt.xticks(rotation =90)\n",
    "plt.grid()\n",
    "plt.figure(figsize=(10,20))\n",
    "plt.show"
   ]
  },
  {
   "cell_type": "code",
   "execution_count": null,
   "id": "e9d2bc7f",
   "metadata": {},
   "outputs": [],
   "source": [
    "#Import COVID ICU/ Death Data \n",
    "\n",
    "total_file = \"Resources/total_month.csv\"\n",
    "total_df = pd.read_csv(total_file)\n",
    "\n",
    "total_df[\"% of Cases Leading to Death\"]= (total_df[\"COVID Related Deaths\"]/total_df[\"COVID Case Count\"])*100\n",
    "total_df\n",
    "\n",
    "#Build Line Plot \n",
    "total_df.plot.line(x=\"Month\", y=\"% of Cases Leading to Death\")\n",
    "plt.title(\"US COVID % of Cases Leading to Death of Pregnant Women in 2021\")\n",
    "plt.ylim(0,1)\n",
    "plt.ylabel(\"% of Cases Leading to Death\")\n",
    "plt.xticks(rotation =90)\n",
    "plt.grid()\n",
    "plt.figure(figsize=(10,20))\n",
    "plt.show"
   ]
  },
  {
   "cell_type": "markdown",
   "id": "636cbca1",
   "metadata": {},
   "source": [
    "### Summary Statistics"
   ]
  },
  {
   "cell_type": "code",
   "execution_count": null,
   "id": "d6475f66",
   "metadata": {},
   "outputs": [],
   "source": []
  },
  {
   "cell_type": "code",
   "execution_count": null,
   "id": "c7257758",
   "metadata": {},
   "outputs": [],
   "source": []
  },
  {
   "cell_type": "markdown",
   "id": "663130de",
   "metadata": {},
   "source": [
    "### Summary Analysis"
   ]
  },
  {
   "cell_type": "code",
   "execution_count": null,
   "id": "80ec9075",
   "metadata": {},
   "outputs": [],
   "source": []
  },
  {
   "cell_type": "code",
   "execution_count": null,
   "id": "86ef5bf8",
   "metadata": {},
   "outputs": [],
   "source": []
  },
  {
   "cell_type": "markdown",
   "id": "3ceee2b6",
   "metadata": {},
   "source": [
    "## COVID-19 Vaccination - Race/Ethnicity"
   ]
  },
  {
   "cell_type": "markdown",
   "id": "d8cfb165",
   "metadata": {},
   "source": [
    "### Clean COVID-19 Vaccination Data"
   ]
  },
  {
   "cell_type": "code",
   "execution_count": null,
   "id": "04f4a39b",
   "metadata": {},
   "outputs": [],
   "source": []
  },
  {
   "cell_type": "code",
   "execution_count": null,
   "id": "81fd8e36",
   "metadata": {},
   "outputs": [],
   "source": []
  },
  {
   "cell_type": "markdown",
   "id": "61b23ae6",
   "metadata": {},
   "source": [
    "### Graphicial Representation of the Data"
   ]
  },
  {
   "cell_type": "code",
   "execution_count": null,
   "id": "075a0993",
   "metadata": {},
   "outputs": [],
   "source": []
  },
  {
   "cell_type": "code",
   "execution_count": null,
   "id": "9ca153d2",
   "metadata": {},
   "outputs": [],
   "source": []
  },
  {
   "cell_type": "code",
   "execution_count": null,
   "id": "ed96d4bd",
   "metadata": {},
   "outputs": [],
   "source": []
  },
  {
   "cell_type": "markdown",
   "id": "01e7624a",
   "metadata": {},
   "source": [
    "### COVID Deaths by Race/Ethnicity"
   ]
  },
  {
   "cell_type": "code",
   "execution_count": null,
   "id": "8c83f397",
   "metadata": {},
   "outputs": [],
   "source": []
  },
  {
   "cell_type": "code",
   "execution_count": null,
   "id": "f2eb65cc",
   "metadata": {},
   "outputs": [],
   "source": []
  },
  {
   "cell_type": "markdown",
   "id": "c78300bd",
   "metadata": {},
   "source": [
    "### Summary Statistics"
   ]
  },
  {
   "cell_type": "code",
   "execution_count": null,
   "id": "86a8afd7",
   "metadata": {},
   "outputs": [],
   "source": []
  },
  {
   "cell_type": "code",
   "execution_count": null,
   "id": "b8881a22",
   "metadata": {},
   "outputs": [],
   "source": []
  },
  {
   "cell_type": "markdown",
   "id": "2ddf4cfc",
   "metadata": {},
   "source": [
    "### Summary Analysis"
   ]
  },
  {
   "cell_type": "code",
   "execution_count": null,
   "id": "15ec2b76",
   "metadata": {},
   "outputs": [],
   "source": []
  },
  {
   "cell_type": "code",
   "execution_count": null,
   "id": "38388a55",
   "metadata": {},
   "outputs": [],
   "source": []
  }
 ],
 "metadata": {
  "kernelspec": {
   "display_name": "PythonData",
   "language": "python",
   "name": "pythondata"
  },
  "language_info": {
   "codemirror_mode": {
    "name": "ipython",
    "version": 3
   },
   "file_extension": ".py",
   "mimetype": "text/x-python",
   "name": "python",
   "nbconvert_exporter": "python",
   "pygments_lexer": "ipython3",
   "version": "3.9.12"
  }
 },
 "nbformat": 4,
 "nbformat_minor": 5
}
